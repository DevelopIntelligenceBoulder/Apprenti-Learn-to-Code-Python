{
 "cells": [
  {
   "cell_type": "markdown",
   "metadata": {},
   "source": [
    "# Even More Python!"
   ]
  },
  {
   "cell_type": "markdown",
   "metadata": {
    "slideshow": {
     "slide_type": "slide"
    }
   },
   "source": [
    "# Program Statements\n",
    "* so far, we've used _assignment statements_\n",
    "* ...but in order to write useful programs, we need more complex program statements that will allow us to\n",
    "  * ask questions and do different things depending on the answer\n",
    "  * repeat actions a certain number of times\n",
    "  * repeat actions until until some condition becomes __True__ (or __False__)"
   ]
  },
  {
   "cell_type": "markdown",
   "metadata": {
    "slideshow": {
     "slide_type": "subslide"
    }
   },
   "source": [
    "## the __`if`__ statement\n",
    "* enables us to _ask a question_\n",
    "  * ...and do one thing if the answer is yes (__True__)\n",
    "    * ... and (optionally) do something else if the answer is no\n",
    "* examples..."
   ]
  },
  {
   "cell_type": "code",
   "execution_count": null,
   "metadata": {},
   "outputs": [],
   "source": [
    "number = int(input('Enter a number: '))\n",
    "if number == 1:\n",
    "    print('ONE')"
   ]
  },
  {
   "cell_type": "code",
   "execution_count": null,
   "metadata": {},
   "outputs": [],
   "source": [
    "year = int(input('Enter a year: '))\n",
    "\n",
    "if year >= 1901 and year <= 2000:\n",
    "    print(year, 'was in the 20th century')\n",
    "    print('yep, 2000 was the 20th century, not the 21st!')\n",
    "    \n",
    "print('...')"
   ]
  },
  {
   "cell_type": "markdown",
   "metadata": {},
   "source": [
    "### __`if`__ statement: More Details\n",
    "* the boolean expression after the __`if`__ statement is called the condition\n",
    "  * if the condition is __True__, then the indented statement (or statements) gets executed\n",
    "  * if the condition is __False__, then nothing happens\n",
    "* the __`if`__ statement is made up of a header and a block of statements, like so\n",
    "    \n",
    "<img src=\"images/compound.png\" alt=\"Drawing\" style=\"width: 250px;\"/>\n",
    "\n",
    "* the header begins on a new line and ends with a colon (:)\n",
    "* the indented statements that follow are called a block\n",
    "* the first unindented statement marks the end of the block\n",
    "* more examples..."
   ]
  },
  {
   "cell_type": "code",
   "execution_count": null,
   "metadata": {},
   "outputs": [],
   "source": [
    "number = int(input('Enter a number: '))\n",
    "if number == 1:\n",
    "    print('ONE')\n",
    "else:\n",
    "    print('NOT ONE')"
   ]
  },
  {
   "cell_type": "code",
   "execution_count": null,
   "metadata": {},
   "outputs": [],
   "source": [
    "name = input('Enter your name: ')\n",
    "if len(name) > 10:\n",
    "    print('Your name is longer than 10 characters')\n",
    "else:\n",
    "    print('Your name is 10 characters or less')"
   ]
  },
  {
   "cell_type": "markdown",
   "metadata": {},
   "source": [
    "## Exercise 1\n",
    "* write a Python if-statement to check if a variable if non-negative (>= 0) or negative (< 0)\n",
    "* write a Python if-statement to check"
   ]
  },
  {
   "cell_type": "markdown",
   "metadata": {
    "slideshow": {
     "slide_type": "subslide"
    }
   },
   "source": [
    "## Python Indentation\n",
    "* Python is the only modern language that cares about indentation\n",
    "  * in other words, by \"cares about\", we mean that your program will not work if the indentation is wrong\n",
    "* as we saw with the __`if`__ statement, we introduce a new block with a colon\n",
    "  * ...and then indent all of the statements in the block\n",
    "  * all statements in the block must be indented the same amount\n",
    "  * Python [recommends 4 spaces per level of indentation](https://peps.python.org/pep-0008/)"
   ]
  },
  {
   "cell_type": "markdown",
   "metadata": {
    "slideshow": {
     "slide_type": "subslide"
    }
   },
   "source": [
    "## Chained Conditionals\n",
    "* sometimes there are more than two possibilities so we need more than two branches\n",
    "* one way to express something like that is a chained conditional..."
   ]
  },
  {
   "cell_type": "code",
   "execution_count": null,
   "metadata": {},
   "outputs": [],
   "source": [
    "first = 15\n",
    "second = 15\n",
    "\n",
    "if first < second:\n",
    "    print(first, \"is less than\", second)\n",
    "elif first > second: # \"else if\"\n",
    "    print(first, \"is greater than\", second)\n",
    "else:\n",
    "    print(first, \"and\", second, \"are equal\")"
   ]
  },
  {
   "cell_type": "markdown",
   "metadata": {},
   "source": [
    "* __`elif`__ means _else if_, which is optional\n",
    "* there is no limit to the number of __`elif`__ statements\n",
    "* if there is an __`else`__, it has to be the last branch"
   ]
  },
  {
   "cell_type": "markdown",
   "metadata": {
    "slideshow": {
     "slide_type": "subslide"
    }
   },
   "source": [
    "## Nested Conditionals\n",
    "* one conditional can be nested within another\n",
    "* therefore, we could have written the previous __`if`__ statement as follows:\n"
   ]
  },
  {
   "cell_type": "code",
   "execution_count": null,
   "metadata": {},
   "outputs": [],
   "source": [
    "x, y = 15.2, 15.1\n",
    "\n",
    "if x == y:\n",
    "    print (x, \"and\", y, \"are equal\")\n",
    "else:\n",
    "    if x < y:\n",
    "        print(x, \"is less than\", y)\n",
    "    else:\n",
    "        print(x, \"is greater than\", y)"
   ]
  },
  {
   "attachments": {},
   "cell_type": "markdown",
   "metadata": {
    "slideshow": {
     "slide_type": "subslide"
    }
   },
   "source": [
    "## Lab 1: Odd-Even Program (our first \"real\" program!)\n",
    "* our task: determine if a number is ODD or EVEN\n",
    "\n",
    "* we always want to write down the steps *before* we write the code\n",
    "  * first, write the steps you would need to *explain to another person how to perform the task*\n",
    "    * in other words, you should be able to hand those steps to someone else and they should be able to perform the task without consulting you\n",
    "  * you will start to see that the above is enough for a human to be able to perform the task, but computers will often need to do things that humans don't\n",
    "    * we will see examples of this, so don't worry if it's non-obvious at the moment\n",
    "  * eventually, we'll refine the steps to enable us to convert them into code"
   ]
  },
  {
   "cell_type": "markdown",
   "metadata": {
    "slideshow": {
     "slide_type": "subslide"
    }
   },
   "source": [
    "### odd-even program ... steps for a human\n",
    "1. ask the \"player\" (or other person) to tell you a number\n",
    "1. if the number is even, tell the player \"even\"\n",
    "1. otherwise, tell the player \"odd\""
   ]
  },
  {
   "cell_type": "markdown",
   "metadata": {},
   "source": [
    "* do the preceding steps seem like something you could give to another person and have them follow?\n",
    "* do the preceding steps seem like something *you* could follow in order to write code?\n",
    "  * (Note: someone who's been programming for a while could read the above steps and write the code to perform those steps, but we're going to need more details, even if we don't know it yet...)"
   ]
  },
  {
   "cell_type": "code",
   "execution_count": null,
   "metadata": {},
   "outputs": [],
   "source": []
  },
  {
   "cell_type": "code",
   "execution_count": null,
   "metadata": {},
   "outputs": [],
   "source": []
  },
  {
   "cell_type": "markdown",
   "metadata": {},
   "source": [
    "## Lab 2: Leap Year Program\n",
    "* our task: determine if a year is a leap year or not\n",
    "* might be a bit more difficult than we think...\n",
    "  * a year is a leap year if\n",
    "    1. it's divisible by 4 AND\n",
    "    1. it's not divisible by 100 (i.e., 1900 was not a leap year) UNLESS\n",
    "    1. it's also divisible by 400 (i.e., 2000 was a leap year)"
   ]
  },
  {
   "cell_type": "markdown",
   "metadata": {},
   "source": [
    "### leap year program ... let's first write down the steps for a human\n",
    "1. ..."
   ]
  },
  {
   "cell_type": "code",
   "execution_count": null,
   "metadata": {},
   "outputs": [],
   "source": []
  },
  {
   "cell_type": "markdown",
   "metadata": {},
   "source": [
    "### then let's refine those steps into what we need our code to do"
   ]
  },
  {
   "cell_type": "code",
   "execution_count": null,
   "metadata": {},
   "outputs": [],
   "source": []
  },
  {
   "cell_type": "markdown",
   "metadata": {},
   "source": [
    "### eventually, when we have a running program, we'll need test cases\n",
    "* 2000 is a leap year b/c divisible by 4, 100, and 400\n",
    "* 2100 is NOT a leap year b/c divisible by 4, 100, and NOT 400\n",
    "* 2024 is a leap year b/c divisible by 4\n",
    "* 2023 is NOT a leap year b/c NOT divisible by 4"
   ]
  },
  {
   "cell_type": "code",
   "execution_count": null,
   "metadata": {},
   "outputs": [],
   "source": []
  },
  {
   "cell_type": "markdown",
   "metadata": {
    "slideshow": {
     "slide_type": "slide"
    }
   },
   "source": [
    "# The Art of Programming"
   ]
  },
  {
   "cell_type": "markdown",
   "metadata": {
    "jp-MarkdownHeadingCollapsed": true,
    "slideshow": {
     "slide_type": "subslide"
    },
    "tags": []
   },
   "source": [
    "## The Art of Programming\n",
    "* first off, what do we mean by programming?\n",
    "  * understanding the problem\n",
    "  * formulating a solution as a series of steps\n",
    "  * converting those steps into code\n",
    "  * testing your code\n",
    "  * fixing bugs\n",
    "* next, what do we mean by art?\n",
    "  * coding is a procedure we follow, and as such, we could argue there isn't much 'art' involved\n",
    "  * however, experienced programmers often use their intuition and deep understanding of problems and coding practices to \"finesse\" a solution\n",
    "  * in a sense they can \"see\" the problem clearer, and therefore generate a solution quicker and often better than those who are inexperienced\n",
    "* so how do new programmers get to that point?\n",
    "  * just like the old joke about Carnegie Hall–practice, practice, practice!"
   ]
  },
  {
   "cell_type": "markdown",
   "metadata": {
    "slideshow": {
     "slide_type": "subslide"
    }
   },
   "source": [
    "## Converting a Problem Into Code\n",
    "1. be sure you understand the problem (do not start coding yet)\n",
    "2. write down the sequence of steps you use to solve that problem yourself (do not start coding yet)\n",
    "3. convert each step into the code to perform it\n",
    "\n",
    "__DO NOT WRITE CODE UNTIL YOU KNOW WHAT YOU ARE WRITING AND WHY YOU ARE WRITING IT!__"
   ]
  },
  {
   "cell_type": "markdown",
   "metadata": {},
   "source": [
    "## Mental Models\n",
    "* a _mental model_ is an explanation of someone's thought process about how something works in the real world\n",
    "* mental models can help generate an approach to solving problems\n",
    "* Kenneth Craik suggested in 1943 that the mind constructs \"small-scale models\" of reality that it uses to anticipate events\n",
    "* oftentimes, bugs in our program occur because of an incorrect mental model\n",
    "  * if our understanding (or modeling) of a problem is flawed, then necessarily our code will be flawed\n",
    "* when code doesn't work, we may want to pay attention to our mental model and see if we can find flaws in it\n",
    "  * i.e., are there assumptions we are making which are untrue?"
   ]
  },
  {
   "cell_type": "markdown",
   "metadata": {
    "slideshow": {
     "slide_type": "slide"
    }
   },
   "source": [
    "## Iteration\n",
    "* to _iterate_ is to _repeat_ something (in the case of programming, we will be repeating some code)"
   ]
  },
  {
   "cell_type": "markdown",
   "metadata": {},
   "source": [
    "## Two types of loops: while and for\n",
    "* __while__ loop: use this when you don't know how many times you are going to repeat something\n",
    "  * even though it's a \"while\" loop, it's often helpful to think of it as an \"until\" loop\n",
    "  * let's think about \"while loops\" in English\n",
    "    * \"drive down this street until you see a traffic light, then turn left\"\n",
    "    * \"check every room of the house until you find the cat\"\n",
    "    * \"while the light is red, do not cross the street\" (until the light turns green)\n",
    "    * \"ask each student the date of their birthday UNTIL you find someone who was born in April\"\n",
    "    * can you think of more examples?"
   ]
  },
  {
   "cell_type": "markdown",
   "metadata": {},
   "source": [
    "* **for** loop: use this when DO know how many times you are going to repeat something\n",
    "  * let's think about \"for loops\" in English\n",
    "    * make breakfast *for* each person at the table\n",
    "    * spin *each* egg in the carton to be sure none are broken before buying\n",
    "    * distribute a worksheet to *each* student in the classroom\n",
    "    * can you think of more examples?"
   ]
  },
  {
   "cell_type": "markdown",
   "metadata": {
    "slideshow": {
     "slide_type": "subslide"
    }
   },
   "source": [
    "## The __`for`__ Loop\n",
    "* we use a __`for`__ loop when we want to repeat something a _known_ number of times\n",
    "* real world example–_drive for __5 blocks__ and then turn right_\n",
    "* in Python, __`for`__ loops are about looping through a _container_\n",
    "    * what's a container? a Python data type which can hold (or _contain_) zero or more (0+) other things\n",
    "    * we've only learned about one container so far, but we didn't call it that...anyone know?"
   ]
  },
  {
   "cell_type": "markdown",
   "metadata": {
    "slideshow": {
     "slide_type": "subslide"
    }
   },
   "source": [
    "### __`for`__ loop syntax\n",
    "   <pre>\n",
    "      <b>\n",
    "      for thing in container:\n",
    "          statement(s)\n",
    "      </b>\n",
    "   </pre>\n",
    "* __`thing`__ is actually a _variable_, whose name you will choose"
   ]
  },
  {
   "cell_type": "markdown",
   "metadata": {
    "slideshow": {
     "slide_type": "subslide"
    }
   },
   "source": [
    "### A picture or \"flow chart\" of a __`for`__ loop\n",
    "<img src=\"images/python_for_loop.jpg\" alt=\"flow\" style=\"width: 350px;\"/>"
   ]
  },
  {
   "cell_type": "code",
   "execution_count": null,
   "metadata": {},
   "outputs": [],
   "source": []
  },
  {
   "cell_type": "code",
   "execution_count": null,
   "metadata": {},
   "outputs": [],
   "source": [
    "# loop through a string (which is a container)\n",
    "\n",
    "for character in 'Learning to code is fun!':\n",
    "    print(character)"
   ]
  },
  {
   "cell_type": "code",
   "execution_count": null,
   "metadata": {},
   "outputs": [],
   "source": [
    "for digit in '3.14159':\n",
    "    print(digit) # is each one of these actually a digit?"
   ]
  },
  {
   "cell_type": "code",
   "execution_count": null,
   "metadata": {},
   "outputs": [],
   "source": []
  },
  {
   "cell_type": "code",
   "execution_count": null,
   "metadata": {},
   "outputs": [],
   "source": [
    "for number in range(1, 11):\n",
    "    print(number)"
   ]
  },
  {
   "cell_type": "code",
   "execution_count": null,
   "metadata": {},
   "outputs": [],
   "source": [
    "print(1, 2, 3, sep='...')"
   ]
  },
  {
   "cell_type": "markdown",
   "metadata": {
    "slideshow": {
     "slide_type": "subslide"
    }
   },
   "source": [
    "## Lab 3: for loops\n",
    "* write a Python program which asks the user for a string and then outputs the same string with each character duplicated\n",
    "  * e.g., if the user enters __Tesla__, your program will output __TTeessllaa__\n",
    "* write a Python program to compute __`n! (= n * n - 1 * n - 2 ... * 1)`__\n",
    "  * so if the user enters a 5, your program should compute __`5 * 4 * 3 * 2 * 1 (120)`__"
   ]
  },
  {
   "cell_type": "code",
   "execution_count": null,
   "metadata": {
    "scrolled": true
   },
   "outputs": [],
   "source": [
    "# let's write a counting / numeric range loop\n",
    "# count down from 100 to 0 by 5s\n",
    "for number in range(10, 0, -2):\n",
    "    print(number)"
   ]
  },
  {
   "cell_type": "code",
   "execution_count": null,
   "metadata": {},
   "outputs": [],
   "source": [
    "for thing in 'container':\n",
    "    print(thing, end='...')"
   ]
  },
  {
   "cell_type": "code",
   "execution_count": null,
   "metadata": {},
   "outputs": [],
   "source": [
    "# write a Python program which asks the user for a string and then\n",
    "# outputs the same string with each character duplicated\n",
    "# 1. get a word or sentence from user\n",
    "# 2. for each letter in that word/sentence\n",
    "# 3.     write that letter twice on the same line\n",
    "response = input('Give me a word or sentence: ') # 1\n",
    "for letter in response: # 2\n",
    "    print(letter * 2, end=' ') # 3"
   ]
  },
  {
   "cell_type": "code",
   "execution_count": null,
   "metadata": {},
   "outputs": [],
   "source": [
    "print('line 1', end='') # DO NOT print a newline (\\n) to after it prints\n",
    "print('line 2')"
   ]
  },
  {
   "cell_type": "code",
   "execution_count": null,
   "metadata": {},
   "outputs": [],
   "source": [
    "# write a Python program to compute n! = n * (n - 1) * (n - 2) ... * 1\n",
    "# 1. ask user for a number\n",
    "# 2. multiply number by number - 1\n",
    "# 3. keep doing step 2 until we multiply by 1\n",
    "\n",
    "# => more translatable to Python\n",
    "\n",
    "# 1. ask user for a number\n",
    "# 1a. set answer to the number\n",
    "# 2. for (each) number from (their number minus 1) down to 1:\n",
    "# 3.     multiply by that number\n",
    "# 4.  print result\n",
    "\n",
    "number = int(input('Enter a number: ')) # 1\n",
    "answer = number # 1a, start with their number\n",
    "for multiplier in range(number - 1, 1, -1):\n",
    "    print('multiply', answer, 'by', multiplier, end=' ')\n",
    "    answer = answer * multiplier # answer *= multiplier (3)\n",
    "    print('=', answer)\n",
    "print(number, '! = ', answer, sep='') # 4"
   ]
  },
  {
   "cell_type": "code",
   "execution_count": null,
   "metadata": {},
   "outputs": [],
   "source": [
    "# could we count upwards instead?\n",
    "number = int(input('Enter an integer: ')) # 1\n",
    "answer = number # 1a, start with their number\n",
    "\n",
    "for multiplier in range(2, number): # 1..number-1\n",
    "    print('multiply', answer, 'by', multiplier, end=' ')\n",
    "    answer = answer * multiplier # answer *= multiplier (3)\n",
    "    print('=', answer)\n",
    "print(number, '! = ', answer, sep='') # 4"
   ]
  },
  {
   "cell_type": "code",
   "execution_count": null,
   "metadata": {},
   "outputs": [],
   "source": [
    "type(number)"
   ]
  },
  {
   "cell_type": "code",
   "execution_count": null,
   "metadata": {},
   "outputs": [],
   "source": []
  },
  {
   "cell_type": "markdown",
   "metadata": {
    "slideshow": {
     "slide_type": "subslide"
    }
   },
   "source": [
    "## The __`while`__ Loop\n",
    "* we use a __`while`__ loop when we want to repeat something an _unknown_ number of times\n",
    "* real world example–_keep driving until you get to a traffic light, then turn right_\n",
    "* a __`while`__ loop checks a boolean condition and keeps going until the condition becomes false \n",
    "* much less common than __`for`__ loops\n",
    "* syntax\n",
    "\n",
    "   <pre>\n",
    "      <b>\n",
    "      while condition:\n",
    "          statement(s)\n",
    "      </b>\n",
    "   </pre>\n",
    "        \n",
    "<img src=\"images/python_while_loop.jpg\" alt=\"flow\" style=\"width: 350px;\"/>\n"
   ]
  },
  {
   "cell_type": "code",
   "execution_count": null,
   "metadata": {},
   "outputs": [],
   "source": [
    "# get a positive number from the user\n",
    "# keep asking until the user complies\n",
    "num = 0 # \"priming the pump\"\n",
    "while num < 1:\n",
    "    num = int(input(\"Enter a positive number: \"))\n",
    "    if num < 1:\n",
    "        print('The number needs to be >= 1')"
   ]
  },
  {
   "cell_type": "markdown",
   "metadata": {},
   "source": [
    "## Lab: while loops\n",
    "1. write Python code which prompts the user to enter a 5-letter string\n",
    "  * it then reads input from the user and stops if the user did in fact enter a 5-letter string\n",
    "  * otherwise, it prints an error message, and once again asks the user to enter a 5-letter string\n",
    "2. write a Python program which picks a random number between 1 and 100 and asks the user to guess it\n",
    "  * if the user's guess is too high, say it's too high\n",
    "  * if the user's guess is too low, say it's too low\n",
    "  * if the user's guess is correct, say it's correct and stop looping\n",
    "  * you can use the code below to get a random number\n",
    "  \n",
    "  <pre><b>\n",
    "  import random\n",
    "  number = random.randint(1, 100)\n",
    "  </b></pre>\n",
    "  \n"
   ]
  },
  {
   "cell_type": "code",
   "execution_count": null,
   "metadata": {},
   "outputs": [],
   "source": [
    "import random\n",
    "number = random.randint(1, 100)\n",
    "print(number)"
   ]
  },
  {
   "cell_type": "code",
   "execution_count": null,
   "metadata": {},
   "outputs": [],
   "source": [
    "# 1. generate a random number\n",
    "# 2. ask player to guess\n",
    "# 3. until guess equals number\n",
    "# 4.    \"you got it!\"\n",
    "# 4a.   stop asking\n",
    "# 5. else if guess > number\n",
    "# 6     \"too high\"\n",
    "# 7. else\n",
    "# 8.    \"too low\""
   ]
  },
  {
   "cell_type": "code",
   "execution_count": null,
   "metadata": {},
   "outputs": [],
   "source": [
    "# 1. ask the user for a 5-letter word/string\n",
    "# 2. count the number of letters\n",
    "# 3. if length != 5 try again\n",
    "\n",
    "# 1. ask the user for a 5-letter word/string\n",
    "# 2. keep asking until the word is 5 letters long\n",
    "\n",
    "# now let's try to get more towards steps that we can convert to Python\n",
    "# 1. ask the user for a 5-letter word/string\n",
    "# 2. while the string is not 5 letters long:\n",
    "# 3.     print error message\n",
    "# 4.     ask the user for a 5-letter word/string\n",
    "\n",
    "word = input('Enter a 5-letter string: ') # 1\n",
    "while len(word) != 5: # 2\n",
    "    print('That is not a 5-letter word!') # 3\n",
    "    word = input('Enter a 5-letter string: ') # 4"
   ]
  },
  {
   "cell_type": "code",
   "execution_count": null,
   "metadata": {},
   "outputs": [],
   "source": [
    "# while I'm not tired:\n",
    "#    jump rope\n",
    "#    if my kid needs help:\n",
    "#       stop and help my kid (break)\n",
    "\n",
    "# for (each) egg in the container:\n",
    "#.   ensure it spins (so that it's not broken)\n",
    "#.   if I find one that does NOT spin:\n",
    "#.      stop and go to next dozen (break)"
   ]
  },
  {
   "cell_type": "markdown",
   "metadata": {
    "slideshow": {
     "slide_type": "subslide"
    }
   },
   "source": [
    "## Syntax Common to Both __`for`__ and __`while`__ Loops\n",
    "* the __`break`__ statement is used to immediately exit a loop\n",
    "* let's see examples..."
   ]
  },
  {
   "cell_type": "code",
   "execution_count": null,
   "metadata": {},
   "outputs": [],
   "source": [
    "# Give the user up to 5 tries to comply\n",
    "\n",
    "# 1. up to 5 times\n",
    "# 2. ask the user for a 5-letter word\n",
    "\n",
    "# 1. for up to 5 times\n",
    "# 2.    get a word from the user\n",
    "# 3.    if it's a 5-letter word:\n",
    "# 4.       stop\n",
    "# 5.    print error message to help user understand\n",
    "\n",
    "for num_tries in range(5): # 1: do this 5 times (this is not \"up to\" but rather EXACTLY 5 times)\n",
    "    string = input('Enter a 5-letter string: ') # 2\n",
    "    if len(string) == 5: # 3\n",
    "        break # 4\n",
    "    print('Pay attention, you need to enter a 5-letter word!') # 5 \n",
    "\n",
    "# when we get out of the loop, we don't know why\n",
    "# so to check why, we can look at the length of the string\n",
    "if len(string) != 5:\n",
    "    print('you blew it')"
   ]
  },
  {
   "cell_type": "code",
   "execution_count": null,
   "metadata": {},
   "outputs": [],
   "source": [
    "# else example\n",
    "\n",
    "for num in range(5): # 1..5\n",
    "    word = input('Enter a 5-letter word: ')\n",
    "    if len(word) == 5:\n",
    "        break\n",
    "    print('Pay attention, you need to enter a 5-letter word!')\n",
    "else: # this is only executed if we didn't 'break' out of the loop\n",
    "    print(\"Why can't you follow directions?\")\n",
    "\n",
    "print('after the loop')"
   ]
  },
  {
   "cell_type": "markdown",
   "metadata": {},
   "source": [
    "## Lab 1: break/continue/else\n",
    "* modify your guessing game to add the option for the user to give up by typing a 0 as his or her guess:\n",
    "    * if the user enters a 0, exit the loop\n",
    "    * after the loop, we need to determine   \n",
    "    whether the user gave up or guessed the   \n",
    "    number correctly\n",
    "    * if gave up, print 'sorry you\n",
    "     gave up'\n",
    "    * if correct, print 'got it!'\n",
    "</pre>\n"
   ]
  },
  {
   "cell_type": "markdown",
   "metadata": {
    "slideshow": {
     "slide_type": "subslide"
    }
   },
   "source": [
    "## Post-Test Loops\n",
    "* occasionally we want a loop where the test is performed at the end of the loop\n",
    "* some languages have a special _do-while_ loop for this case, but that doesn't exist in Python\n",
    "* we can simulate a _do-while_ loop in Python as follows:\n",
    "\n",
    " <pre>\n",
    "      <b>\n",
    "      while True:\n",
    "          statement(s)\n",
    "          if condition is false:\n",
    "              break\n",
    "      </b>\n",
    "   </pre>"
   ]
  },
  {
   "cell_type": "code",
   "execution_count": null,
   "metadata": {},
   "outputs": [],
   "source": [
    "# keep adding numbers until user enters a 0\n",
    "\n",
    "total = 0\n",
    "\n",
    "while True: # infinite loop, so we must have a 'break' somewhere in the loop\n",
    "    num = int(input('Enter a number: '))\n",
    "    total += num\n",
    "    if num == 0:\n",
    "        break\n",
    "\n",
    "print(total)"
   ]
  },
  {
   "cell_type": "markdown",
   "metadata": {
    "slideshow": {
     "slide_type": "subslide"
    }
   },
   "source": [
    "## Middle-Test Loops\n",
    "* like a post-test loop, we want a loop where the test is not performed at the top\n",
    "* in this case the test is performed in the middle\n",
    "* no language has a middle-test loop construct\n",
    "* we can perform a middle-test loop in Python as follows:\n",
    "\n",
    " <pre>\n",
    "      <b>\n",
    "      while True:\n",
    "          statement(s)\n",
    "          if condition is false:\n",
    "              break\n",
    "          statement(s)\n",
    "      </b>\n",
    "   </pre>"
   ]
  },
  {
   "cell_type": "code",
   "execution_count": null,
   "metadata": {},
   "outputs": [],
   "source": [
    "# sum up the numbers until user hits return\n",
    "\n",
    "total = 0\n",
    "\n",
    "while True: \n",
    "    num = input(\"Enter the next number (leave blank to end): \")\n",
    "    if num == '':\n",
    "        break\n",
    "    total += int(num)\n",
    "    \n",
    "print(\"The total of the numbers you entered is\", total)"
   ]
  },
  {
   "cell_type": "markdown",
   "metadata": {
    "slideshow": {
     "slide_type": "subslide"
    }
   },
   "source": [
    "## Nested Loops\n",
    "* it is possible–and quite common–to have a loop inside a loop\n",
    "* in these cases, the inner loop(s) must complete before the outer loop continues"
   ]
  },
  {
   "cell_type": "code",
   "execution_count": null,
   "metadata": {},
   "outputs": [],
   "source": [
    "for first in range(1, 11):\n",
    "    # for each iteration of the outer loop, the inner loop\n",
    "    # will run to completion\n",
    "    for second in range(1, 11):\n",
    "        print(first * second, end=' ')\n",
    "        if first * second < 10:\n",
    "            print(' ', end='')\n",
    "        if first * second < 100:\n",
    "            print(' ', end='')\n",
    "        #print('%3d' % (first * second), end=' ') # Python 2-style\n",
    "        #print('{:3d}'.format(first * second), end=' ')\n",
    "    print()"
   ]
  },
  {
   "cell_type": "code",
   "execution_count": null,
   "metadata": {},
   "outputs": [],
   "source": []
  },
  {
   "cell_type": "markdown",
   "metadata": {
    "slideshow": {
     "slide_type": "subslide"
    }
   },
   "source": [
    "## Lab 2: Finding Prime Numbers\n",
    "* write a program to print out the prime numbers between 10 and 30\n",
    "* a number is prime if it's only divisible by 1 and itself\n",
    "* algorithm\n",
    "  * for each number 10 to 30\n",
    "    * try to divide in all of the numbers up to (but not including) the current number\n",
    "    * if any lower number divides in evenly, the number is not prime\n",
    "    * if NONE of the lower numbers divide in evenly, the number IS prime\n",
    "* later, if there's time, we'll look at another way to find prime numbers that was discovered by Eratosthenes"
   ]
  },
  {
   "cell_type": "code",
   "execution_count": null,
   "metadata": {},
   "outputs": [],
   "source": []
  }
 ],
 "metadata": {
  "celltoolbar": "Slideshow",
  "kernelspec": {
   "display_name": "Python 3 (ipykernel)",
   "language": "python",
   "name": "python3"
  },
  "language_info": {
   "codemirror_mode": {
    "name": "ipython",
    "version": 3
   },
   "file_extension": ".py",
   "mimetype": "text/x-python",
   "name": "python",
   "nbconvert_exporter": "python",
   "pygments_lexer": "ipython3",
   "version": "3.12.2"
  }
 },
 "nbformat": 4,
 "nbformat_minor": 4
}
