{
 "cells": [
  {
   "cell_type": "markdown",
   "metadata": {
    "slideshow": {
     "slide_type": "slide"
    }
   },
   "source": [
    "# Learn to Code"
   ]
  },
  {
   "cell_type": "markdown",
   "metadata": {
    "slideshow": {
     "slide_type": "subslide"
    }
   },
   "source": [
    "## About This Course\n",
    "* This course will teach you to write code, i.e., how to turn a __problem statement__ into code which will _solve_ that problem\n",
    "  * At its essence, that is ALL coding is about–converting a problem into code which solves that problem\n",
    "* It is _not_ easy–it will be challenging!\n",
    "* It will require a change in thinking!\n",
    "* ...and it will be fun!"
   ]
  },
  {
   "cell_type": "markdown",
   "metadata": {
    "slideshow": {
     "slide_type": "subslide"
    }
   },
   "source": [
    "## How to get around in Jupyter\n",
    "* Each place for you to enter text is called a _cell_\n",
    "* Usually you enter __`Python`__ code, but you can also enter text in a _markup_ language called __`Markdown`__ (that's what's going on in _this_ cell)\n",
    "* To \"run\" the code in the cell, hit __Shift-Return__ (i.e., hold down __Shift__ key, then hit __Return__)\n",
    "* Try it with the cell below..."
   ]
  },
  {
   "cell_type": "code",
   "execution_count": 1,
   "metadata": {
    "slideshow": {
     "slide_type": "-"
    }
   },
   "outputs": [
    {
     "name": "stdout",
     "output_type": "stream",
     "text": [
      "2024\n"
     ]
    }
   ],
   "source": [
    "year = 2024\n",
    "print(year)"
   ]
  },
  {
   "cell_type": "markdown",
   "metadata": {
    "slideshow": {
     "slide_type": "subslide"
    }
   },
   "source": [
    "* we'll work inside the Jupyter notebook and you'll be able to take it with you as a living, breathing document of your work in this class\n",
    "* the __Insert__ menu will allow you to add a cell above or below the current cell\n",
    "* the __Kernel__ menu will allow you to \"talk\" to the Python interpreter on your machine\n",
    "  * (when you type into a cell, you are \"talking\" to the web browser, and the web browser sends the text to the __`Python`__ interpreter to be \"run\")\n",
    "  * the __Kernel__ menu will allow you to _restart_ your __`Python`__ interpreter in case something goes wrong and it stops responding to you\n",
    "  "
   ]
  },
  {
   "cell_type": "markdown",
   "metadata": {
    "slideshow": {
     "slide_type": "slide"
    }
   },
   "source": [
    "# Computer Architecture\n",
    "* before we get into coding (programming), it's helpful to get a sense of what goes on inside a computer\n",
    "  * we don't need to be experts\n",
    "  * \"You don't have to be an engineer to be be a racing driver, but you do have to have Mechanical Sympathy.\"\n",
    "  –Jackie Stewart, racing driver\n",
    "    * to take a car to its limit, you need to understand how it works under the hood\n"
   ]
  },
  {
   "cell_type": "markdown",
   "metadata": {
    "slideshow": {
     "slide_type": "subslide"
    }
   },
   "source": [
    "## Basics of Computer Architecture\n",
    "* a computer consists of a __CPU__ (Central Processing Unit) and __memory__\n",
    "* let's talk about each of these components..."
   ]
  },
  {
   "cell_type": "markdown",
   "metadata": {},
   "source": [
    "### CPU\n",
    "  * somewhat analogous to a human brain\n",
    "  * the job of the CPU is to \"run code\" (code can also be called \"instructions\")\n",
    "  * there are two types of instructions:\n",
    "    * those that _transfer_ data from memory to the CPU (\"_load_\") or vice versa (\"_store_\")\n",
    "    * those that _operate_ on data that has been transferred into the CPU\n",
    "      * e.g., arithmetic operations such as addition or subtraction\n",
    "      * or _branching_, whereby the CPU is directed to skip some code and start running elsewhere in the code\n",
    "        * sort of like reading instructions to assemble a desk and seeing \"if your desk does not include the optional candy drawer, skip to step 14\"\n",
    "  * CPU _clock speed_ is the speed at which the CPU's internal clock _pulses_ or \"ticks\"\n",
    "    * the CPU can only do work (run an instruction) when the clock pulses\n",
    "    * like a drumbeat that signals when the next instruction can run\n",
    "    * if your CPU's clock speed is 3 GHz (Gigahertz), that means it can perform 3 billion operations each second\n",
    "      * try to find your CPU's clock speed!"
   ]
  },
  {
   "cell_type": "markdown",
   "metadata": {},
   "source": [
    "### Memory\n",
    "* also called RAM (Random Access Memory)\n",
    "* somewhat like the \"short term\" memory in our brains\n",
    "  * e.g., compute 10 + 33, 9 * 11, 65 / 13, and 88 - 14\n",
    "  * will you remember those numbers tomorrow, having slept (\"turned off your CPU\") between now and then?\n",
    "* data is stored in RAM while power is applied (i.e., computer is on)\n",
    "  * disappears when computer is turned off"
   ]
  },
  {
   "cell_type": "markdown",
   "metadata": {
    "slideshow": {
     "slide_type": "subslide"
    }
   },
   "source": [
    "## How Your Computer Runs an Application\n",
    "* the application (e.g., Google Chrome) is stored on your hard drive\n",
    "* when you double click on an application, the operating system (MacOS, Windows, Linux) loads the application (or more typically, a portion of it) into RAM (details are OS-specific and not important for our discussion)"
   ]
  },
  {
   "cell_type": "markdown",
   "metadata": {
    "slideshow": {
     "slide_type": "subslide"
    }
   },
   "source": [
    "* an application such as Google Chrome is a series of _instructions_ in a language that the CPU can understand\n",
    "  * called \"assembly language\" or \"machine language\"\n",
    "  * these instructions are decoded and executed by the CPU"
   ]
  },
  {
   "cell_type": "markdown",
   "metadata": {
    "slideshow": {
     "slide_type": "subslide"
    }
   },
   "source": [
    "## Block Diagram of a CPU\n",
    "<div>\n",
    "<img src=\"images/block.png\" width=\"300\"/>\n",
    "</div>\n",
    "\n",
    "* the __CU__ (control unit) manages and coordinates the operations of the CPU\n",
    "  * fetches instructions from memory\n",
    "  * decodes instructions\n",
    "  * controls the execution of instructions\n",
    "* the __ALU__ (arithmetic logic unit) handles operations on numbers\n",
    "* __registers__ are small high-speed (fast) memory \"slots\" used to temporarily store data which the CPU manipulates"
   ]
  },
  {
   "cell_type": "markdown",
   "metadata": {
    "slideshow": {
     "slide_type": "subslide"
    }
   },
   "source": [
    "## Types of Computer Memory\n",
    "\n",
    "![alt text](images/computer-memory-pyramid.gif)\n",
    "\n",
    "* cache\n",
    "  * super-fast memory inside the CPU used to keep data close by so the CPU doesn't have to continually move data in and out\n",
    "  * cf. a _web browser cache_ which stores images so that the next time you visit a website the browser doesn't have to download the image from the site, it can just grab it from the cache\n",
    "* secondary storage - hard drives, USB drives, flash drives, etc.\n",
    "  * \"long term\" memory\n",
    "  * data persists even when power is off"
   ]
  },
  {
   "cell_type": "markdown",
   "metadata": {
    "slideshow": {
     "slide_type": "subslide"
    }
   },
   "source": [
    "### ...Virtual Memory\n",
    "  * a software trick which enables the computer to seem like it has more memory than it actually has\n",
    "  * unused blocks of memory are moved to the hard drive or other secondary storage device"
   ]
  },
  {
   "cell_type": "markdown",
   "metadata": {
    "slideshow": {
     "slide_type": "subslide"
    }
   },
   "source": [
    "# Bits, Bytes, and Binary\n",
    "* a _bit_ (\"binary digit\") is the basic unit of information in computing (and digital communications)\n",
    "* a bit can have only one of two values, 0 or 1\n",
    "  * the two values can also be interpreted as logical values (on/off, yes/no, true/false), etc.\n",
    "* ...whereas a decimal digit, can have any value from 0 to 9\n",
    "  * our numbering system is based on powers of 10\n",
    "    * that is, each successive digit represents a higer power of 10\n",
    "    * consider the number 1234, from right to left:\n",
    "      * it's FOUR *ones* + THREE *tens* + TWO *hundreds* + ONE *thousand*  \n",
    "      * one = $10^{0}$, ten = $10^{1}$, one hundred = $10^{2}$, one thousand = $10^{3}$\n",
    " "
   ]
  },
  {
   "cell_type": "markdown",
   "metadata": {
    "slideshow": {
     "slide_type": "subslide"
    }
   },
   "source": [
    "* binary, on the other hand, is based on powers of 2\n",
    "  * consider the *binary* number 1001, also from left to right:\n",
    "    * it's ONE *ones* + ZERO *two* + ZERO *fours* + ONE *eight*\n",
    "    * 1 = $2^{0}$, 2 = $2^{1}$, 4 = $2^{2}$, 8 = $2^{3}$"
   ]
  },
  {
   "cell_type": "markdown",
   "metadata": {},
   "source": [
    "* we can enter a binary number in Python, by prefacing is with __0b__\n",
    "  * e.g., __`0b1001`__\n",
    "  * let's try it below..."
   ]
  },
  {
   "cell_type": "code",
   "execution_count": 2,
   "metadata": {},
   "outputs": [
    {
     "data": {
      "text/plain": [
       "9"
      ]
     },
     "execution_count": 2,
     "metadata": {},
     "output_type": "execute_result"
    }
   ],
   "source": [
    "0b1001 # what is the decimal equivalent of this binary number?"
   ]
  },
  {
   "cell_type": "markdown",
   "metadata": {
    "slideshow": {
     "slide_type": "subslide"
    }
   },
   "source": [
    "## What do the 1s and 0s mean?\n",
    "  * as above, they can be interpreted as logical values (on/off, yes/no, true/false), etc.\n",
    "* how many different patterns (or \"bit-strings\") can we make with a single bit\n",
    "  * 0\n",
    "  * 1\n",
    "  * that's it\n",
    "* what about with 2 bits?\n",
    "  * 00, 01, 10, 11\n",
    "* let's compare 11 (the 2-bit string) with the number 11\n",
    "  * 11 = 1 x 2 + 1 x 1 = 3\n",
    "  * 11 = 1 x 10 + 1 x 1 = 11"
   ]
  },
  {
   "cell_type": "markdown",
   "metadata": {
    "slideshow": {
     "slide_type": "subslide"
    }
   },
   "source": [
    "* ...and 3 bits?\n",
    "  * 000, 001, 010, 011, 100, 101, 110, 111\n",
    "* __`n`__ bits means we have how many patterns?"
   ]
  },
  {
   "cell_type": "markdown",
   "metadata": {
    "slideshow": {
     "slide_type": "subslide"
    }
   },
   "source": [
    "### Bytes\n",
    "* a _byte_ is 8 bits, which you can think of a roughly equivalent to a single character on the US keyboard\n",
    "* so if a file is 500 bytes long, it's equivalent to saying there are 500 characters in it"
   ]
  },
  {
   "cell_type": "markdown",
   "metadata": {
    "slideshow": {
     "slide_type": "subslide"
    }
   },
   "source": [
    "## What is Computer Programming?\n",
    "* _programming_ (or \"coding\") is a _process_ used to convert a (computing) problem into a runnable computer program (or simply \"code\")\n",
    "* a (computer) _program_ is a set of statements or instructions that tells the computer what to do\n",
    "* before writing a program, programmers often start from an algorithm"
   ]
  },
  {
   "cell_type": "markdown",
   "metadata": {
    "slideshow": {
     "slide_type": "subslide"
    }
   },
   "source": [
    "## What's an Algorithm?\n",
    "* an _algorithm_ is a process or set of rules to be followed when performing problem-solving operations (usually, but not always by a computer)\n",
    "  * an algorithm is like a recipe, explaining the steps to solve the problem (e.g., bake a cake)"
   ]
  },
  {
   "cell_type": "markdown",
   "metadata": {},
   "source": [
    "### Let's look at some algorithms"
   ]
  },
  {
   "cell_type": "markdown",
   "metadata": {
    "slideshow": {
     "slide_type": "subslide"
    }
   },
   "source": [
    "* an algorithm for converting Fahrenheit temperatures into Celsius:\n",
    "  1. subtract 32 from the Fahrenheit temperature\n",
    "  2. multiply the result by 5/9"
   ]
  },
  {
   "cell_type": "markdown",
   "metadata": {},
   "source": [
    "* an algorithm for computing the tip at a restaurant\n",
    "  1. ask for desired tip rate (20%, 25%, 15%, etc.)\n",
    "  2. multiply the amount of the bill by that percentage"
   ]
  },
  {
   "cell_type": "markdown",
   "metadata": {
    "slideshow": {
     "slide_type": "subslide"
    }
   },
   "source": [
    "* an algorithm for washing your hair...\n",
    "  1. Lather\n",
    "  2. Rinse\n",
    "  3. Repeat\n"
   ]
  },
  {
   "cell_type": "markdown",
   "metadata": {},
   "source": [
    "# Exercise 1: Algorithms\n",
    "* come up with an algorithm for...\n",
    "  * computing sales tax\n",
    "  * determining if a year is a leap year\n",
    "  * determining the area of a rectangle\n",
    "  * determing the average of 3 exam scores\n",
    "  * tying your shoes"
   ]
  },
  {
   "cell_type": "markdown",
   "metadata": {},
   "source": [
    "### What happens after we have our algorithm?\n",
    "* we convert it to __pseudocode__..."
   ]
  },
  {
   "cell_type": "markdown",
   "metadata": {
    "slideshow": {
     "slide_type": "subslide"
    }
   },
   "source": [
    "## What's Pseudocode?\n",
    "* typically a mixture of English and programming language constructs\n",
    "* often used to write down an algorithm in order to translate it into code\n",
    "* to be successful, we have to agree to _always_ write pseudocode before we write our programs\n",
    "* we willl spend a lot of time doing exactly this..."
   ]
  },
  {
   "cell_type": "markdown",
   "metadata": {
    "slideshow": {
     "slide_type": "subslide"
    }
   },
   "source": [
    "## Detour: How Do Computers Understand Programming Languages?\n",
    "* the short answer is–\"they don't\"\n",
    "* programs we write in just about every programming language are typically either __translated__ or __interpreted_\n",
    "* "
   ]
  },
  {
   "cell_type": "markdown",
   "metadata": {
    "slideshow": {
     "slide_type": "subslide"
    }
   },
   "source": [
    "### Translation\n",
    "  * our code can be __translated__ into a language that the CPU understands (\"machine language\") or to an intermediate language called _bytecode_\n",
    "    * this process is called _compilation_\n",
    "    * the tool which performs the compilation is called a _compiler_\n",
    "    * a computer language for which this is the case is called a _compiled language_\n",
    "      * some examples you may have heard of: C/C++, Java\n",
    "    * we can see the compilation process in action at http://godbolt.org/\n",
    "  * imagine someone speaking a foreign language\n",
    "    * a compiler is like a person who can translate that language into a language you can understand"
   ]
  },
  {
   "cell_type": "markdown",
   "metadata": {
    "slideshow": {
     "slide_type": "subslide"
    }
   },
   "source": [
    "## Interpretation\n",
    "* a programming language which is __interpreted__ is understood by another program called an _interpreter_\n",
    "  * some examples you might (or might not) have heard of are __`bash`__, __`PowerShell`__\n",
    "* once again imagine someone speaking a foreign language, perhap Hungarian\n",
    "  * imagine you (the \"CPU\") only speak English\n",
    "  * an interpreter could convert the Hungarian to some other language, perhaps French\n",
    "     * then you'd still need another interpreter to get it into English so you could understand what they said (\"run the code\")"
   ]
  },
  {
   "cell_type": "markdown",
   "metadata": {
    "slideshow": {
     "slide_type": "subslide"
    }
   },
   "source": [
    "## What about Python? It is compiled or interpreted?\n",
    "* short answer–\"It's both!\"\n",
    "  * __`Python`__ is first compiled into an \"intermediate\" language called _bytecode_\n",
    "  * then the bytecode is interpreted by the __`Python`__ interpreter (also called the Python Virtual Machine)\n",
    "  * we don't normally see these steps, we just see the result of them\n",
    "* this is a bit of an oversimplification, but our goal is not to become compiler/programming language experts"
   ]
  },
  {
   "cell_type": "markdown",
   "metadata": {
    "slideshow": {
     "slide_type": "subslide"
    }
   },
   "source": [
    "## Terminology: Source Code vs. Object Code\n",
    "* _source code_ is a collection of computer instructions written using a human-readable programming language\n",
    "  * source code may (and should) include _comments_, which are stuff we write for other programmers (or ourselves) to read\n",
    "    * comments are _ignored_ by the programming language\n",
    "  * source code is plain text, i.e., we can read it and understand it\n",
    "  * humans write source code\n",
    "* _object code_, OTOH consists of a bunch of instructions that the CPU understands, but most humans do not\n",
    "  * the output of a compiler, i.e., object code is the _compiled version_ of source code\n",
    "  * therefore, computers usually write object code"
   ]
  },
  {
   "cell_type": "markdown",
   "metadata": {
    "slideshow": {
     "slide_type": "subslide"
    }
   },
   "source": [
    "## Debugging\n",
    "* ...is the process of finding and fixing \"bugs\" (errors) in our code\n",
    "* the word \"bug\" was popularized by Grace Hopper, Ph.D., a Navy rear admiral and one of the first computer programmers\n",
    "  * posthumously awarded the Presidential Medal of Freedom in 2016\n",
    "  * https://en.wikipedia.org/wiki/Grace_Hopper\n",
    "  * here is a picture of a page from her notebook"
   ]
  },
  {
   "cell_type": "markdown",
   "metadata": {
    "slideshow": {
     "slide_type": "subslide"
    }
   },
   "source": [
    "![alt text](images/H96566k.jpg)"
   ]
  },
  {
   "cell_type": "markdown",
   "metadata": {
    "slideshow": {
     "slide_type": "subslide"
    }
   },
   "source": [
    "## Syntax Errors–\"Our code is incorrect\"\n",
    "* __syntax__ = the set of rules that defines the combinations of symbols that are considered to be a correctly-written (valid) program\n",
    "* a __syntax error__ is a violation of the rules that define a valid program\n",
    "* syntax in computer programming is more like grammar in English\n",
    "  * The dog chases the cat\n",
    "  * The dogs chases the cat (_grammar error–subject/verb agreement_)\n",
    "* syntax errors are caught by the compiler or interpreter\n",
    "  * sometimes called __compile time__ errors\n",
    "    * ...because they are found by the compiler, during translation, *before* the program actually runs\n",
    "    * a program can only run if it's __syntactically correct__"
   ]
  },
  {
   "cell_type": "markdown",
   "metadata": {
    "slideshow": {
     "slide_type": "subslide"
    }
   },
   "source": [
    "## Runtime Errors–\"Our code 'crashes' when running\"\n",
    "* as the name suggests, these are errors that occur when you run the program, as opposed to when you compile the program\n",
    "* with an interpreted language such as Python, the distinction between syntax and runtime errors is not as obvious–in both cases the interpreter will stop interpreting your code and will report an error\n",
    "  * we wil see examples of each\n",
    "* runtime errors are often called __exceptions__"
   ]
  },
  {
   "cell_type": "markdown",
   "metadata": {
    "slideshow": {
     "slide_type": "subslide"
    }
   },
   "source": [
    "## Semantic Errors–\"Our code runs to completion but the output is wrong\"\n",
    "* a __semantic error__ occurs when your program is syntactically correct, but you told the computer to do the wrong thing\n",
    "* for example, if you wrote a program to convert Fahrenheit to Celsius and you added 32 to the temperature instead of subtracting\n",
    "  * the program will run, but it will give you the wrong result\n",
    "  * remember that the computer will do what you tell it to do, but that doesn't mean it's what you want it to do! \n",
    "* a semantic error _may_ cause a runtime error, but usually they don't, so they can be difficult to debug"
   ]
  }
 ],
 "metadata": {
  "celltoolbar": "Slideshow",
  "kernelspec": {
   "display_name": "Python 3 (ipykernel)",
   "language": "python",
   "name": "python3"
  },
  "language_info": {
   "codemirror_mode": {
    "name": "ipython",
    "version": 3
   },
   "file_extension": ".py",
   "mimetype": "text/x-python",
   "name": "python",
   "nbconvert_exporter": "python",
   "pygments_lexer": "ipython3",
   "version": "3.12.1"
  }
 },
 "nbformat": 4,
 "nbformat_minor": 4
}
