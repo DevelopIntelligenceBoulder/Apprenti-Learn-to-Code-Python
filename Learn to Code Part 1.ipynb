{
 "cells": [
  {
   "cell_type": "markdown",
   "metadata": {
    "slideshow": {
     "slide_type": "slide"
    }
   },
   "source": [
    "# Learn to Code"
   ]
  },
  {
   "cell_type": "markdown",
   "metadata": {
    "slideshow": {
     "slide_type": "subslide"
    }
   },
   "source": [
    "## About This Course\n",
    "* This course will teach you to write code, i.e., how to turn a __problem statement__ into code which will _solve_ that problem\n",
    "  * At its essence, that is ALL coding is about–converting a problem into code which solves that problem\n",
    "* It is _not_ easy–it will be challenging!\n",
    "* It will require a change in thinking!\n",
    "* ...and it will be fun!"
   ]
  },
  {
   "cell_type": "markdown",
   "metadata": {
    "slideshow": {
     "slide_type": "subslide"
    }
   },
   "source": [
    "## How to get around in Jupyter\n",
    "* Each place for you to enter text is called a _cell_\n",
    "* Usually you enter __`Python`__ code, but you can also enter text in a _markup_ language called __`Markdown`__ (that's what's going on in _this_ cell)\n",
    "* To \"run\" the code in the cell, hit __Shift-Return__ (i.e., hold down __Shift__ key, then hit __Return__)\n",
    "* Try it with the cell below..."
   ]
  },
  {
   "cell_type": "code",
   "execution_count": null,
   "metadata": {
    "slideshow": {
     "slide_type": "-"
    }
   },
   "outputs": [],
   "source": [
    "2 + 3 * 4"
   ]
  },
  {
   "cell_type": "markdown",
   "metadata": {
    "slideshow": {
     "slide_type": "subslide"
    }
   },
   "source": [
    "* we'll work inside the Jupyter notebook and you'll be able to take it with you as a living, breathing document of your work in this class\n",
    "* the __Insert__ menu will allow you to add a cell above or below the current cell\n",
    "* the __Kernel__ menu will allow you to \"talk\" to the Python interpreter on your machine\n",
    "  * (when you type into a cell, you are \"talking\" to the web browser, and the web browser sends the text to the __`Python`__ interpreter to be \"run\")\n",
    "  * the __Kernel__ menu will allow you to _restart_ your __`Python`__ interpreter in case something goes wrong and it stops responding to you\n",
    "  "
   ]
  },
  {
   "cell_type": "markdown",
   "metadata": {
    "slideshow": {
     "slide_type": "slide"
    }
   },
   "source": [
    "# Computer Architecture\n",
    "* before we get into coding (programming), it's helpful to get a sense of what goes on inside a computer\n",
    "  * we don't need to be experts\n",
    "  * \"You don't have to be an engineer to be be a racing driver, but you do have to have Mechanical Sympathy.\"\n",
    "  –Jackie Stewart, racing driver\n",
    "    * to take a car to its limit, you need to understand how it works under the hood\n"
   ]
  },
  {
   "cell_type": "markdown",
   "metadata": {
    "slideshow": {
     "slide_type": "subslide"
    }
   },
   "source": [
    "## Basics of Computer Architecture\n",
    "* a computer consists of a __CPU__ (Central Processing Unit) and __memory__\n",
    "* let's talk about each of these components..."
   ]
  },
  {
   "cell_type": "markdown",
   "metadata": {},
   "source": [
    "### CPU\n",
    "  * somewhat analogous to a human brain\n",
    "  * the job of the CPU is to \"run code\" (code can also be called \"instructions\")\n",
    "  * there are two types of instructions:\n",
    "    * those that _transfer_ data from memory to the CPU (\"_load_\") or vice versa (\"_store_\")\n",
    "    * those that _operate_ on data that has been transferred into the CPU\n",
    "      * e.g., arithmetic operations such as addition or subtraction\n",
    "      * or _branching_, whereby the CPU is directed to skip some code and start running elsewhere in the code\n",
    "        * sort of like reading instructions to assemble a desk and seeing \"if your desk does not include the optional candy drawer, skip to step 14\"\n",
    "  * CPU _clock speed_ is the speed at which the CPU's internal clock _pulses_ or \"ticks\"\n",
    "    * the CPU can only do work (run an instruction) when the clock pulses\n",
    "    * like a drumbeat that signals when the next instruction can run\n",
    "    * if your CPU's clock speed is 3 GHz (Gigahertz), that means it can perform 3 billion operations each second\n",
    "      * try to find your CPU's clock speed!"
   ]
  },
  {
   "cell_type": "markdown",
   "metadata": {},
   "source": [
    "### Memory\n",
    "* also called RAM (Random Access Memory)\n",
    "* somewhat like the \"short term\" memory in our brains\n",
    "  * e.g., compute 10 + 33, 9 * 11, 65 / 13, and 88 - 14\n",
    "  * will you remember those numbers tomorrow, having slept (\"turned off your CPU\") between now and then?\n",
    "* data is stored in RAM while power is applied (i.e., computer is on)\n",
    "  * disappears when computer is turned off"
   ]
  },
  {
   "cell_type": "markdown",
   "metadata": {
    "slideshow": {
     "slide_type": "subslide"
    }
   },
   "source": [
    "## How Your Computer Runs an Application\n",
    "* the application (e.g., Google Chrome) is stored on your hard drive\n",
    "* when you double click on an application, the operating system (MacOS, Windows, Linux) loads the application (or more typically, a portion of it) into RAM (details are OS-specific and not important for our discussion)"
   ]
  },
  {
   "cell_type": "markdown",
   "metadata": {
    "slideshow": {
     "slide_type": "subslide"
    }
   },
   "source": [
    "* an application such as Google Chrome is a series of _instructions_ in a language that the CPU can understand\n",
    "  * called \"assembly language\" or \"machine language\"\n",
    "  * these instructions are decoded and executed by the CPU"
   ]
  },
  {
   "cell_type": "markdown",
   "metadata": {
    "slideshow": {
     "slide_type": "subslide"
    }
   },
   "source": [
    "## Block Diagram of a CPU\n",
    "<div>\n",
    "<img src=\"images/block.png\" width=\"300\"/>\n",
    "</div>\n",
    "\n",
    "* the __CU__ (control unit) manages and coordinates the operations of the CPU\n",
    "  * fetches instructions from memory\n",
    "  * decodes instructions\n",
    "  * controls the execution of instructions\n",
    "* the __ALU__ (arithmetic logic unit) handles operations on numbers\n",
    "* __registers__ are small high-speed (fast) memory \"slots\" used to temporarily store data which the CPU manipulates"
   ]
  },
  {
   "cell_type": "markdown",
   "metadata": {
    "slideshow": {
     "slide_type": "subslide"
    }
   },
   "source": [
    "## Types of Computer Memory\n",
    "\n",
    "![alt text](images/computer-memory-pyramid.gif)\n",
    "\n",
    "* cache\n",
    "  * super-fast memory inside the CPU used to keep data close by so the CPU doesn't have to continually move data in and out\n",
    "  * cf. a _web browser cache_ which stores images so that the next time you visit a website the browser doesn't have to download the image from the site, it can just grab it from the cache\n",
    "* secondary storage - hard drives, USB drives, flash drives, etc.\n",
    "  * \"long term\" memory\n",
    "  * data persists even when power is off"
   ]
  },
  {
   "cell_type": "markdown",
   "metadata": {
    "slideshow": {
     "slide_type": "subslide"
    }
   },
   "source": [
    "### ...Virtual Memory\n",
    "  * a software trick which enables the computer to seem like it has more memory than it actually has\n",
    "  * unused blocks of memory are moved to the hard drive or other secondary storage device"
   ]
  },
  {
   "cell_type": "markdown",
   "metadata": {
    "slideshow": {
     "slide_type": "subslide"
    }
   },
   "source": [
    "# Bits, Bytes, and Binary\n",
    "* a _bit_ (\"binary digit\") is the basic unit of information in computing (and digital communications)\n",
    "* a bit can have only one of two values, 0 or 1\n",
    "  * the two values can also be interpreted as logical values (on/off, yes/no, true/false), etc.\n",
    "* ...whereas a decimal digit, can have any value from 0 to 9\n",
    "  * our numbering system is based on powers of 10\n",
    "    * that is, each successive digit represents a higer power of 10\n",
    "    * consider the number 1234, from right to left:\n",
    "      * it's FOUR *ones* + THREE *tens* + TWO *hundreds* + ONE *thousand*  \n",
    "      * one = $10^{0}$, ten = $10^{1}$, one hundred = $10^{2}$, one thousand = $10^{3}$\n",
    " "
   ]
  },
  {
   "cell_type": "markdown",
   "metadata": {
    "slideshow": {
     "slide_type": "subslide"
    }
   },
   "source": [
    "* binary, on the other hand, is based on powers of 2\n",
    "  * consider the *binary* number 1001, also from left to right:\n",
    "    * it's ONE *ones* + ZERO *two* + ZERO *fours* + ONE *eight*\n",
    "    * 1 = $2^{0}$, 2 = $2^{1}$, 4 = $2^{2}$, 8 = $2^{3}$"
   ]
  },
  {
   "cell_type": "markdown",
   "metadata": {},
   "source": [
    "* we can enter a binary number in Python, by prefacing is with __0b__\n",
    "  * e.g., __`0b1001`__\n",
    "  * let's try it below..."
   ]
  },
  {
   "cell_type": "code",
   "execution_count": null,
   "metadata": {},
   "outputs": [],
   "source": [
    "0b1001 # what is the decimal equivalent of this binary number?"
   ]
  },
  {
   "cell_type": "markdown",
   "metadata": {
    "slideshow": {
     "slide_type": "subslide"
    }
   },
   "source": [
    "## What do the 1s and 0s mean?\n",
    "  * as above, they can be interpreted as logical values (on/off, yes/no, true/false), etc.\n",
    "* how many different patterns (or \"bit-strings\") can we make with a single bit\n",
    "  * 0\n",
    "  * 1\n",
    "  * that's it\n",
    "* what about with 2 bits?\n",
    "  * 00, 01, 10, 11\n",
    "* let's compare 11 (the 2-bit string) with the number 11\n",
    "  * 11 = 1 x 2 + 1 x 1 = 3\n",
    "  * 11 = 1 x 10 + 1 x 1 = 11"
   ]
  },
  {
   "cell_type": "markdown",
   "metadata": {
    "slideshow": {
     "slide_type": "subslide"
    }
   },
   "source": [
    "* ...and 3 bits?\n",
    "  * 000, 001, 010, 011, 100, 101, 110, 111\n",
    "* __`n`__ bits means we have how many patterns?"
   ]
  },
  {
   "cell_type": "markdown",
   "metadata": {
    "slideshow": {
     "slide_type": "subslide"
    }
   },
   "source": [
    "### Bytes\n",
    "* a _byte_ is 8 bits, which you can think of a roughly equivalent to a single character on the US keyboard\n",
    "* so if a file is 500 bytes long, it's equivalent to saying there are 500 characters in it"
   ]
  }
 ],
 "metadata": {
  "celltoolbar": "Slideshow",
  "kernelspec": {
   "display_name": "Python 3 (ipykernel)",
   "language": "python",
   "name": "python3"
  },
  "language_info": {
   "codemirror_mode": {
    "name": "ipython",
    "version": 3
   },
   "file_extension": ".py",
   "mimetype": "text/x-python",
   "name": "python",
   "nbconvert_exporter": "python",
   "pygments_lexer": "ipython3",
   "version": "3.12.2"
  }
 },
 "nbformat": 4,
 "nbformat_minor": 4
}
