{
 "cells": [
  {
   "cell_type": "markdown",
   "metadata": {
    "slideshow": {
     "slide_type": "slide"
    }
   },
   "source": [
    "# Program Statements\n",
    "* so far, we've used _assignment statements_\n",
    "* but in order to write useful programs, we need more complex program statements that allow us to\n",
    "  * ask questions and do different things depending on the answer\n",
    "  * repeat actions a certain number of times\n",
    "  * repeat actions until until some condition becomes __True__ (or __False__)"
   ]
  },
  {
   "cell_type": "markdown",
   "metadata": {
    "slideshow": {
     "slide_type": "subslide"
    }
   },
   "source": [
    "## the __`if`__ statement\n",
    "* enables us to ask a question\n",
    "* ...and do one thing if the answer is yes (__True__) and (optionally) something else if the answer is no\n",
    "* here are some examples..."
   ]
  },
  {
   "cell_type": "code",
   "execution_count": 4,
   "metadata": {},
   "outputs": [
    {
     "name": "stdin",
     "output_type": "stream",
     "text": [
      "Enter a number:  4\n"
     ]
    }
   ],
   "source": [
    "number = int(input('Enter a number: '))\n",
    "if number == 1:\n",
    "    print('ONE')"
   ]
  },
  {
   "cell_type": "code",
   "execution_count": 2,
   "metadata": {},
   "outputs": [
    {
     "name": "stdin",
     "output_type": "stream",
     "text": [
      "Enter a year:  1999\n"
     ]
    },
    {
     "name": "stdout",
     "output_type": "stream",
     "text": [
      "1999 was in the 20th century\n",
      "yep, 2000 was the 20th century, not the 21st!\n",
      "...\n"
     ]
    }
   ],
   "source": [
    "year = int(input('Enter a year: '))\n",
    "\n",
    "if year >= 1901 and year <= 2000:\n",
    "    print(year, 'was in the 20th century')\n",
    "    print('yep, 2000 was the 20th century, not the 21st!')\n",
    "    \n",
    "print('...')"
   ]
  },
  {
   "cell_type": "markdown",
   "metadata": {},
   "source": [
    "* the boolean expression after the __`if`__ statement is called the condition\n",
    "* if the condition is __True__, then the indented statement (or statements) gets executed\n",
    "* if the condition is __False__, then nothing happens\n",
    "* the __`if`__ statement is made up of a header and a block of statements, like so\n",
    "    \n",
    "<img src=\"images/compound.png\" alt=\"Drawing\" style=\"width: 250px;\"/>\n",
    "\n",
    "* the header begins on a new line and ends with a colon (:)\n",
    "* the indented statements that follow are called a block\n",
    "* the first unindented statement marks the end of the block"
   ]
  },
  {
   "cell_type": "markdown",
   "metadata": {
    "slideshow": {
     "slide_type": "subslide"
    }
   },
   "source": [
    "## Python Indentation\n",
    "* indentation is one of the bugaboos of Python\n",
    "* as we saw with the __`if`__ statement, we must introduce a new block with a colon\n",
    "  * ...and then indent all of the statements in the block\n",
    "  * all statements in the block must be indented the same amount\n",
    "  * don't use TABs, use spaces\n",
    "  * Python recommends 4 spaces per level of indentation"
   ]
  },
  {
   "cell_type": "markdown",
   "metadata": {
    "slideshow": {
     "slide_type": "subslide"
    }
   },
   "source": [
    "## Chained Conditionals\n",
    "* sometimes there are more than two possibilities and we need more than two branches\n",
    "* one way to express something like that is a chained conditional..."
   ]
  },
  {
   "cell_type": "code",
   "execution_count": 9,
   "metadata": {},
   "outputs": [
    {
     "name": "stdout",
     "output_type": "stream",
     "text": [
      "15 and 15 are equal\n"
     ]
    }
   ],
   "source": [
    "first = 15\n",
    "second = 15\n",
    "\n",
    "if first < second:\n",
    "    print(first, \"is less than\", second)\n",
    "elif first > second: # \"else if\"\n",
    "    print(first, \"is greater than\", second)\n",
    "else:\n",
    "    print(first, \"and\", second, \"are equal\")"
   ]
  },
  {
   "cell_type": "markdown",
   "metadata": {},
   "source": [
    "* __`elif`__ means _else if_, which is optional\n",
    "* there is no limit to the number of __`elif`__ statements\n",
    "* if there is an __`else`__, it has to be the last branch"
   ]
  },
  {
   "cell_type": "markdown",
   "metadata": {
    "slideshow": {
     "slide_type": "subslide"
    }
   },
   "source": [
    "## Nested Conditionals\n",
    "* one conditional can be nested within another\n",
    "* therefore, we could have written the previous __`if`__ statement as follows:\n"
   ]
  },
  {
   "cell_type": "code",
   "execution_count": null,
   "metadata": {},
   "outputs": [],
   "source": [
    "x, y = 15.2, 15.1\n",
    "\n",
    "if x == y:\n",
    "    print (x, \"and\", y, \"are equal\")\n",
    "else:\n",
    "    if x < y:\n",
    "        print(x, \"is less than\", y)\n",
    "    else:\n",
    "        print(x, \"is greater than\", y)"
   ]
  },
  {
   "cell_type": "markdown",
   "metadata": {
    "slideshow": {
     "slide_type": "subslide"
    }
   },
   "source": [
    "## Lab: Odd-Even Program (our first program that does something)\n",
    "1. prompt the user to enter a number\n",
    "2. read input from the user\n",
    "3. convert the input to an integer\n",
    "4. tell the user whether the number entered was odd or even\n"
   ]
  },
  {
   "cell_type": "code",
   "execution_count": null,
   "metadata": {},
   "outputs": [],
   "source": [
    "number = int(input(\"Enter a number and I will tell you if it's odd or even: \"))"
   ]
  },
  {
   "cell_type": "code",
   "execution_count": null,
   "metadata": {},
   "outputs": [],
   "source": [
    "if number % 2 == 0: # no remainder means evenly divisible\n",
    "    print(number, 'is even')\n",
    "else:\n",
    "    print(number, 'is odd')"
   ]
  },
  {
   "cell_type": "code",
   "execution_count": null,
   "metadata": {},
   "outputs": [],
   "source": [
    "41 % 7"
   ]
  },
  {
   "cell_type": "code",
   "execution_count": null,
   "metadata": {},
   "outputs": [],
   "source": [
    "35 % 7"
   ]
  },
  {
   "cell_type": "code",
   "execution_count": null,
   "metadata": {},
   "outputs": [],
   "source": [
    "41 % 2 # \"mod\" or \"modulus\""
   ]
  },
  {
   "cell_type": "code",
   "execution_count": null,
   "metadata": {},
   "outputs": [],
   "source": [
    "4 % 2"
   ]
  },
  {
   "cell_type": "code",
   "execution_count": null,
   "metadata": {},
   "outputs": [],
   "source": [
    "# WE STOPPED HERE ON 2023/06/23"
   ]
  },
  {
   "cell_type": "markdown",
   "metadata": {},
   "source": [
    "## Lab: Leap Year Program\n",
    "1. prompt the user to enter a year\n",
    "2. read input from the user\n",
    "3. convert the input to an integer\n",
    "4. tell the user whether the year entered is a leap year or not\n",
    "  * a year is a leap year if\n",
    "  1. it's divisible by 4 AND\n",
    "  2. it's not divisible by 100 (i.e., 1900 was not a leap year) UNLESS\n",
    "  3. it's also divisible by 400 (i.e., 2000 was a leap year)"
   ]
  },
  {
   "cell_type": "code",
   "execution_count": null,
   "metadata": {},
   "outputs": [],
   "source": [
    "# test cases\n",
    "# 2000 is a leap year b/c divisible by 4, 100, and 400\n",
    "# 2100 is NOT a leap year b/c divisible by 4, 100, and NOT 400\n",
    "# 2024 is a leap year b/c divisible by 4\n",
    "# 2023 is NOT a leap year b/c NOT divisible by 4\n",
    "\n",
    "# 1. get a year from the user\n",
    "# simpler version of the problem...\n",
    "# 2. if year is divisible by 4, then LEAP YEAR\n",
    "#    else NOT LEAP YEAR"
   ]
  },
  {
   "cell_type": "code",
   "execution_count": null,
   "metadata": {},
   "outputs": [],
   "source": [
    "year = int(input('Enter a year: ')) # 1. get input from user and int-ify"
   ]
  },
  {
   "cell_type": "code",
   "execution_count": null,
   "metadata": {},
   "outputs": [],
   "source": [
    "type(year)"
   ]
  },
  {
   "cell_type": "code",
   "execution_count": null,
   "metadata": {},
   "outputs": [],
   "source": [
    "if year % 4 == 0: # 2. if remainder when dividing by 4 is 0 (evenly divisible by 4)\n",
    "    print(year, 'is a leap year')\n",
    "else:\n",
    "    print(year, 'is NOT a leap year')"
   ]
  },
  {
   "cell_type": "code",
   "execution_count": null,
   "metadata": {},
   "outputs": [],
   "source": [
    "# 1. get a year from the user (2028)\n",
    "# 2. if year is divisible by 4...\n",
    "# 3.    if year is divisible by 100...\n",
    "# 4.        if year is divisible by 400\n",
    "# 5.            \"leap year\"\n",
    "# 6.        else\n",
    "# 7.            \"not a leap year\"\n",
    "# 8.    else\n",
    "# 9.        \"leap year\"\n",
    "# 10.else\n",
    "#.11.     NOT a leap year"
   ]
  },
  {
   "cell_type": "code",
   "execution_count": null,
   "metadata": {},
   "outputs": [],
   "source": [
    "year = int(input('Enter a year: ')) # 1 get input from user and int-ify\n",
    "if year % 4 == 0: # 2 divisible by 4\n",
    "    if year % 100 == 0: # 3 divisible by 100\n",
    "        if year % 400 == 0: # 4 divisible by 400\n",
    "            print(year, 'is a leap year (because divisible by 100 AND 400, e.g., 2000)') # 5\n",
    "        else: # 6\n",
    "            print(year, 'is NOT a leap year (because divisible by 100 AND NOT by 400, e.g., 2100)') # 7\n",
    "    else: # 8 \n",
    "        print(year, 'is a leap year (because divisible by 4 but NOT divisible 100, e.g., 2024)') # 9\n",
    "else: # 10\n",
    "    print(year, 'is NOT a leap year (because not divisible by 4, e.g., 2023)') # 10"
   ]
  },
  {
   "cell_type": "code",
   "execution_count": null,
   "metadata": {},
   "outputs": [],
   "source": [
    "# it's divisible by 4 AND\n",
    "# it's not divisible by 100 (i.e., 1900 was not a leap year) UNLESS\n",
    "# it's also divisible by 400 (i.e., 2000 was a leap year)\n",
    "year = int(input('Enter a year: ')) # 1. get input from user and int-ify\n",
    "\n",
    "if year % 4 == 0 and (year % 100 != 0 or year % 400 == 0):\n",
    "    print('leap year')\n",
    "else:\n",
    "    print('not a leap year')"
   ]
  },
  {
   "cell_type": "markdown",
   "metadata": {
    "slideshow": {
     "slide_type": "slide"
    }
   },
   "source": [
    "# The Art of Programming"
   ]
  },
  {
   "cell_type": "markdown",
   "metadata": {
    "jp-MarkdownHeadingCollapsed": true,
    "slideshow": {
     "slide_type": "subslide"
    },
    "tags": []
   },
   "source": [
    "## The Art of Programming\n",
    "* first off, what do we mean by programming?\n",
    "  * understanding the problem at hand\n",
    "  * formulating a solution to that problem as a series of steps\n",
    "  * converting those steps into code\n",
    "  * testing your code\n",
    "  * fixing bugs\n",
    "* next, what do we mean by art?\n",
    "  * coding is a procedure we follow, and as such, we could argue there isn't much 'art' involved\n",
    "  * however, experienced programmers often use their intuition and deep understanding of problems and coding practices to \"finesse\" a solution\n",
    "  * in a sense they can \"see\" the problem clearer, and therefore generate a solution quicker and often better than those who are inexperienced\n",
    "* so how do new programmers get to that point?\n",
    "  * just like the old joke about Carnegie Hall–practice, practice, practice!"
   ]
  },
  {
   "cell_type": "markdown",
   "metadata": {
    "slideshow": {
     "slide_type": "subslide"
    }
   },
   "source": [
    "## Converting a Problem Into Code\n",
    "1. be sure you understand the problem (do not start coding yet)\n",
    "2. write down the sequence of steps you use to solve that problem \"in real life\" (do not start coding yet)\n",
    "3. convert each step into the code to perform it\n",
    "\n",
    "__DO NOT WRITE CODE UNTIL YOU KNOW WHAT YOU ARE WRITING AND WHY YOU ARE WRITING IT!__"
   ]
  },
  {
   "cell_type": "markdown",
   "metadata": {},
   "source": [
    "## Mental Models\n",
    "* a _mental model_ is an explanation of someone's thought process about how something works in the real world\n",
    "* mental models can help generate an approach to solving problems\n",
    "* Kenneth Craik suggested in 1943 that the mind constructs \"small-scale models\" of reality that it uses to anticipate events\n",
    "* it is my belief that most bugs in our program occur because of an incorrect mental model\n",
    "  * if our understanding (or modeling) of a problem is flawed, then necessarily our code will be flawed\n",
    "* when code doesn't work, we may want to pay attention to our mental model and see if we can find flaws in it\n",
    "  * i.e., is there assumption we are making which is untrue?"
   ]
  },
  {
   "cell_type": "markdown",
   "metadata": {
    "slideshow": {
     "slide_type": "slide"
    }
   },
   "source": [
    "## Iteration\n",
    "* to _iterate_ is to _repeat_ something (in the case of programming, we will be repeating some code)"
   ]
  },
  {
   "cell_type": "markdown",
   "metadata": {},
   "source": [
    "## Two types of loops: while and for\n",
    "* while loop: e.g., while i < 5 do something\n",
    "   * we use it when we don't know how many times we are going to repeat something\n",
    "   * \"drive down this street until you see a traffic light, then turn left\"\n",
    "     * \"How many street will I cross before I see the traffic light?\" NO\n",
    "   * check each room until you find the ball\n",
    "   * keep marking the exams until you find someone who got a certain grade\n",
    "* for loop\n",
    "  * when we DO know how many time we want to repeat something"
   ]
  },
  {
   "cell_type": "markdown",
   "metadata": {
    "slideshow": {
     "slide_type": "subslide"
    }
   },
   "source": [
    "## The __`for`__ Loop\n",
    "* we use a __`for`__ loop when we want to repeat something a _known_ number of times\n",
    "* real world example–_drive for __5 blocks__ and then turn right_\n",
    "* there are two types of __`for`__ loops in Python\n",
    "  * looping through a numeric range\n",
    "  * looping through a _container_\n",
    "    * containers are Python data types which _contain_ things (e.g., a string contains characters)\n",
    "* syntax\n",
    "\n",
    "   <pre>\n",
    "      <b>\n",
    "      for variable in sequence:\n",
    "          statement(s)\n",
    "      </b>\n",
    "   </pre>\n",
    "* you choose the name of the _variable_, which should be something that makes sense\n",
    "<img src=\"images/python_for_loop.jpg\" alt=\"flow\" style=\"width: 350px;\"/>"
   ]
  },
  {
   "cell_type": "code",
   "execution_count": 13,
   "metadata": {},
   "outputs": [
    {
     "name": "stdout",
     "output_type": "stream",
     "text": [
      "3\n",
      "6\n",
      "+\n",
      "2\n",
      "7\n",
      "-\n",
      "6\n",
      "7\n",
      "2\n",
      "*\n",
      "6\n",
      "3\n",
      "2\n",
      "3\n",
      "9\n",
      "/\n",
      "2\n",
      "0\n",
      "9\n",
      "2\n"
     ]
    }
   ],
   "source": [
    "# loop through a container (in this case,\n",
    "# the container is a string)\n",
    "\n",
    "for char in '36+27-672*63239/2092':\n",
    "    print(char)"
   ]
  },
  {
   "cell_type": "code",
   "execution_count": 7,
   "metadata": {},
   "outputs": [
    {
     "data": {
      "text/plain": [
       "'R'"
      ]
     },
     "execution_count": 7,
     "metadata": {},
     "output_type": "execute_result"
    }
   ],
   "source": [
    "letter"
   ]
  },
  {
   "cell_type": "code",
   "execution_count": 9,
   "metadata": {},
   "outputs": [
    {
     "data": {
      "text/plain": [
       "9"
      ]
     },
     "execution_count": 9,
     "metadata": {},
     "output_type": "execute_result"
    }
   ],
   "source": [
    "len('CONTAINER')"
   ]
  },
  {
   "cell_type": "code",
   "execution_count": 10,
   "metadata": {},
   "outputs": [
    {
     "name": "stdout",
     "output_type": "stream",
     "text": [
      "1\n",
      "2\n",
      "3\n",
      "4\n",
      "5\n",
      "6\n",
      "7\n",
      "8\n",
      "9\n",
      "10\n"
     ]
    }
   ],
   "source": [
    "for number in range(1, 11):\n",
    "    print(number)"
   ]
  },
  {
   "cell_type": "code",
   "execution_count": 48,
   "metadata": {},
   "outputs": [
    {
     "name": "stdout",
     "output_type": "stream",
     "text": [
      "1//2//3\n"
     ]
    }
   ],
   "source": [
    "print(1, 2, 3, sep='//')"
   ]
  },
  {
   "cell_type": "markdown",
   "metadata": {
    "slideshow": {
     "slide_type": "subslide"
    }
   },
   "source": [
    "## Lab: for loops\n",
    "* write a Python program which asks the user for a string and then outputs the same string with each character duplicated\n",
    "  * e.g., if the user enters __Tesla__, your program will output __TTeessllaa__\n",
    "* write a Python program to compute __`n! (= n * n - 1 * n - 2 ... * 1)`__\n",
    "  * so if the user enters a 5, your program should compute __`5 * 4 * 3 * 2 * 1 (120)`__"
   ]
  },
  {
   "cell_type": "code",
   "execution_count": 37,
   "metadata": {
    "scrolled": true
   },
   "outputs": [
    {
     "name": "stdout",
     "output_type": "stream",
     "text": [
      "10\n",
      "8\n",
      "6\n",
      "4\n",
      "2\n"
     ]
    }
   ],
   "source": [
    "# let's write a counting / numeric range loop\n",
    "# count down from 100 to 0 by 5s\n",
    "for number in range(10, 0, -2):\n",
    "    print(number)"
   ]
  },
  {
   "cell_type": "code",
   "execution_count": 24,
   "metadata": {},
   "outputs": [
    {
     "name": "stdout",
     "output_type": "stream",
     "text": [
      "c...o...n...t...a...i...n...e...r..."
     ]
    }
   ],
   "source": [
    "for thing in 'container':\n",
    "    print(thing, end='...')"
   ]
  },
  {
   "cell_type": "code",
   "execution_count": 7,
   "metadata": {},
   "outputs": [
    {
     "name": "stdin",
     "output_type": "stream",
     "text": [
      "Give me a word or sentence:  abc\n"
     ]
    },
    {
     "name": "stdout",
     "output_type": "stream",
     "text": [
      "aa bb cc "
     ]
    }
   ],
   "source": [
    "# write a Python program which asks the user for a string and then\n",
    "# outputs the same string with each character duplicated\n",
    "# 1. get a word or sentence from user\n",
    "# 2. for each letter in that word/sentence\n",
    "# 3.     write that letter twice on the same line\n",
    "response = input('Give me a word or sentence: ') # 1\n",
    "for letter in response: # 2\n",
    "    print(letter * 2, end=' ') # 3"
   ]
  },
  {
   "cell_type": "code",
   "execution_count": 5,
   "metadata": {},
   "outputs": [
    {
     "name": "stdout",
     "output_type": "stream",
     "text": [
      "Saboi and Musaab\n"
     ]
    }
   ],
   "source": [
    "print('Saboi', end=' and ')\n",
    "print('Musaab')"
   ]
  },
  {
   "cell_type": "code",
   "execution_count": 45,
   "metadata": {},
   "outputs": [
    {
     "name": "stdout",
     "output_type": "stream",
     "text": [
      "line 1line 2\n"
     ]
    }
   ],
   "source": [
    "print('line 1', end='') # DO NOT print a newline (\\n) to after it prints\n",
    "print('line 2')"
   ]
  },
  {
   "cell_type": "code",
   "execution_count": 11,
   "metadata": {},
   "outputs": [
    {
     "name": "stdin",
     "output_type": "stream",
     "text": [
      "Enter a number:  6\n"
     ]
    },
    {
     "name": "stdout",
     "output_type": "stream",
     "text": [
      "multiply 6 by 5 = 30\n",
      "multiply 30 by 4 = 120\n",
      "multiply 120 by 3 = 360\n",
      "multiply 360 by 2 = 720\n",
      "6! = 720\n"
     ]
    }
   ],
   "source": [
    "# write a Python program to compute n! = n * (n - 1) * (n - 2) ... * 1\n",
    "# 1. ask user for a number\n",
    "# 2. multiply number by number - 1\n",
    "# 3. keep doing step 2 until we multiply by 1\n",
    "\n",
    "# => more translatable to Python\n",
    "\n",
    "# 1. ask user for a number\n",
    "# 1a. set answer to the number\n",
    "# 2. for (each) number from (their number minus 1) down to 1:\n",
    "# 3.     multiply by that number\n",
    "# 4.  print result\n",
    "\n",
    "number = int(input('Enter a number: ')) # 1\n",
    "answer = number # 1a, start with their number\n",
    "for multiplier in range(number - 1, 1, -1):\n",
    "    print('multiply', answer, 'by', multiplier, end=' ')\n",
    "    answer = answer * multiplier # answer *= multiplier (3)\n",
    "    print('=', answer)\n",
    "print(number, '! = ', answer, sep='') # 4"
   ]
  },
  {
   "cell_type": "code",
   "execution_count": 13,
   "metadata": {},
   "outputs": [
    {
     "name": "stdin",
     "output_type": "stream",
     "text": [
      "Enter an integer:  7\n"
     ]
    },
    {
     "name": "stdout",
     "output_type": "stream",
     "text": [
      "multiply 7 by 2 = 14\n",
      "multiply 14 by 3 = 42\n",
      "multiply 42 by 4 = 168\n",
      "multiply 168 by 5 = 840\n",
      "multiply 840 by 6 = 5040\n",
      "7! = 5040\n"
     ]
    }
   ],
   "source": [
    "# could we count upwards instead?\n",
    "number = int(input('Enter an integer: ')) # 1\n",
    "answer = number # 1a, start with their number\n",
    "\n",
    "for multiplier in range(2, number): # 1..number-1\n",
    "    print('multiply', answer, 'by', multiplier, end=' ')\n",
    "    answer = answer * multiplier # answer *= multiplier (3)\n",
    "    print('=', answer)\n",
    "print(number, '! = ', answer, sep='') # 4"
   ]
  },
  {
   "cell_type": "code",
   "execution_count": 34,
   "metadata": {},
   "outputs": [
    {
     "data": {
      "text/plain": [
       "int"
      ]
     },
     "execution_count": 34,
     "metadata": {},
     "output_type": "execute_result"
    }
   ],
   "source": [
    "type(number)"
   ]
  },
  {
   "cell_type": "code",
   "execution_count": null,
   "metadata": {},
   "outputs": [],
   "source": []
  },
  {
   "cell_type": "markdown",
   "metadata": {
    "slideshow": {
     "slide_type": "subslide"
    }
   },
   "source": [
    "## The __`while`__ Loop\n",
    "* we use a __`while`__ loop when we want to repeat something an _unknown_ number of times\n",
    "* real world example–_keep driving until you get to a traffic light, then turn right_\n",
    "* a __`while`__ loop checks a boolean condition and keeps going until the condition becomes false \n",
    "* much less common than __`for`__ loops\n",
    "* syntax\n",
    "\n",
    "   <pre>\n",
    "      <b>\n",
    "      while condition:\n",
    "          statement(s)\n",
    "      </b>\n",
    "   </pre>\n",
    "        \n",
    "<img src=\"images/python_while_loop.jpg\" alt=\"flow\" style=\"width: 350px;\"/>\n"
   ]
  },
  {
   "cell_type": "code",
   "execution_count": 16,
   "metadata": {},
   "outputs": [
    {
     "name": "stdin",
     "output_type": "stream",
     "text": [
      "Enter a positive number:  -1\n"
     ]
    },
    {
     "name": "stdout",
     "output_type": "stream",
     "text": [
      "The number needs to be >= 1\n"
     ]
    },
    {
     "name": "stdin",
     "output_type": "stream",
     "text": [
      "Enter a positive number:  1\n"
     ]
    }
   ],
   "source": [
    "# get a positive number from the user\n",
    "# keep asking until the user complies\n",
    "num = 0 # \"priming the pump\"\n",
    "while num < 1:\n",
    "    num = int(input(\"Enter a positive number: \"))\n",
    "    if num < 1:\n",
    "        print('The number needs to be >= 1')"
   ]
  },
  {
   "cell_type": "markdown",
   "metadata": {},
   "source": [
    "## Lab: while loops\n",
    "1. write Python code which prompts the user to enter a 5-letter string\n",
    "  * it then reads input from the user and stops if the user did in fact enter a 5-letter string\n",
    "  * otherwise, it prints an error message, and once again asks the user to enter a 5-letter string\n",
    "2. write a Python program which picks a random number between 1 and 100 and asks the user to guess it\n",
    "  * if the user's guess is too high, say it's too high\n",
    "  * if the user's guess is too low, say it's too low\n",
    "  * if the user's guess is correct, say it's correct and stop looping\n",
    "  * you can use the code below to get a random number\n",
    "  \n",
    "  <pre><b>\n",
    "  import random\n",
    "  number = random.randint(1, 100)\n",
    "  </b></pre>\n",
    "  \n"
   ]
  },
  {
   "cell_type": "code",
   "execution_count": 53,
   "metadata": {},
   "outputs": [
    {
     "name": "stdout",
     "output_type": "stream",
     "text": [
      "31\n"
     ]
    }
   ],
   "source": [
    "import random\n",
    "number = random.randint(1, 100)\n",
    "print(number)"
   ]
  },
  {
   "cell_type": "code",
   "execution_count": null,
   "metadata": {},
   "outputs": [],
   "source": [
    "# 1. generate a random number\n",
    "# 2. ask player to guess\n",
    "# 3. until guess equals number\n",
    "# 4.    \"you got it!\"\n",
    "# 4a.   stop asking\n",
    "# 5. else if guess > number\n",
    "# 6     \"too high\"\n",
    "# 7. else\n",
    "# 8.    \"too low\""
   ]
  },
  {
   "cell_type": "code",
   "execution_count": 19,
   "metadata": {},
   "outputs": [
    {
     "name": "stdin",
     "output_type": "stream",
     "text": [
      "Enter a 5-letter string:  \n"
     ]
    },
    {
     "name": "stdout",
     "output_type": "stream",
     "text": [
      "That is not a 5-letter word!\n"
     ]
    },
    {
     "name": "stdin",
     "output_type": "stream",
     "text": [
      "Enter a 5-letter string:  \n"
     ]
    },
    {
     "name": "stdout",
     "output_type": "stream",
     "text": [
      "That is not a 5-letter word!\n"
     ]
    },
    {
     "name": "stdin",
     "output_type": "stream",
     "text": [
      "Enter a 5-letter string:  \n"
     ]
    },
    {
     "name": "stdout",
     "output_type": "stream",
     "text": [
      "That is not a 5-letter word!\n"
     ]
    },
    {
     "name": "stdin",
     "output_type": "stream",
     "text": [
      "Enter a 5-letter string:  \n"
     ]
    },
    {
     "name": "stdout",
     "output_type": "stream",
     "text": [
      "That is not a 5-letter word!\n"
     ]
    },
    {
     "name": "stdin",
     "output_type": "stream",
     "text": [
      "Enter a 5-letter string:  \n"
     ]
    },
    {
     "name": "stdout",
     "output_type": "stream",
     "text": [
      "That is not a 5-letter word!\n"
     ]
    },
    {
     "name": "stdin",
     "output_type": "stream",
     "text": [
      "Enter a 5-letter string:  \n"
     ]
    },
    {
     "name": "stdout",
     "output_type": "stream",
     "text": [
      "That is not a 5-letter word!\n"
     ]
    },
    {
     "name": "stdin",
     "output_type": "stream",
     "text": [
      "Enter a 5-letter string:  \n"
     ]
    },
    {
     "name": "stdout",
     "output_type": "stream",
     "text": [
      "That is not a 5-letter word!\n"
     ]
    },
    {
     "name": "stdin",
     "output_type": "stream",
     "text": [
      "Enter a 5-letter string:  \n"
     ]
    },
    {
     "name": "stdout",
     "output_type": "stream",
     "text": [
      "That is not a 5-letter word!\n"
     ]
    },
    {
     "name": "stdin",
     "output_type": "stream",
     "text": [
      "Enter a 5-letter string:  \n"
     ]
    },
    {
     "name": "stdout",
     "output_type": "stream",
     "text": [
      "That is not a 5-letter word!\n"
     ]
    },
    {
     "name": "stdin",
     "output_type": "stream",
     "text": [
      "Enter a 5-letter string:  \n"
     ]
    },
    {
     "name": "stdout",
     "output_type": "stream",
     "text": [
      "That is not a 5-letter word!\n"
     ]
    },
    {
     "name": "stdin",
     "output_type": "stream",
     "text": [
      "Enter a 5-letter string:  \n"
     ]
    },
    {
     "name": "stdout",
     "output_type": "stream",
     "text": [
      "That is not a 5-letter word!\n"
     ]
    },
    {
     "name": "stdin",
     "output_type": "stream",
     "text": [
      "Enter a 5-letter string:  \n"
     ]
    },
    {
     "name": "stdout",
     "output_type": "stream",
     "text": [
      "That is not a 5-letter word!\n"
     ]
    },
    {
     "name": "stdin",
     "output_type": "stream",
     "text": [
      "Enter a 5-letter string:  \n"
     ]
    },
    {
     "name": "stdout",
     "output_type": "stream",
     "text": [
      "That is not a 5-letter word!\n"
     ]
    },
    {
     "name": "stdin",
     "output_type": "stream",
     "text": [
      "Enter a 5-letter string:  \n"
     ]
    },
    {
     "name": "stdout",
     "output_type": "stream",
     "text": [
      "That is not a 5-letter word!\n"
     ]
    },
    {
     "name": "stdin",
     "output_type": "stream",
     "text": [
      "Enter a 5-letter string:  \n"
     ]
    },
    {
     "name": "stdout",
     "output_type": "stream",
     "text": [
      "That is not a 5-letter word!\n"
     ]
    },
    {
     "name": "stdin",
     "output_type": "stream",
     "text": [
      "Enter a 5-letter string:  \n"
     ]
    },
    {
     "name": "stdout",
     "output_type": "stream",
     "text": [
      "That is not a 5-letter word!\n"
     ]
    },
    {
     "name": "stdin",
     "output_type": "stream",
     "text": [
      "Enter a 5-letter string:  \n"
     ]
    },
    {
     "name": "stdout",
     "output_type": "stream",
     "text": [
      "That is not a 5-letter word!\n"
     ]
    },
    {
     "name": "stdin",
     "output_type": "stream",
     "text": [
      "Enter a 5-letter string:  \n"
     ]
    },
    {
     "name": "stdout",
     "output_type": "stream",
     "text": [
      "That is not a 5-letter word!\n"
     ]
    },
    {
     "name": "stdin",
     "output_type": "stream",
     "text": [
      "Enter a 5-letter string:  \n"
     ]
    },
    {
     "name": "stdout",
     "output_type": "stream",
     "text": [
      "That is not a 5-letter word!\n"
     ]
    },
    {
     "name": "stdin",
     "output_type": "stream",
     "text": [
      "Enter a 5-letter string:  \n"
     ]
    },
    {
     "name": "stdout",
     "output_type": "stream",
     "text": [
      "That is not a 5-letter word!\n"
     ]
    },
    {
     "name": "stdin",
     "output_type": "stream",
     "text": [
      "Enter a 5-letter string:  \n"
     ]
    },
    {
     "name": "stdout",
     "output_type": "stream",
     "text": [
      "That is not a 5-letter word!\n"
     ]
    },
    {
     "name": "stdin",
     "output_type": "stream",
     "text": [
      "Enter a 5-letter string:  \n"
     ]
    },
    {
     "name": "stdout",
     "output_type": "stream",
     "text": [
      "That is not a 5-letter word!\n"
     ]
    },
    {
     "name": "stdin",
     "output_type": "stream",
     "text": [
      "Enter a 5-letter string:  \n"
     ]
    },
    {
     "name": "stdout",
     "output_type": "stream",
     "text": [
      "That is not a 5-letter word!\n"
     ]
    },
    {
     "name": "stdin",
     "output_type": "stream",
     "text": [
      "Enter a 5-letter string:  \n"
     ]
    },
    {
     "name": "stdout",
     "output_type": "stream",
     "text": [
      "That is not a 5-letter word!\n"
     ]
    },
    {
     "name": "stdin",
     "output_type": "stream",
     "text": [
      "Enter a 5-letter string:  \n"
     ]
    },
    {
     "name": "stdout",
     "output_type": "stream",
     "text": [
      "That is not a 5-letter word!\n"
     ]
    },
    {
     "name": "stdin",
     "output_type": "stream",
     "text": [
      "Enter a 5-letter string:  \n"
     ]
    },
    {
     "name": "stdout",
     "output_type": "stream",
     "text": [
      "That is not a 5-letter word!\n"
     ]
    },
    {
     "name": "stdin",
     "output_type": "stream",
     "text": [
      "Enter a 5-letter string:  \n"
     ]
    },
    {
     "name": "stdout",
     "output_type": "stream",
     "text": [
      "That is not a 5-letter word!\n"
     ]
    },
    {
     "name": "stdin",
     "output_type": "stream",
     "text": [
      "Enter a 5-letter string:  \n"
     ]
    },
    {
     "name": "stdout",
     "output_type": "stream",
     "text": [
      "That is not a 5-letter word!\n"
     ]
    },
    {
     "name": "stdin",
     "output_type": "stream",
     "text": [
      "Enter a 5-letter string:  \n"
     ]
    },
    {
     "name": "stdout",
     "output_type": "stream",
     "text": [
      "That is not a 5-letter word!\n"
     ]
    },
    {
     "name": "stdin",
     "output_type": "stream",
     "text": [
      "Enter a 5-letter string:  \n"
     ]
    },
    {
     "name": "stdout",
     "output_type": "stream",
     "text": [
      "That is not a 5-letter word!\n"
     ]
    },
    {
     "name": "stdin",
     "output_type": "stream",
     "text": [
      "Enter a 5-letter string:  \n"
     ]
    },
    {
     "name": "stdout",
     "output_type": "stream",
     "text": [
      "That is not a 5-letter word!\n"
     ]
    },
    {
     "name": "stdin",
     "output_type": "stream",
     "text": [
      "Enter a 5-letter string:  \n"
     ]
    },
    {
     "name": "stdout",
     "output_type": "stream",
     "text": [
      "That is not a 5-letter word!\n"
     ]
    },
    {
     "name": "stdin",
     "output_type": "stream",
     "text": [
      "Enter a 5-letter string:  \n"
     ]
    },
    {
     "name": "stdout",
     "output_type": "stream",
     "text": [
      "That is not a 5-letter word!\n"
     ]
    },
    {
     "name": "stdin",
     "output_type": "stream",
     "text": [
      "Enter a 5-letter string:  hello\n"
     ]
    }
   ],
   "source": [
    "# 1. ask the user for a 5-letter word/string\n",
    "# 2. count the number of letters\n",
    "# 3. if length != 5 try again\n",
    "\n",
    "# 1. ask the user for a 5-letter word/string\n",
    "# 2. keep asking until the word is 5 letters long\n",
    "\n",
    "# now let's try to get more towards steps that we can convert to Python\n",
    "# 1. ask the user for a 5-letter word/string\n",
    "# 2. while the string is not 5 letters long:\n",
    "# 3.     print error message\n",
    "# 4.     ask the user for a 5-letter word/string\n",
    "\n",
    "word = input('Enter a 5-letter string: ') # 1\n",
    "while len(word) != 5: # 2\n",
    "    print('That is not a 5-letter word!') # 3\n",
    "    word = input('Enter a 5-letter string: ') # 4"
   ]
  },
  {
   "cell_type": "code",
   "execution_count": null,
   "metadata": {},
   "outputs": [],
   "source": [
    "# while I'm not tired:\n",
    "#    jump rope\n",
    "#    if my kid needs help:\n",
    "#       stop and help my kid (break)\n",
    "\n",
    "# for (each) egg in the container:\n",
    "#.   ensure it spins (so that it's not broken)\n",
    "#.   if I find one that does NOT spin:\n",
    "#.      stop and go to next dozen (break)"
   ]
  },
  {
   "cell_type": "markdown",
   "metadata": {
    "slideshow": {
     "slide_type": "subslide"
    }
   },
   "source": [
    "## Syntax Common to Both __`for`__ and __`while`__ Loops\n",
    "* the __`break`__ statement is used to immediately exit a loop\n",
    "* let's see examples..."
   ]
  },
  {
   "cell_type": "code",
   "execution_count": 30,
   "metadata": {},
   "outputs": [
    {
     "name": "stdout",
     "output_type": "stream",
     "text": [
      "hello\n",
      "hello\n",
      "hello\n",
      "hello\n",
      "hello\n",
      "hello\n",
      "hello\n"
     ]
    }
   ],
   "source": [
    "for _ in range(7): # ONLY WAY TO INTERPRET IT: do this 10 times\n",
    "    print('hello')"
   ]
  },
  {
   "cell_type": "code",
   "execution_count": 32,
   "metadata": {},
   "outputs": [
    {
     "name": "stdin",
     "output_type": "stream",
     "text": [
      "Enter a 5-letter string:  book\n"
     ]
    },
    {
     "name": "stdout",
     "output_type": "stream",
     "text": [
      "Pay attention, you need to enter a 5-letter word!\n"
     ]
    },
    {
     "name": "stdin",
     "output_type": "stream",
     "text": [
      "Enter a 5-letter string:  star\n"
     ]
    },
    {
     "name": "stdout",
     "output_type": "stream",
     "text": [
      "Pay attention, you need to enter a 5-letter word!\n"
     ]
    },
    {
     "name": "stdin",
     "output_type": "stream",
     "text": [
      "Enter a 5-letter string:  books\n"
     ]
    }
   ],
   "source": [
    "# Give the user up to 5 tries to comply\n",
    "\n",
    "# 1. up to 5 times\n",
    "# 2. ask the user for a 5-letter word\n",
    "\n",
    "# 1. for up to 5 times\n",
    "# 2.    get a word from the user\n",
    "# 3.    if it's a 5-letter word:\n",
    "# 4.       stop\n",
    "# 5.    print error message to help user understand\n",
    "\n",
    "for num_tries in range(5): # 1: do this 5 times (this is not \"up to\" but rather EXACTLY 5 times)\n",
    "    string = input('Enter a 5-letter string: ') # 2\n",
    "    if len(string) == 5: # 3\n",
    "        break # 4\n",
    "    print('Pay attention, you need to enter a 5-letter word!') # 5 \n",
    "\n",
    "# when we get out of the loop, we don't know why\n",
    "# so to check why, we can look at the length of the string\n",
    "if len(string) != 5:\n",
    "    print('you blew it')"
   ]
  },
  {
   "cell_type": "code",
   "execution_count": 37,
   "metadata": {},
   "outputs": [
    {
     "name": "stdin",
     "output_type": "stream",
     "text": [
      "Enter a 5-letter word:  1\n"
     ]
    },
    {
     "name": "stdout",
     "output_type": "stream",
     "text": [
      "Pay attention, you need to enter a 5-letter word!\n"
     ]
    },
    {
     "name": "stdin",
     "output_type": "stream",
     "text": [
      "Enter a 5-letter word:  2\n"
     ]
    },
    {
     "name": "stdout",
     "output_type": "stream",
     "text": [
      "Pay attention, you need to enter a 5-letter word!\n"
     ]
    },
    {
     "name": "stdin",
     "output_type": "stream",
     "text": [
      "Enter a 5-letter word:  3\n"
     ]
    },
    {
     "name": "stdout",
     "output_type": "stream",
     "text": [
      "Pay attention, you need to enter a 5-letter word!\n"
     ]
    },
    {
     "name": "stdin",
     "output_type": "stream",
     "text": [
      "Enter a 5-letter word:  5\n"
     ]
    },
    {
     "name": "stdout",
     "output_type": "stream",
     "text": [
      "Pay attention, you need to enter a 5-letter word!\n"
     ]
    },
    {
     "name": "stdin",
     "output_type": "stream",
     "text": [
      "Enter a 5-letter word:  6\n"
     ]
    },
    {
     "name": "stdout",
     "output_type": "stream",
     "text": [
      "Pay attention, you need to enter a 5-letter word!\n",
      "Why can't you follow directions?\n",
      "after the loop\n"
     ]
    }
   ],
   "source": [
    "# else example\n",
    "\n",
    "for num in range(5): # 1..5\n",
    "    word = input('Enter a 5-letter word: ')\n",
    "    if len(word) == 5:\n",
    "        break\n",
    "    print('Pay attention, you need to enter a 5-letter word!')\n",
    "else: # this is only executed if we didn't 'break' out of the loop\n",
    "    print(\"Why can't you follow directions?\")\n",
    "\n",
    "print('after the loop')"
   ]
  },
  {
   "cell_type": "markdown",
   "metadata": {},
   "source": [
    "## Lab: break/continue/else\n",
    "* modify your guessing game to add the option for the user to give up by typing a 0 as his or her guess:\n",
    "    * if the user enters a 0, exit the loop\n",
    "    * after the loop, we need to determine   \n",
    "    whether the user gave up or guessed the   \n",
    "    number correctly\n",
    "    * if gave up, print 'sorry you\n",
    "     gave up'\n",
    "    * if correct, print 'got it!'\n",
    "</pre>\n"
   ]
  },
  {
   "cell_type": "markdown",
   "metadata": {
    "slideshow": {
     "slide_type": "subslide"
    }
   },
   "source": [
    "## Post-Test Loops\n",
    "* occasionally we want a loop where the test is performed at the end of the loop\n",
    "* some languages have a special _do-while_ loop for this case, but that doesn't exist in Python\n",
    "* we can simulate a _do-while_ loop in Python as follows:\n",
    "\n",
    " <pre>\n",
    "      <b>\n",
    "      while True:\n",
    "          statement(s)\n",
    "          if condition is false:\n",
    "              break\n",
    "      </b>\n",
    "   </pre>"
   ]
  },
  {
   "cell_type": "code",
   "execution_count": null,
   "metadata": {},
   "outputs": [],
   "source": [
    "# keep adding numbers until user enters a 0\n",
    "\n",
    "total = 0\n",
    "\n",
    "while True: # infinite loop, so we must have a 'break' somewhere in the loop\n",
    "    num = int(input('Enter a number: '))\n",
    "    total += num\n",
    "    if num == 0:\n",
    "        break\n",
    "\n",
    "print(total)"
   ]
  },
  {
   "cell_type": "markdown",
   "metadata": {
    "slideshow": {
     "slide_type": "subslide"
    }
   },
   "source": [
    "## Middle-Test Loops\n",
    "* like a post-test loop, we want a loop where the test is not performed at the top\n",
    "* in this case the test is performed in the middle\n",
    "* no language has a middle-test loop construct\n",
    "* we can perform a middle-test loop in Python as follows:\n",
    "\n",
    " <pre>\n",
    "      <b>\n",
    "      while True:\n",
    "          statement(s)\n",
    "          if condition is false:\n",
    "              break\n",
    "          statement(s)\n",
    "      </b>\n",
    "   </pre>"
   ]
  },
  {
   "cell_type": "code",
   "execution_count": null,
   "metadata": {},
   "outputs": [],
   "source": [
    "# sum up the numbers until user hits return\n",
    "\n",
    "total = 0\n",
    "\n",
    "while True: \n",
    "    num = input(\"Enter the next number (leave blank to end): \")\n",
    "    if num == '':\n",
    "        break\n",
    "    total += int(num)\n",
    "    \n",
    "print(\"The total of the numbers you entered is\", total)"
   ]
  },
  {
   "cell_type": "markdown",
   "metadata": {
    "slideshow": {
     "slide_type": "subslide"
    }
   },
   "source": [
    "## Nested Loops\n",
    "* it is possible–and quite common–to have a loop inside a loop\n",
    "* in these cases, the inner loop(s) must complete before the outer loop continues"
   ]
  },
  {
   "cell_type": "code",
   "execution_count": null,
   "metadata": {},
   "outputs": [],
   "source": [
    "for first in range(1, 11):\n",
    "    # for each iteration of the outer loop, the inner loop\n",
    "    # will run to completion\n",
    "    for second in range(1, 11):\n",
    "        print(first * second, end=' ')\n",
    "        if first * second < 10:\n",
    "            print(' ', end='')\n",
    "        if first * second < 100:\n",
    "            print(' ', end='')\n",
    "        #print('%3d' % (first * second), end=' ') # Python 2-style\n",
    "        #print('{:3d}'.format(first * second), end=' ')\n",
    "    print()"
   ]
  },
  {
   "cell_type": "code",
   "execution_count": null,
   "metadata": {},
   "outputs": [],
   "source": []
  },
  {
   "cell_type": "markdown",
   "metadata": {
    "slideshow": {
     "slide_type": "subslide"
    }
   },
   "source": [
    "## Lab: Finding Prime Numbers\n",
    "* write a program to print out the prime numbers between 10 and 30\n",
    "* a number is prime if it's only divisible by 1 and itself\n",
    "* algorithm\n",
    "  * for each number 10 to 30\n",
    "    * try to divide in all of the numbers up to (but not including) the current number\n",
    "    * if any lower number divides in evenly, the number is not prime\n",
    "    * if NONE of the lower numbers divide in evenly, the number IS prime\n",
    "* later, if there's time, we'll look at another way to find prime numbers that was discovered by Eratosthenes"
   ]
  },
  {
   "cell_type": "markdown",
   "metadata": {
    "slideshow": {
     "slide_type": "slide"
    }
   },
   "source": [
    "# Complex Datatypes in Python"
   ]
  },
  {
   "cell_type": "markdown",
   "metadata": {
    "slideshow": {
     "slide_type": "subslide"
    }
   },
   "source": [
    "## Lists\n",
    "* a list is an ordered set of values\n",
    "* the items which make up a list are called its _elements_\n",
    "* lists are similar to strings, which are _ordered sequences of characters_\n",
    "  * except that the elements of a list can have any type\n",
    "* lists and strings—and other things that behave like ordered sets—are called sequences"
   ]
  },
  {
   "cell_type": "code",
   "execution_count": null,
   "metadata": {},
   "outputs": [],
   "source": [
    "fruits = ['banana', 'apple', 'pear', 'mango', 'cherry', 'blueberry']\n",
    "weird_list = ['Dave', 19, 34.5]\n",
    "empty_list = []\n",
    "# sep is an optional argument or parameter to the print() function which dictates\n",
    "# the separator character that should be printed between items\n",
    "print(fruits, weird_list, empty_list, sep='\\n')"
   ]
  },
  {
   "cell_type": "markdown",
   "metadata": {},
   "source": [
    "* lists may contain duplicate elements\n",
    "* lists are usually homogeneous, but they need not be\n",
    "* other languages have a datatype called an _array_ which is similar to a list, but one main difference is that an array can only contain items of one type–i.e., an array of integers, and array of floats, etc."
   ]
  },
  {
   "cell_type": "markdown",
   "metadata": {
    "slideshow": {
     "slide_type": "subslide"
    }
   },
   "source": [
    "## Lab: Lists\n",
    "* create two lists which are different\n",
    "* compare them for equality\n",
    "* create a third list which has the same elements as one of the other lists\n",
    "* verify that Python says they are the same"
   ]
  },
  {
   "cell_type": "markdown",
   "metadata": {
    "slideshow": {
     "slide_type": "subslide"
    }
   },
   "source": [
    "## Accessing Elements of a List\n",
    "* the syntax for accessing the elements of a list is the same as the syntax for accessing the characters of a string—the bracket operator–__`[]`__\n",
    "* the expression inside the brackets specifies the index\n",
    "* the indices start at 0, because computer scientists start counting at 0\n",
    "* you can use negative indices to refer to the elements from the end backwards"
   ]
  },
  {
   "cell_type": "code",
   "execution_count": null,
   "metadata": {},
   "outputs": [],
   "source": [
    "print(fruits[0])"
   ]
  },
  {
   "cell_type": "code",
   "execution_count": null,
   "metadata": {},
   "outputs": [],
   "source": [
    "weird_list[1] = 'not Dave'\n",
    "print(weird_list)"
   ]
  },
  {
   "cell_type": "code",
   "execution_count": null,
   "metadata": {},
   "outputs": [],
   "source": [
    "fruits[-1] = 'raspberry'\n",
    "print(fruits)"
   ]
  },
  {
   "cell_type": "markdown",
   "metadata": {
    "slideshow": {
     "slide_type": "subslide"
    }
   },
   "source": [
    "## Iterating Through a List\n",
    "* a list is a _container_, so we can use Python's natural iteration to cycle through the list\n",
    "* syntax\n",
    "\n",
    "<pre><b>\n",
    "    for item in list:\n",
    "        do something with item (e.g., print)\n",
    "</b></pre>"
   ]
  },
  {
   "cell_type": "code",
   "execution_count": null,
   "metadata": {
    "slideshow": {
     "slide_type": "-"
    }
   },
   "outputs": [],
   "source": [
    "for fruit in fruits:\n",
    "    print(fruit)"
   ]
  },
  {
   "cell_type": "markdown",
   "metadata": {
    "slideshow": {
     "slide_type": "subslide"
    }
   },
   "source": [
    "## Slicing\n",
    "* Python has a very powerful feature called _slicing_ which allows you to specify a _slice_ (or subset) of a list (or a string as it turns out), rather than just a single element\n",
    "* slice syntax: __`container[start:stop:step]`__\n",
    "  * __`start`__ = the index at which to start\n",
    "  * __`stop`__ = the index at which to stop (+1 or -1 depending on which direction)\n",
    "  * __`step`__ = how many indices to move forward (or backward)\n",
    "  * __`start`__, __`stop`__, and __`step`__ are _optional_!"
   ]
  },
  {
   "cell_type": "code",
   "execution_count": null,
   "metadata": {},
   "outputs": [],
   "source": [
    "string = 'Frank Benedict eats jam in the morning'\n",
    "string[6:9] + string[20:23] + string[24:27] + string[:5] + 'lin'"
   ]
  },
  {
   "cell_type": "code",
   "execution_count": null,
   "metadata": {},
   "outputs": [],
   "source": [
    "alphabet = 'abcdefghijklmnopqrstuvwxyz'\n",
    "print('13th letter of the alphabet is', alphabet[12])"
   ]
  },
  {
   "cell_type": "code",
   "execution_count": null,
   "metadata": {},
   "outputs": [],
   "source": [
    "print('Every other letter in the 1st half of the alphabet:',\n",
    "      alphabet[:13:2])"
   ]
  },
  {
   "cell_type": "code",
   "execution_count": null,
   "metadata": {},
   "outputs": [],
   "source": [
    "print('Every other letter in the 2nd half of the alphabet:',\n",
    "      alphabet[13::2])"
   ]
  },
  {
   "cell_type": "code",
   "execution_count": null,
   "metadata": {},
   "outputs": [],
   "source": [
    "print('The alphabet backwards is', alphabet[::-1])"
   ]
  },
  {
   "cell_type": "code",
   "execution_count": null,
   "metadata": {},
   "outputs": [],
   "source": [
    "string = input('Enter a string: ')\n",
    "print('The last 3 characters of the string are:', string[-3:])"
   ]
  },
  {
   "cell_type": "code",
   "execution_count": null,
   "metadata": {
    "slideshow": {
     "slide_type": "-"
    }
   },
   "outputs": [],
   "source": [
    "# Works the same with lists...\n",
    "print(fruits)"
   ]
  },
  {
   "cell_type": "code",
   "execution_count": null,
   "metadata": {
    "slideshow": {
     "slide_type": "-"
    }
   },
   "outputs": [],
   "source": [
    "print(fruits[::-1])"
   ]
  },
  {
   "cell_type": "code",
   "execution_count": null,
   "metadata": {
    "slideshow": {
     "slide_type": "-"
    }
   },
   "outputs": [],
   "source": [
    "print(fruits[3:])"
   ]
  },
  {
   "cell_type": "code",
   "execution_count": null,
   "metadata": {
    "slideshow": {
     "slide_type": "-"
    }
   },
   "outputs": [],
   "source": [
    "print(fruits[:3])"
   ]
  },
  {
   "cell_type": "code",
   "execution_count": null,
   "metadata": {
    "slideshow": {
     "slide_type": "-"
    }
   },
   "outputs": [],
   "source": [
    "print('The middle 3 fruits:', fruits[2:5])"
   ]
  },
  {
   "cell_type": "code",
   "execution_count": null,
   "metadata": {
    "slideshow": {
     "slide_type": "-"
    }
   },
   "outputs": [],
   "source": [
    "print('Every other fruit:', fruits[::2])"
   ]
  },
  {
   "cell_type": "markdown",
   "metadata": {
    "slideshow": {
     "slide_type": "subslide"
    }
   },
   "source": [
    "## Adding to a List...\n",
    "* the __`append()`__ function will add an item to the end of the list\n",
    "* the __`insert()`__ function will add an item at a particular offset, moving the remaining item down in the process\n",
    "* the __`extend()`__ function (also invoked via the __`+=`__ operator) will add a list to a list, one element at a time\n",
    "* NOTE: these functions (technically called _methods_) are a part of the list itself, which means that they are called by writing __`listname.append(item)`__, __`listname.insert(index, item)`__, and __`listname.extend(otherlist)`__"
   ]
  },
  {
   "cell_type": "code",
   "execution_count": null,
   "metadata": {},
   "outputs": [],
   "source": [
    "print(fruits)\n",
    "fruits.append('lemon') # NOT append(list_of_fruits, 'lemon')\n",
    "fruits"
   ]
  },
  {
   "cell_type": "code",
   "execution_count": null,
   "metadata": {},
   "outputs": [],
   "source": [
    "fruits.insert(4, 'tomato')\n",
    "fruits"
   ]
  },
  {
   "cell_type": "code",
   "execution_count": null,
   "metadata": {},
   "outputs": [],
   "source": [
    "more_fruits = ['lime', 'watermelon']\n",
    "fruits.extend(more_fruits) # list_of_fruits += more_fruits\n",
    "fruits"
   ]
  },
  {
   "cell_type": "markdown",
   "metadata": {
    "slideshow": {
     "slide_type": "subslide"
    }
   },
   "source": [
    "## Lab: Lists\n",
    "* create an empty list\n",
    "* write Python code to repeatedly ask the user for a name until the name entered is 'quit'\n",
    "* add each name to the list\n",
    "* after the user types 'quit' print every other name (first, third, fifth, etc.)\n",
    "* then print every other name (second, fourth, sixth, etc.)\n"
   ]
  },
  {
   "cell_type": "markdown",
   "metadata": {
    "slideshow": {
     "slide_type": "subslide"
    }
   },
   "source": [
    "## Creating a List with __`split()`__\n",
    "* the __`split()`__ function splits a string into a list\n",
    "* by default, __`split()`__ will split up a string using a space as the separator\n",
    "* ...but you can specify any separator you want"
   ]
  },
  {
   "cell_type": "code",
   "execution_count": null,
   "metadata": {},
   "outputs": [],
   "source": [
    "string = input('Enter a string and I will make a list out of it: ')\n",
    "mylist = string.split()\n",
    "mylist"
   ]
  },
  {
   "cell_type": "code",
   "execution_count": null,
   "metadata": {},
   "outputs": [],
   "source": [
    "comma_separated = 'eggs, milk, butter, cheese'\n",
    "shopping_list = comma_separated.split(', ')\n",
    "shopping_list"
   ]
  },
  {
   "cell_type": "markdown",
   "metadata": {
    "slideshow": {
     "slide_type": "subslide"
    }
   },
   "source": [
    "## Combining a List into a String with __`join()`__\n",
    "* __`join()`__ is used to take the elements of a list (or any sequence) and concatenate them into a single string\n",
    "* the syntax looks odd because __`join()`__ is a _string_ function–__not a list function__"
   ]
  },
  {
   "cell_type": "code",
   "execution_count": null,
   "metadata": {},
   "outputs": [],
   "source": [
    "', '.join(shopping_list)\n",
    "# want to write shopping_list.join(', ')"
   ]
  },
  {
   "cell_type": "code",
   "execution_count": null,
   "metadata": {},
   "outputs": [],
   "source": [
    "list_of_letters = list('Dunder Mifflin')\n",
    "print(list_of_letters)\n",
    "print(''.join(list_of_letters))"
   ]
  },
  {
   "cell_type": "code",
   "execution_count": null,
   "metadata": {},
   "outputs": [],
   "source": [
    "'+'.join(list('Python'))"
   ]
  },
  {
   "cell_type": "code",
   "execution_count": null,
   "metadata": {},
   "outputs": [],
   "source": [
    "'Tesla Rivian Polestar'.split()"
   ]
  },
  {
   "cell_type": "markdown",
   "metadata": {
    "slideshow": {
     "slide_type": "subslide"
    }
   },
   "source": [
    "## Group Lab: Jumble (Word Scrambling)\n",
    "* write a program which plays the jumble word game, i.e., it will present you with a scrambled word and you have to come up with the correctly spelled word\n",
    "  * you can use the __`random`__ module for this\n",
    "  * __`random.choice(container)`__ will return a random item from the container\n",
    "  * __`random.shuffle(container)`__ will shuffle a container so the items are scrambled\n",
    "  * you can't shuffle a string, so you'll need to put the characters into a list using the __`list()`__ function, then shuffle the list, then put the back into a string using __`join()`__"
   ]
  },
  {
   "cell_type": "markdown",
   "metadata": {
    "slideshow": {
     "slide_type": "subslide"
    }
   },
   "source": [
    "## Removing Items from a List\n",
    "* __`remove()`__ will remove an item by value\n",
    "* __`pop()`__ will remove an item by index (and return the item)\n",
    "* as is the case with the add functions, we call them as __`listname.remove(item)`__ and __`listname.pop(index)`__"
   ]
  },
  {
   "cell_type": "code",
   "execution_count": null,
   "metadata": {},
   "outputs": [],
   "source": [
    "fruits = ['banana', 'apple', 'lemon', 'pear', 'fig', 'mango','raspberry', 'lemon']\n",
    "print(fruits.pop(-3))"
   ]
  },
  {
   "cell_type": "code",
   "execution_count": null,
   "metadata": {},
   "outputs": [],
   "source": [
    "fruits"
   ]
  },
  {
   "cell_type": "code",
   "execution_count": null,
   "metadata": {},
   "outputs": [],
   "source": [
    "# Given what we know so far, remove ALL lemons from the list\n",
    "print(fruits.count('lemon'))\n",
    "\n",
    "while 'lemon' in fruits:\n",
    "    fruits.remove('lemon')\n",
    "fruits"
   ]
  },
  {
   "cell_type": "code",
   "execution_count": null,
   "metadata": {},
   "outputs": [],
   "source": [
    "# Take the remaining items and pop each item off until empty\n",
    "while fruits:\n",
    "    print('popping', fruits.pop(0))\n",
    "    print(fruits)"
   ]
  },
  {
   "cell_type": "markdown",
   "metadata": {
    "slideshow": {
     "slide_type": "subslide"
    }
   },
   "source": [
    "## Sorting a List\n",
    "* lists have a __`sort()`__ function\n",
    "* sorting is performed alphabetically or numerically by default\n",
    "* you can choose to sort in reverse (descending) order"
   ]
  },
  {
   "cell_type": "code",
   "execution_count": null,
   "metadata": {},
   "outputs": [],
   "source": [
    "fruits = ['banana', 'apple', 'lemon', 'pear', 'fig', 'mango', 'lemon']\n",
    "fruits"
   ]
  },
  {
   "cell_type": "code",
   "execution_count": null,
   "metadata": {},
   "outputs": [],
   "source": [
    "fruits.sort()\n",
    "fruits"
   ]
  },
  {
   "cell_type": "code",
   "execution_count": null,
   "metadata": {},
   "outputs": [],
   "source": [
    "fruits.sort(reverse=True)\n",
    "fruits"
   ]
  },
  {
   "cell_type": "markdown",
   "metadata": {
    "slideshow": {
     "slide_type": "subslide"
    }
   },
   "source": [
    "## Lab: List Management/Sorting\n",
    "* write a program to read in words\n",
    "* if the word begins with a vowel, put it in \"vowel\" list, otherwise put it in the \"consonant\" list\n",
    "* when the user types \"quit\", stop and print out the sorted list of words that begin with vowels, and the sorted list of words that begin with consonants"
   ]
  },
  {
   "cell_type": "markdown",
   "metadata": {
    "slideshow": {
     "slide_type": "subslide"
    }
   },
   "source": [
    "## Dictionaries\n",
    "* a Python _dictionary_ is an unordered collection of key-value pairs\n",
    "* instead of using integers as indices, dictionaries use a key, which is often a string\n",
    "* a dictionary maps a key to a value–give it the key as an index, and it will return the value\n",
    "* indeed they are called _maps_ in some languages"
   ]
  },
  {
   "cell_type": "code",
   "execution_count": null,
   "metadata": {},
   "outputs": [],
   "source": [
    "# creating a dictionary and initializing it\n",
    "cups = { 'tall': 12, 'grande': 16, 'venti': 20 }\n",
    "type(cups), cups"
   ]
  },
  {
   "cell_type": "code",
   "execution_count": null,
   "metadata": {},
   "outputs": [],
   "source": [
    "print('A tall cup contains', cups['tall'], 'ounces')"
   ]
  },
  {
   "cell_type": "code",
   "execution_count": null,
   "metadata": {},
   "outputs": [],
   "source": [
    "cups[0]"
   ]
  },
  {
   "cell_type": "code",
   "execution_count": null,
   "metadata": {},
   "outputs": [],
   "source": [
    "if 'trenta' in cups: # only looks at keys\n",
    "    print(cups['trenta'])"
   ]
  },
  {
   "cell_type": "code",
   "execution_count": null,
   "metadata": {},
   "outputs": [],
   "source": [
    "for thing in cups:\n",
    "    print(thing, cups[thing])"
   ]
  },
  {
   "cell_type": "code",
   "execution_count": null,
   "metadata": {
    "slideshow": {
     "slide_type": "subslide"
    }
   },
   "outputs": [],
   "source": [
    "# How about a dictionary to translate English into Spanish\n",
    "english_to_spanish = { 'hello': 'hola', 'one': 'uno', \n",
    "                      'please': 'por favor', 'coffee': 'café' }\n",
    "for word in \"hello one coffee please\".split():\n",
    "    print(english_to_spanish[word], end=' ')\n",
    "print()"
   ]
  },
  {
   "cell_type": "code",
   "execution_count": null,
   "metadata": {
    "slideshow": {
     "slide_type": "subslide"
    }
   },
   "outputs": [],
   "source": [
    "english_to_spanish['corn'] = 'maize'\n",
    "print(english_to_spanish)\n",
    "english_to_spanish['table'] = 'mesa'\n",
    "print(english_to_spanish)\n",
    "english_to_spanish['flour'] = 'arina'\n",
    "print(english_to_spanish)"
   ]
  },
  {
   "cell_type": "markdown",
   "metadata": {
    "slideshow": {
     "slide_type": "subslide"
    }
   },
   "source": [
    "## Lab: Roman Numerals\n",
    "* write a program that converts Roman numerals to Arabic numerals\n",
    "* use a dictionary where the keys are Roman numerals and the values are Arabic numerals\n",
    "* __`M = 1000, D = 500, C = 100, L = 50, X = 10, V = 5, I = 1`__\n",
    "* for example, __`MDCLXVI`__ would be __`1000 + 500 + 100 + 50 + 10 + 5 + 1 = 1666`__\n",
    "* once you get that working, think about this additional wrinkle:\n",
    "  * if a smaller value precedes a larger value, then the correct thing to do is to subtract the smaller value from the larger value\n",
    "  * e.g., __`IX = 10 - 1 = 9`__\n",
    "  * e.g., __`MCM = 1000 + (1000 - 100) = 1900`__"
   ]
  },
  {
   "cell_type": "markdown",
   "metadata": {
    "slideshow": {
     "slide_type": "subslide"
    }
   },
   "source": [
    "## Lab: Word Counting\n",
    "* write a program to read lines of text entered by the user\n",
    "* split the lines into words, and count the occurrences of each word using a dictionary\n",
    "* if the word is in dictionary (use the __`in`__ operator), increment its count\n",
    "* if the word is NOT in the dictionary, set its count to 1\n",
    "* stop when the user enters 'quit', and print out the words and their counts"
   ]
  },
  {
   "cell_type": "code",
   "execution_count": null,
   "metadata": {},
   "outputs": [],
   "source": [
    "wordcount = {} # empty dict\n",
    "# 1. repeat until 'quit'\n",
    "#     1a. read words from the user\n",
    "#         one line at a time\n",
    "#     1b. split into individual words\n",
    "#     2c. for each word in the splitted list\n",
    "#     2d. if it's in the dict, increment count\n",
    "#         else put it in the dict\n",
    "#         with count of 1\n",
    "# 3. print out words and counts"
   ]
  },
  {
   "cell_type": "markdown",
   "metadata": {
    "slideshow": {
     "slide_type": "subslide"
    }
   },
   "source": [
    "## Deleting from a __`dict`__\n",
    "* __`pop(key)`__ will remove the corresponding key/value pair from the __`dict`__\n",
    "* __`clear()`__ will remove ALL entries"
   ]
  },
  {
   "cell_type": "code",
   "execution_count": null,
   "metadata": {},
   "outputs": [],
   "source": [
    "cups.pop('not there')"
   ]
  },
  {
   "cell_type": "code",
   "execution_count": null,
   "metadata": {},
   "outputs": [],
   "source": [
    "if 'grande' in cups:\n",
    "    cups.pop('grande')\n",
    "cups"
   ]
  },
  {
   "cell_type": "code",
   "execution_count": null,
   "metadata": {},
   "outputs": [],
   "source": [
    "cups.clear()\n",
    "cups"
   ]
  },
  {
   "cell_type": "markdown",
   "metadata": {
    "slideshow": {
     "slide_type": "slide"
    }
   },
   "source": [
    "# Defining Our Own Functions"
   ]
  },
  {
   "cell_type": "markdown",
   "metadata": {
    "slideshow": {
     "slide_type": "subslide"
    }
   },
   "source": [
    "## What is a Function (Redux)?\n",
    "* a _function_ is a named, self-contained snippet of code which performs a specific task\n",
    "* functions are sometimes called procedures, subprograms, or methods\n",
    "* functions can accept some data as input, and can return some data as output\n",
    "* the input, which is optional, is called _parameters_ or _arguments_\n",
    "* the output, which is also optional, is called the _return value_\n",
    "* we use the __`def`__ keyword to define a function\n",
    "* the body of the function is indented\n",
    "* syntax\n",
    "\n",
    "<pre>\n",
    "    <b>\n",
    "    def funcname(arg1, arg2, ...):\n",
    "        statement(s)\n",
    "    </b>\n",
    "</pre>"
   ]
  },
  {
   "cell_type": "code",
   "execution_count": null,
   "metadata": {},
   "outputs": [],
   "source": [
    "# Here is a function which takes no input (parameters) and has\n",
    "# no return value. The things that are printed by the function\n",
    "# are not considered a return value.\n",
    "\n",
    "def print_header():\n",
    "    print('-' * 63)\n",
    "    print('   RESTRICTED ACCESS' * 3)\n",
    "    print('-' * 63)\n",
    "    \n",
    "print_header()\n",
    "print('you should not be reading this')\n",
    "print_header()"
   ]
  },
  {
   "cell_type": "code",
   "execution_count": null,
   "metadata": {},
   "outputs": [],
   "source": [
    "# This function takes a single argument (or parameter),\n",
    "# but it does not return anything.\n",
    "def pretty_print(message):\n",
    "    print_header()\n",
    "    print(message)\n",
    "    print_header()"
   ]
  },
  {
   "cell_type": "code",
   "execution_count": null,
   "metadata": {},
   "outputs": [],
   "source": [
    "pretty_print('                 DO NOT LOOK AT THIS SCREEN!')"
   ]
  },
  {
   "cell_type": "code",
   "execution_count": null,
   "metadata": {},
   "outputs": [],
   "source": [
    "# This function takes two arguments\n",
    "def print_sum(num1, num2):\n",
    "    print('the sum of', num1, 'and', num2, 'is', num1 + num2)\n",
    "\n",
    "print_sum(32, 48)"
   ]
  },
  {
   "cell_type": "markdown",
   "metadata": {
    "slideshow": {
     "slide_type": "subslide"
    }
   },
   "source": [
    "## Group Lab: Mastermind/Cows and Bulls Game\n",
    "* your program should generate a 4-digit \"secret\" number, where the digits are  all different\n",
    "* the player tries to guess the number  who gives the number of matches. If the matching digits are in their right positions, they are \"bulls\", if in different positions, they are \"cows\". "
   ]
  },
  {
   "cell_type": "markdown",
   "metadata": {
    "slideshow": {
     "slide_type": "subslide"
    }
   },
   "source": [
    "## Scope\n",
    "* the _scope_ of a variable is the part of the program in which the identifier can be accessed (true for functions as well)\n",
    "* so far we have been creating variables in \"global scope\", which means they can be accessed anywhere in the program, i.e., _globally_\n",
    "* when we create a variable inside a function it can be accessed from that point until the end of the function–once the function exits, the variable is no longer accessible"
   ]
  },
  {
   "cell_type": "code",
   "execution_count": null,
   "metadata": {},
   "outputs": [],
   "source": [
    "def function_scope():\n",
    "    print('in function function_scope()')\n",
    "    print('creating the variable \"funcvar\"')\n",
    "    funcvar = 'this variable was created inside the function'\n",
    "    print('funcvar =', funcvar)\n",
    "    print('leaving function function_scope()')\n",
    "    \n",
    "function_scope()\n",
    "print(funcvar)\n"
   ]
  },
  {
   "cell_type": "markdown",
   "metadata": {
    "slideshow": {
     "slide_type": "subslide"
    }
   },
   "source": [
    "## The __`return`__ Statement\n",
    "* if a function wants to return a value to its caller, it must use the __`return`__ statement\n",
    "* whatever value you put in the __`return`__ statement is returned "
   ]
  },
  {
   "cell_type": "code",
   "execution_count": null,
   "metadata": {
    "scrolled": true
   },
   "outputs": [],
   "source": [
    "def adder(x, y):\n",
    "    return x + y\n",
    "\n",
    "adder(21, 34)"
   ]
  },
  {
   "cell_type": "code",
   "execution_count": null,
   "metadata": {},
   "outputs": [],
   "source": [
    "var = adder(-3, 1.0) # adder() returns the sum of its two arguments\n",
    "print(var)"
   ]
  },
  {
   "cell_type": "markdown",
   "metadata": {
    "slideshow": {
     "slide_type": "subslide"
    }
   },
   "source": [
    "## Boolean Functions\n",
    "* functions can return any datatype, but let's consider the class of functions that return a Boolean value, i.e., __`True`__ or __`False`__ \n",
    "* these functions can be used to make our code more readable, especially if we name them __`is_...()`__"
   ]
  },
  {
   "cell_type": "code",
   "execution_count": null,
   "metadata": {},
   "outputs": [],
   "source": [
    "def is_even(number):\n",
    "    return number % 2 == 0\n",
    "\n",
    "num = int(input('Enter a number: '))\n",
    "if is_even(num):\n",
    "    print(num, 'is an even number')\n",
    "else:\n",
    "    print(num, 'is an ODD number')"
   ]
  },
  {
   "cell_type": "markdown",
   "metadata": {
    "slideshow": {
     "slide_type": "subslide"
    }
   },
   "source": [
    "## Functions Can Call Other Functions\n",
    "* ideally, when we write code to solve a problem, we break the problem down into subproblems, and then break those down further into subproblems, etc.\n",
    "* when the problems are \"small enough,\" we write functions to solve them\n",
    "* a good rule of thumb is that if your explanation of what a function does contains the word _and_, then it needs to be broken down even further\n",
    "* better to have too many functions than too few\n",
    "<pre>\n",
    "    <b>\n",
    "    def task1(arg1, arg2, ...):\n",
    "        statement(s)\n",
    "        task2(...)\n",
    "        statement(s)\n",
    "        \n",
    "    def task2(arg1, arg2, ...):\n",
    "        statement(s)\n",
    "        task3(...)\n",
    "        statement(s)\n",
    "        \n",
    "     def task3(arg1, arg2, ...):\n",
    "        statement(s)\n",
    "        \n",
    "     # Now call the first function\n",
    "     task1(...)   \n",
    "    </b>\n",
    "</pre>\n",
    "* in order for one function to call another, the function being called has to have been seen by the interpreter or Python won't know what it is\n",
    "* but as written above, it's fine, because the Python intepreter sees all three functions before the call of __`task1()`__ occurs"
   ]
  },
  {
   "cell_type": "markdown",
   "metadata": {
    "slideshow": {
     "slide_type": "subslide"
    }
   },
   "source": [
    "## Lab: Functions\n",
    "* write __max3__, a function to find the maximum of three values (first create a function that finds the maximum of two values and have __max3__ call it)\n",
    "* write a function to sum all of the numbers in a list\n",
    "* write a function which accepts a list as its argument and returns a new list with all of the duplicates removed (e.g., __remove_dupes([3, 1, 2, 3, 1, 3, 3, 4, 1])__ would return [3, 1, 2, 4])\n",
    "* write a function to check whether its string argument is a pangram (i.e., it contains all of the letters of the alphabet)\n",
    "* write a Boolean function which accepts a string argument and indicates whether it is a palindrome (i.e., it reads the same backwards and forwards–e.g., \"radar\")\n",
    " * once you get that, try to make it work even if the string contains spaces, e.g., \"Ten animals I slam in a net\"\n",
    " * try to use slices if you didn't already"
   ]
  },
  {
   "cell_type": "markdown",
   "metadata": {
    "slideshow": {
     "slide_type": "slide"
    }
   },
   "source": [
    "\n",
    "# Modules"
   ]
  },
  {
   "cell_type": "markdown",
   "metadata": {
    "slideshow": {
     "slide_type": "subslide"
    }
   },
   "source": [
    "## What is a Module?\n",
    "* a module is file containing one or more related functions\n",
    "* we can _import_ the module into our program, giving us access to those functions\n",
    "* the __`string`__ module used to give us access to functions which manipulate strings, but  these functions have been built in to Python strings for a while\n",
    "  * the real value of the string module is the constants it defines\n",
    "* the __`math`__ module gives us access to math functions such as __`sqrt`__, __`sin`__, and __`factorial`__\n",
    "* the random module gives us access to functions that generate random numbers\n"
   ]
  },
  {
   "cell_type": "code",
   "execution_count": null,
   "metadata": {},
   "outputs": [],
   "source": [
    "import string\n",
    "print(string.digits)\n",
    "print(string.punctuation)\n",
    "print(string.ascii_uppercase)\n",
    "print(string.ascii_letters)"
   ]
  },
  {
   "cell_type": "code",
   "execution_count": null,
   "metadata": {},
   "outputs": [],
   "source": [
    "import math\n",
    "print(math.sqrt(2))\n",
    "print(math.sin(math.pi / 2.0)) # 90 degrees in radians\n",
    "print(math.factorial(52))"
   ]
  },
  {
   "cell_type": "code",
   "execution_count": null,
   "metadata": {},
   "outputs": [],
   "source": [
    "import random\n",
    "# random.choice() is a really useful function which randomly chooses an item from a sequence\n",
    "list_of_fruits = 'apple pear banana guava'.split()\n",
    "print(random.choice(list_of_fruits))\n",
    "# random.randint(a, b) returns a random integer between a and b (inclusive)\n",
    "print(random.randint(1, 100))"
   ]
  },
  {
   "cell_type": "markdown",
   "metadata": {
    "slideshow": {
     "slide_type": "slide"
    }
   },
   "source": [
    "## Additional Group Programming Projects\n",
    "* we will work on these together to help solidify concepts"
   ]
  },
  {
   "cell_type": "markdown",
   "metadata": {
    "slideshow": {
     "slide_type": "subslide"
    }
   },
   "source": [
    "## Chutes and Ladders\n",
    "* write Python code to play the game \"Chutes and Ladders\" (board shown below)\n",
    "<img src=\"images/chutes.jpg\" height=\"300 px\" width=\"300 px\">\n",
    "  \n",
    "  * each player rolls a die and moves the number of spaces on the face of the die (1-6)\n",
    "  * if the player lands on a ladder, the player moves up to the space at the top of the ladder\n",
    "  * if the player lands on a chute, the player moves down to the space at the bottom of the chute\n",
    "  * winner must land on 100 exactly, so if player is at square 97:\n",
    "    * rolling a 1 would move the player to 78\n",
    "    * rolling a 2 would move the player to 99\n",
    "    * rolling a 3 would move the player to 100, winning the game\n",
    "    * rolling a 4, 5, or 6 would cause the player to remain at square 97\n",
    "  * player will play against the computer\n",
    "  * allow the player to enter a specific value from 1-6 (in order to test) or simply hit ENTER, which causes the program to generate a random roll for the player\n",
    "  \n"
   ]
  },
  {
   "cell_type": "markdown",
   "metadata": {
    "slideshow": {
     "slide_type": "subslide"
    }
   },
   "source": [
    "## The Monty Hall Problem\n",
    "* https://en.wikipedia.org/wiki/Monty_Hall_problem\n",
    "* The goal is to simulate it. In other words, pick a random door behind which the “car” is hidden, then pick a random door that represents the choice made by the contestant, then have the contestant switch to the other door. Ask how many times to run this simulation and you should see it converging on a 66.67% probability that the contestant wins the car by switching. These are the only two possible scenarios:\n",
    "  1. contestant picks car on first try, Monty Hall reveals a goat behind one of the remaining doors, contestant switches to final remaining door, and loses\n",
    "  1. contestant does not pick car on first try, Monty Hall reveals a goat behind one of the remaining doors, contestant switches to final remaining door, and wins\n",
    "* Your simulation should show that #1 happens 1/3 of the time (because with 3 doors, there is a 1/3 chance of picking the car on the first choice), and that #2 happens 2/3 of the time.\n",
    "* Let the user enter the number of doors, so as the number of doors increases, the benefit from switching increases. As an example, consider how it would work with 100 doors. Contest picks a door, Monty Hall shows the contestant that nothing of value is behind 98 of the other doors, and then asks if contestant wants to stick with original choice or switch to the one remaining door. In this example, the contestant clearly had a 1/100 chance of getting car on first try, but if contestant switches, there is a 99/100 chance the car will be behind the remaining door. So your simulation should show that with 100 doors, the benefit from switching occurs 99% of the time."
   ]
  },
  {
   "cell_type": "markdown",
   "metadata": {
    "slideshow": {
     "slide_type": "subslide"
    }
   },
   "source": [
    "## The Sieve of Eratosthenes\n",
    "* write a program to find prime numbers (numbers which are divisible only by themselves and 1, e.g., __`2, 3, 29, 31, 101, 419, 997`__) up to a given number using Eratosthene's Sieve:\n",
    "  * start with a list of all of the numbers from 2 up to the given number, e.g., if the given number if 25, you'd start with __`[2, 3, 4, 5, 6, 7, 8, 9, 10, 11, 12, 13, 14, 15, 16, 17, 18, 19, 20, 21, 22, 23, 24, 25]`__\n",
    "  * remove all of the multiples of the first number (2), so you now have __`[2, 3, 5, 7, 9, 11, 13, 15, 17, 19, 21, 23, 25]`__\n",
    "  * now remove all of the multiples of the next number (3), so you now have __`[2, 3, 5, 7, 11, 13, 17, 19, 23, 25]`__\n",
    "  * keep doing this, removing multiples of the next number (5), (i.e., 10, 15, 20, and 25–they're already all removed except for 25)\n",
    "  * stop when 2 times the next number you land on is larger than the given number–in this case you'd stop at 13, since 13 * 2  > 25\n",
    "  * at this point every number in the list is prime\n",
    "  * try your solution with large numbers and compare against list of primes (e.g., https://miniwebtool.com/list-of-prime-numbers/)\n",
    "  * removing the multiples from the list is fairly inefficient, and you should notice your program slowing down considerably with large numbers, so now try setting the multiples to 0, rather than removing them, e.g.,\n",
    "    * __`[2, 3, 0, 5, 0, 7, 0, 9, 0, 11, 0, 13, 0, 15, 0, 17, 0, 19, 0, 21, 0, 23, 0, 25]`__\n",
    "    * __`[2, 3, 0, 5, 0, 7, 0, 0, 0, 11, 0, 13, 0, 0, 0, 17, 0, 19, 0, 0, 0, 23, 0, 25]`__\n",
    "    * __`[2, 3, 0, 5, 0, 7, 0, 0, 0, 11, 0, 13, 0, 0, 0, 17, 0, 19, 0, 0, 0, 23, 0, 0]`__"
   ]
  }
 ],
 "metadata": {
  "celltoolbar": "Slideshow",
  "kernelspec": {
   "display_name": "Python 3 (ipykernel)",
   "language": "python",
   "name": "python3"
  },
  "language_info": {
   "codemirror_mode": {
    "name": "ipython",
    "version": 3
   },
   "file_extension": ".py",
   "mimetype": "text/x-python",
   "name": "python",
   "nbconvert_exporter": "python",
   "pygments_lexer": "ipython3",
   "version": "3.12.1"
  }
 },
 "nbformat": 4,
 "nbformat_minor": 4
}
