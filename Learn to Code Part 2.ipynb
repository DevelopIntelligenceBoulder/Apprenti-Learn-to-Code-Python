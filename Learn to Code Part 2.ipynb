{
 "cells": [
  {
   "cell_type": "markdown",
   "metadata": {},
   "source": [
    "# Computer Programming"
   ]
  },
  {
   "cell_type": "markdown",
   "metadata": {
    "slideshow": {
     "slide_type": "subslide"
    }
   },
   "source": [
    "## What is Computer Programming?\n",
    "* _programming_ (or \"coding\") is a _process_ used to convert a (computing) problem into a runnable computer program (or simply \"code\")\n",
    "* a (computer) _program_ is a set of statements or instructions that tells the computer what to do\n",
    "* before writing a program, programmers often start from an algorithm"
   ]
  },
  {
   "cell_type": "markdown",
   "metadata": {
    "slideshow": {
     "slide_type": "subslide"
    }
   },
   "source": [
    "## What's an Algorithm?\n",
    "* an _algorithm_ is a process or set of rules to be followed when performing problem-solving operations (usually, but not always by a computer)\n",
    "  * an algorithm is like a recipe, explaining the steps to solve the problem (e.g., bake a cake)"
   ]
  },
  {
   "cell_type": "markdown",
   "metadata": {},
   "source": [
    "### Let's look at some algorithms"
   ]
  },
  {
   "cell_type": "markdown",
   "metadata": {
    "slideshow": {
     "slide_type": "subslide"
    }
   },
   "source": [
    "* an algorithm for converting Fahrenheit temperatures into Celsius:\n",
    "  1. subtract 32 from the Fahrenheit temperature\n",
    "  2. multiply the result by 5/9"
   ]
  },
  {
   "cell_type": "markdown",
   "metadata": {},
   "source": [
    "* an algorithm for computing the tip at a restaurant\n",
    "  1. ask for desired tip rate (20%, 25%, 15%, etc.)\n",
    "  2. multiply the amount of the bill by that percentage"
   ]
  },
  {
   "cell_type": "markdown",
   "metadata": {
    "slideshow": {
     "slide_type": "subslide"
    }
   },
   "source": [
    "* an algorithm for washing your hair...\n",
    "  1. Lather\n",
    "  2. Rinse\n",
    "  3. Repeat\n"
   ]
  },
  {
   "cell_type": "markdown",
   "metadata": {},
   "source": [
    "# Exercise 1: Algorithms\n",
    "* come up with an algorithm for...\n",
    "  * computing sales tax\n",
    "  * determining if a year is a leap year\n",
    "  * determining the area of a rectangle\n",
    "  * determing the average of 3 exam scores\n",
    "  * tying your shoes"
   ]
  },
  {
   "cell_type": "markdown",
   "metadata": {},
   "source": [
    "### What happens after we have our algorithm?\n",
    "* we convert it to __pseudocode__..."
   ]
  },
  {
   "cell_type": "markdown",
   "metadata": {
    "slideshow": {
     "slide_type": "subslide"
    }
   },
   "source": [
    "## What's Pseudocode?\n",
    "* typically a mixture of English and programming language constructs\n",
    "* often used to write down an algorithm in order to translate it into code\n",
    "* to be successful, we have to agree to _always_ write pseudocode before we write our programs\n",
    "* we willl spend a lot of time doing exactly this..."
   ]
  },
  {
   "cell_type": "markdown",
   "metadata": {
    "slideshow": {
     "slide_type": "subslide"
    }
   },
   "source": [
    "## Detour: How Do Computers Understand Programming Languages?\n",
    "* the short answer is–\"they don't\"\n",
    "* programs we write in just about every programming language are typically either __translated__ or __interpreted_\n",
    "* "
   ]
  },
  {
   "cell_type": "markdown",
   "metadata": {
    "slideshow": {
     "slide_type": "subslide"
    }
   },
   "source": [
    "### Translation\n",
    "  * our code can be __translated__ into a language that the CPU understands (\"machine language\") or to an intermediate language called _bytecode_\n",
    "    * this process is called _compilation_\n",
    "    * the tool which performs the compilation is called a _compiler_\n",
    "    * a computer language for which this is the case is called a _compiled language_\n",
    "      * some examples you may have heard of: C/C++, Java\n",
    "    * we can see the compilation process in action at http://godbolt.org/\n",
    "  * imagine someone speaking a foreign language\n",
    "    * a compiler is like a person who can translate that language into a language you can understand"
   ]
  },
  {
   "cell_type": "markdown",
   "metadata": {
    "slideshow": {
     "slide_type": "subslide"
    }
   },
   "source": [
    "## Interpretation\n",
    "* a programming language which is __interpreted__ is understood by another program called an _interpreter_\n",
    "  * some examples you might (or might not) have heard of are __`bash`__, __`PowerShell`__\n",
    "* once again imagine someone speaking a foreign language, perhap Hungarian\n",
    "  * imagine you (the \"CPU\") only speak English\n",
    "  * an interpreter could convert the Hungarian to some other language, perhaps French\n",
    "     * then you'd still need another interpreter to get it into English so you could understand what they said (\"run the code\")"
   ]
  },
  {
   "cell_type": "markdown",
   "metadata": {
    "slideshow": {
     "slide_type": "subslide"
    }
   },
   "source": [
    "## What about Python? It is compiled or interpreted?\n",
    "* short answer–\"It's both!\"\n",
    "  * __`Python`__ is first compiled into an \"intermediate\" language called _bytecode_\n",
    "  * then the bytecode is interpreted by the __`Python`__ interpreter (also called the Python Virtual Machine)\n",
    "  * we don't normally see these steps, we just see the result of them\n",
    "* this is a bit of an oversimplification, but our goal is not to become compiler/programming language experts"
   ]
  },
  {
   "cell_type": "markdown",
   "metadata": {
    "slideshow": {
     "slide_type": "subslide"
    }
   },
   "source": [
    "## Terminology: Source Code vs. Object Code\n",
    "* _source code_ is a collection of computer instructions written using a human-readable programming language\n",
    "  * source code may (and should) include _comments_, which are stuff we write for other programmers (or ourselves) to read\n",
    "    * comments are _ignored_ by the programming language\n",
    "  * source code is plain text, i.e., we can read it and understand it\n",
    "  * humans write source code\n",
    "* _object code_, OTOH consists of a bunch of instructions that the CPU understands, but most humans do not\n",
    "  * the output of a compiler, i.e., object code is the _compiled version_ of source code\n",
    "  * therefore, computers usually write object code"
   ]
  },
  {
   "cell_type": "markdown",
   "metadata": {
    "slideshow": {
     "slide_type": "subslide"
    }
   },
   "source": [
    "## Debugging\n",
    "* ...is the process of finding and fixing \"bugs\" (errors) in our code\n",
    "* the word \"bug\" was popularized by Grace Hopper, Ph.D., a Navy rear admiral and one of the first computer programmers\n",
    "  * posthumously awarded the Presidential Medal of Freedom in 2016\n",
    "  * https://en.wikipedia.org/wiki/Grace_Hopper\n",
    "  * here is a picture of a page from her notebook"
   ]
  },
  {
   "cell_type": "markdown",
   "metadata": {
    "slideshow": {
     "slide_type": "subslide"
    }
   },
   "source": [
    "![alt text](images/H96566k.jpg)"
   ]
  },
  {
   "cell_type": "markdown",
   "metadata": {
    "slideshow": {
     "slide_type": "subslide"
    }
   },
   "source": [
    "## Syntax Errors–\"Our code is incorrect\"\n",
    "* __syntax__ = the set of rules that defines the combinations of symbols that are considered to be a correctly-written (valid) program\n",
    "* a __syntax error__ is a violation of the rules that define a valid program\n",
    "* syntax in computer programming is more like grammar in English\n",
    "  * The dog chases the cat\n",
    "  * The dogs chases the cat (_grammar error–subject/verb agreement_)\n",
    "* syntax errors are caught by the compiler or interpreter\n",
    "  * sometimes called __compile time__ errors\n",
    "    * ...because they are found by the compiler, during translation, *before* the program actually runs\n",
    "    * a program can only run if it's __syntactically correct__"
   ]
  },
  {
   "cell_type": "markdown",
   "metadata": {
    "slideshow": {
     "slide_type": "subslide"
    }
   },
   "source": [
    "## Runtime Errors–\"Our code 'crashes' when running\"\n",
    "* as the name suggests, these are errors that occur when you run the program, as opposed to when you compile the program\n",
    "* with an interpreted language such as Python, the distinction between syntax and runtime errors is not as obvious–in both cases the interpreter will stop interpreting your code and will report an error\n",
    "  * we wil see examples of each\n",
    "* runtime errors are often called __exceptions__"
   ]
  },
  {
   "cell_type": "markdown",
   "metadata": {
    "slideshow": {
     "slide_type": "subslide"
    }
   },
   "source": [
    "## Semantic Errors–\"Our code runs to completion but the output is wrong\"\n",
    "* a __semantic error__ occurs when your program is syntactically correct, but you told the computer to do the wrong thing\n",
    "* for example, if you wrote a program to convert Fahrenheit to Celsius and you added 32 to the temperature instead of subtracting\n",
    "  * the program will run, but it will give you the wrong result\n",
    "  * remember that the computer will do what you tell it to do, but that doesn't mean it's what you want it to do! \n",
    "* a semantic error _may_ cause a runtime error, but usually they don't, so they can be difficult to debug"
   ]
  }
 ],
 "metadata": {
  "celltoolbar": "Slideshow",
  "kernelspec": {
   "display_name": "Python 3 (ipykernel)",
   "language": "python",
   "name": "python3"
  },
  "language_info": {
   "codemirror_mode": {
    "name": "ipython",
    "version": 3
   },
   "file_extension": ".py",
   "mimetype": "text/x-python",
   "name": "python",
   "nbconvert_exporter": "python",
   "pygments_lexer": "ipython3",
   "version": "3.12.2"
  }
 },
 "nbformat": 4,
 "nbformat_minor": 4
}
