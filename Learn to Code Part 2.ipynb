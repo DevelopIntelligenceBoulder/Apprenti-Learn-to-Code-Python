{
 "cells": [
  {
   "cell_type": "markdown",
   "metadata": {
    "slideshow": {
     "slide_type": "slide"
    }
   },
   "source": [
    "# Introducing Python"
   ]
  },
  {
   "cell_type": "markdown",
   "metadata": {
    "slideshow": {
     "slide_type": "subslide"
    }
   },
   "source": [
    "* Python is a programming language\n",
    "  * it's somewhat close to English\n",
    "  * easy to get started with\n",
    "  * fun to use!"
   ]
  },
  {
   "cell_type": "markdown",
   "metadata": {
    "slideshow": {
     "slide_type": "subslide"
    }
   },
   "source": [
    "* Let's give it a try...\n",
    "* navigate to the next cell and hit __`SHIFT-RETURN`__ to send the text to Python"
   ]
  },
  {
   "cell_type": "code",
   "execution_count": 1,
   "metadata": {},
   "outputs": [
    {
     "data": {
      "text/plain": [
       "4"
      ]
     },
     "execution_count": 1,
     "metadata": {},
     "output_type": "execute_result"
    }
   ],
   "source": [
    "2 + 2"
   ]
  },
  {
   "cell_type": "markdown",
   "metadata": {},
   "source": [
    "* ...now edit the above–change it to __`5 - 3`__ and then run it again"
   ]
  },
  {
   "cell_type": "markdown",
   "metadata": {
    "slideshow": {
     "slide_type": "subslide"
    }
   },
   "source": [
    "## Let's try a few other calculations using Python..."
   ]
  },
  {
   "cell_type": "code",
   "execution_count": 2,
   "metadata": {},
   "outputs": [
    {
     "data": {
      "text/plain": [
       "100.0"
      ]
     },
     "execution_count": 2,
     "metadata": {},
     "output_type": "execute_result"
    }
   ],
   "source": [
    "# the '#' symbol introduces a \"comment\"\n",
    "# ...which is text that Python ignores\n",
    "# OK, let's convert the Fahrenheit boiling point to Celsius...\n",
    "(212 - 32) * 5 / 9"
   ]
  },
  {
   "cell_type": "code",
   "execution_count": 3,
   "metadata": {},
   "outputs": [
    {
     "data": {
      "text/plain": [
       "1000000000000000000000000000000000000000000000000000000000000000000000000000000"
      ]
     },
     "execution_count": 3,
     "metadata": {},
     "output_type": "execute_result"
    }
   ],
   "source": [
    "# how many atoms are in the universe?\n",
    "10 ** 78 # could be as many as 10 ** 82"
   ]
  },
  {
   "cell_type": "code",
   "execution_count": 7,
   "metadata": {},
   "outputs": [
    {
     "data": {
      "text/plain": [
       "1.3333333333333333"
      ]
     },
     "execution_count": 7,
     "metadata": {},
     "output_type": "execute_result"
    }
   ],
   "source": [
    "# division\n",
    "4 / 3"
   ]
  },
  {
   "cell_type": "code",
   "execution_count": 4,
   "metadata": {},
   "outputs": [
    {
     "data": {
      "text/plain": [
       "1"
      ]
     },
     "execution_count": 4,
     "metadata": {},
     "output_type": "execute_result"
    }
   ],
   "source": [
    "# // is integer division (technically it's \"floor division\", but we can\n",
    "# ignore the nuance for now)\n",
    "4 // 3"
   ]
  },
  {
   "cell_type": "markdown",
   "metadata": {
    "slideshow": {
     "slide_type": "subslide"
    }
   },
   "source": [
    "## Writing Our First Program\n",
    "* when learning a new programming language, it's customary to write a [\"Hello, World!\" program](https://en.wikipedia.org/wiki/%22Hello,_World!%22_program), that is, a program which does nothing more than print out \"Hello, world!\"\n",
    "* type the following into the next cell and then hit __`SHIFT-RETURN`__\n",
    "\n",
    "    __`print('Hello, world!')`__"
   ]
  },
  {
   "cell_type": "code",
   "execution_count": null,
   "metadata": {},
   "outputs": [],
   "source": []
  },
  {
   "cell_type": "markdown",
   "metadata": {
    "slideshow": {
     "slide_type": "subslide"
    }
   },
   "source": [
    "## Analzying our First Program\n",
    "* We used Python's builtin __`print`__ _function_ to print text to the screen\n",
    "  * let's examine the [builtin functions in Python](https://docs.python.org/3/library/functions.html)\n",
    "* OK...so what's a function?"
   ]
  },
  {
   "cell_type": "code",
   "execution_count": null,
   "metadata": {},
   "outputs": [],
   "source": []
  },
  {
   "cell_type": "code",
   "execution_count": null,
   "metadata": {},
   "outputs": [],
   "source": []
  },
  {
   "cell_type": "code",
   "execution_count": null,
   "metadata": {},
   "outputs": [],
   "source": []
  },
  {
   "cell_type": "markdown",
   "metadata": {
    "slideshow": {
     "slide_type": "subslide"
    }
   },
   "source": [
    "### Functions\n",
    "* We can think of a function as being like an \"appliance\"\n",
    "    * an appliance performs a task for us\n",
    "  * ...for e.g., a blender is a \"function\"\n",
    "    * you put stuff into it\n",
    "    * push the button\n",
    "    * different stuff is returned to you\n",
    "* some functions return (or give you back) something\n",
    "    * we might call them \"_returners_\"\n",
    "* other functions DO something, but don't return anything to you\n",
    "    * ... \"_doers_\"\n",
    "* Can you think of an appliance that performs the same function as a blender, but does not return anything to you afterwards?"
   ]
  },
  {
   "cell_type": "markdown",
   "metadata": {
    "slideshow": {
     "slide_type": "subslide"
    }
   },
   "source": [
    "## What is a Function in Python (and other programming languages)?\n",
    "* a function is a _named sequence of code_ (program statements) that perform a specific task (in this case, the task was outputting text to the screen)\n",
    "  * we \"package up\" that code and give it a name so we can use it whenever we want\n",
    "  * we'll learn how to do that later...\n",
    "* a function can be used in a program wherever that particular task/functionality is needed\n",
    "* the __`print()`__ function is built-in\n",
    "  * let's look at all the Python built-in functions (https://docs.python.org/3/library/functions.html)\n",
    "  * later on, we'll be creating our own functions"
   ]
  },
  {
   "cell_type": "markdown",
   "metadata": {
    "slideshow": {
     "slide_type": "subslide"
    }
   },
   "source": [
    "## What is a Function? (cont'd)\n",
    "* when you call (or...fancy term: _invoke_) a function, you write its name, followed by the data you wish to send into the function (often called _arguments_ to the function) in parentheses...\n",
    "* if you wish to send no data to the function, you still include the parentheses\n",
    "  * e.g., __`print()`__ will print a blank line (try it!)\n",
    "  * ... vs. __`print('Hello, world!')`__ as we did in our first program\n",
    "  * Cound we send more than one argument to the __`print`__ function?\n",
    "    * have an idea in mind, either YES or NO, then...\n",
    "    * ...actually try it out and see if your idea is confirmed\n",
    "    * (the above process is what I'm hoping you'll do throughout the course when reading code or writing code of your own...)"
   ]
  },
  {
   "cell_type": "markdown",
   "metadata": {
    "slideshow": {
     "slide_type": "slide"
    }
   },
   "source": [
    "# Data, Variables, and Expressions"
   ]
  },
  {
   "cell_type": "markdown",
   "metadata": {
    "slideshow": {
     "slide_type": "slide"
    }
   },
   "source": [
    "## Data\n",
    "* computer programs typically manipulate _data_ (or \"values\")\n",
    "  * data can be numbers, names, or any text (and other things we'll investigate later)\n",
    "* it's useful to think of computer programs as _accepting some input_ and _producing some output_\n",
    "  * the data (or values) are provided as input to the program, and some other data are produced as output"
   ]
  },
  {
   "cell_type": "markdown",
   "metadata": {
    "slideshow": {
     "slide_type": "slide"
    }
   },
   "source": [
    "## Variables\n",
    "* \"named boxes\" (e.g., __`cost`__, __`fahrenheit_temp`__, __`first_name`__, or __`birth_year`__) inside the computer's memory that hold some value\n",
    "  * the value could be a number, a name, or something else\n",
    "  * we will see how to use these shortly..."
   ]
  },
  {
   "cell_type": "markdown",
   "metadata": {
    "slideshow": {
     "slide_type": "slide"
    }
   },
   "source": [
    "## Expression\n",
    "* an _expression_ is a combination of one or more _values_, _variables_, and _operators_ (__`+`__, __`-`__, etc.), e.g.,\n",
    "  * __`(fahrenheit_temp - 32) * 5 / 9`__\n",
    "  * __`cost * number_of_items`__\n",
    "  * __`3.14159 * radius ** 2`__\n",
    "  * __`2 + 2`__\n",
    "  * __`1`__\n",
    "* once again, we haven't worked with variables yet, but we will soon!"
   ]
  },
  {
   "cell_type": "markdown",
   "metadata": {
    "slideshow": {
     "slide_type": "subslide"
    }
   },
   "source": [
    "# Values and Basic Data Types (__`int`__, __`float`__, and __`str`__)\n",
    "* __integers__ (ints) are whole numbers which have no fractional part\n",
    "  * e.g., __`42`__, __`-1`__, __`2024`__\n",
    "* __floats__ (short for \"floating point\") are numbers which have a decimal point and possibly digits after the decimal point\n",
    "  * e.g, __`3.1415`__, __`212.`__, __`-1.5`__\n",
    "* __strings__ are sequences of text surrounded by quotes\n",
    "  * e.g., __`'Hello, world!'`__\n",
    "* we can ask the Python interpreter to tell us the type of a value by using the builtin __`type`__ function"
   ]
  },
  {
   "cell_type": "code",
   "execution_count": 3,
   "metadata": {},
   "outputs": [
    {
     "data": {
      "text/plain": [
       "str"
      ]
     },
     "execution_count": 3,
     "metadata": {},
     "output_type": "execute_result"
    }
   ],
   "source": [
    "type('42')"
   ]
  },
  {
   "cell_type": "code",
   "execution_count": 5,
   "metadata": {},
   "outputs": [
    {
     "data": {
      "text/plain": [
       "(int, float, str)"
      ]
     },
     "execution_count": 5,
     "metadata": {},
     "output_type": "execute_result"
    }
   ],
   "source": [
    "# As a reminder, lines that begin with a '#' are comments.\n",
    "# They are for humans, and are ignored by Python.\n",
    "#\n",
    "# Notice that you can chain values together with a comma, and the\n",
    "# result will be a comma-separated list of results in parentheses...\n",
    "\n",
    "type(-1), type(212.), type('hello')"
   ]
  },
  {
   "cell_type": "markdown",
   "metadata": {
    "slideshow": {
     "slide_type": "subslide"
    }
   },
   "source": [
    "# Exercise 1: The Builtin Function __`type()`__\n",
    "* use Python's __`type()`__ function to find out the type of the following values and expressions\n",
    "  * __`35 + 5`__\n",
    "  * __`35.0 + 5`__\n",
    "  * __`'35' + '5'`__\n",
    "  * __`5 // 3`__\n",
    "  * __`3.5.5`__"
   ]
  },
  {
   "cell_type": "code",
   "execution_count": null,
   "metadata": {},
   "outputs": [],
   "source": [
    "type(35 + 5)"
   ]
  },
  {
   "cell_type": "code",
   "execution_count": null,
   "metadata": {},
   "outputs": [],
   "source": [
    "type(35.0 + 5)"
   ]
  },
  {
   "cell_type": "code",
   "execution_count": null,
   "metadata": {},
   "outputs": [],
   "source": [
    "type('35' + '5')"
   ]
  },
  {
   "cell_type": "code",
   "execution_count": null,
   "metadata": {},
   "outputs": [],
   "source": [
    "type(5 // 3)"
   ]
  },
  {
   "cell_type": "code",
   "execution_count": null,
   "metadata": {},
   "outputs": [],
   "source": [
    "type(3.5.5)"
   ]
  },
  {
   "cell_type": "code",
   "execution_count": null,
   "metadata": {},
   "outputs": [],
   "source": []
  },
  {
   "cell_type": "markdown",
   "metadata": {
    "slideshow": {
     "slide_type": "subslide"
    }
   },
   "source": [
    "## Variables\n",
    "* named \"boxes\" inside the computer's memory into which you can put values (data)\n",
    "* we can put a value into a variable by using an _assignment statement_, e.g.,\n",
    "  * __`year = 2024`__\n",
    "  * __`name = 'Grace Hopper'`__\n",
    "* an assignment statement is not a statement of equality (like we're used to from mathematics)\n",
    "  * instead, it's a directive to Python to put whatever _value_ is on the right-hand side of the __`=`__ into the variable on the left hand side"
   ]
  },
  {
   "cell_type": "code",
   "execution_count": 7,
   "metadata": {},
   "outputs": [
    {
     "data": {
      "text/plain": [
       "2024"
      ]
     },
     "execution_count": 7,
     "metadata": {},
     "output_type": "execute_result"
    }
   ],
   "source": [
    "year = 2024\n",
    "year"
   ]
  },
  {
   "cell_type": "code",
   "execution_count": 9,
   "metadata": {},
   "outputs": [
    {
     "data": {
      "text/plain": [
       "'Grace Hopper'"
      ]
     },
     "execution_count": 9,
     "metadata": {},
     "output_type": "execute_result"
    }
   ],
   "source": [
    "name = 'Grace Hopper'\n",
    "name"
   ]
  },
  {
   "cell_type": "markdown",
   "metadata": {},
   "source": [
    "# Exercise 2: Variables\n",
    "* using an assignment statement, create a variable called __`company_name`__ and set it equal to a name of your choosing\n",
    "* using an assignment statement, create a variable called __`population`__ and set it equal to the population of your favorite city (Wikipedia should be able to give you that info)\n",
    "* imagine you want to store a phone number\n",
    "  * choose an appropriate variable name, and, using an assignment statement, set your variable equal to a phone number of your choosing"
   ]
  },
  {
   "cell_type": "code",
   "execution_count": null,
   "metadata": {},
   "outputs": [],
   "source": []
  },
  {
   "cell_type": "code",
   "execution_count": null,
   "metadata": {},
   "outputs": [],
   "source": []
  },
  {
   "cell_type": "markdown",
   "metadata": {},
   "source": [
    "## Determining the value of our variables\n",
    "* we can ask Python to \"tell us\" the value of a variable by typing its name into the\n",
    "interpreter\n",
    "* ...or by using the built-in __`print`__ function"
   ]
  },
  {
   "cell_type": "code",
   "execution_count": 11,
   "metadata": {},
   "outputs": [
    {
     "data": {
      "text/plain": [
       "'Grace Hopper'"
      ]
     },
     "execution_count": 11,
     "metadata": {},
     "output_type": "execute_result"
    }
   ],
   "source": [
    "name # technically speaking, we are asking Python to \"evaluate\" an expression"
   ]
  },
  {
   "cell_type": "code",
   "execution_count": 11,
   "metadata": {},
   "outputs": [
    {
     "name": "stdout",
     "output_type": "stream",
     "text": [
      "Grace Hopper\n"
     ]
    }
   ],
   "source": [
    "# notice that when printing a string, the quotes are omitted\n",
    "# compare with what we did above\n",
    "print(name)"
   ]
  },
  {
   "cell_type": "markdown",
   "metadata": {},
   "source": [
    "* imagine a __Hello, my name is ----__ sticker on your shirt...\n",
    "* ...would you put quotes around your name?"
   ]
  },
  {
   "cell_type": "code",
   "execution_count": 12,
   "metadata": {},
   "outputs": [
    {
     "name": "stdout",
     "output_type": "stream",
     "text": [
      "Grace Hopper birth year = 1906\n"
     ]
    }
   ],
   "source": [
    "print(name, 'birth year =', year)"
   ]
  },
  {
   "cell_type": "markdown",
   "metadata": {
    "slideshow": {
     "slide_type": "subslide"
    }
   },
   "source": [
    "# Exercise 3: More Variables\n",
    "* create a variable named __quantity__ and give it an integer value\n",
    "* verify that __quantity__ has the value you gave it\n",
    "* verify that __quantity__ is an integer\n",
    "* create a variable named __company__ and give it a value of whatever you like\n",
    "* verify that __company__ is a string and that its value is whatever you put in it previously"
   ]
  },
  {
   "cell_type": "code",
   "execution_count": null,
   "metadata": {},
   "outputs": [],
   "source": []
  },
  {
   "cell_type": "code",
   "execution_count": null,
   "metadata": {},
   "outputs": [],
   "source": []
  },
  {
   "cell_type": "code",
   "execution_count": null,
   "metadata": {},
   "outputs": [],
   "source": []
  },
  {
   "cell_type": "markdown",
   "metadata": {
    "slideshow": {
     "slide_type": "subslide"
    }
   },
   "source": [
    "## Variables (continued)\n",
    "* Python variables can hold a value of _any_ type, even a type that is different from what the variable previously held, e.g.,"
   ]
  },
  {
   "cell_type": "code",
   "execution_count": 13,
   "metadata": {},
   "outputs": [],
   "source": [
    "number = 5 # an integer\n",
    "other_number = 5.5 # float"
   ]
  },
  {
   "cell_type": "code",
   "execution_count": 14,
   "metadata": {},
   "outputs": [
    {
     "name": "stdout",
     "output_type": "stream",
     "text": [
      "five\n"
     ]
    }
   ],
   "source": [
    "number = 'five' # what is now? what was it before?\n",
    "print(number)"
   ]
  },
  {
   "cell_type": "markdown",
   "metadata": {},
   "source": [
    "* in some computer languages (but not Python), you must _declare_ your variables, which means you choose a type of data the variable will hold– __`int`__, __`float`__, etc.)\n",
    "  * ...and the only values that variable may contain are values of the declared type\n",
    "  * it's like saying \"I want to create an _int_ called __year__\"\n",
    "* we have no such restrictions in Python, which is both good and bad:\n",
    "  * it's good because we can just start using a variable the moment we need it\n",
    "  * it's bad because in a large program it can be difficult to track the type of variables\n",
    "    * if we accidentally overwrite a variable with a value of the wrong type, there is no way Python can complain about it–only _you_ know what type of value is supposed to be stored in a variable"
   ]
  },
  {
   "cell_type": "markdown",
   "metadata": {
    "slideshow": {
     "slide_type": "subslide"
    }
   },
   "source": [
    "# Getting Input from the User\n",
    "* the builtin function __`input()`__ captures what the user types\n",
    "* ...and whatever the user typed is returned _as a string_\n",
    "* let's try it in the next cell"
   ]
  },
  {
   "cell_type": "code",
   "execution_count": 3,
   "metadata": {},
   "outputs": [
    {
     "name": "stdin",
     "output_type": "stream",
     "text": [
      "Enter your name:  Dave\n"
     ]
    },
    {
     "name": "stdout",
     "output_type": "stream",
     "text": [
      "Hello Dave\n"
     ]
    }
   ],
   "source": [
    "name = input('Enter your name: ')\n",
    "print('Hello', name)"
   ]
  },
  {
   "cell_type": "markdown",
   "metadata": {
    "slideshow": {
     "slide_type": "subslide"
    }
   },
   "source": [
    "# Lab 1: Input\n",
    "* write Python code to prompt the user for a year and print out the year the user entered\n",
    "* when your code is running it will look something like this:\n",
    "<pre>\n",
    "<b>\n",
    "Enter a year: 1215\n",
    "The year is 1215. What happened that year?\n",
    "</b>\n",
    "</pre>"
   ]
  },
  {
   "cell_type": "code",
   "execution_count": null,
   "metadata": {},
   "outputs": [],
   "source": []
  },
  {
   "cell_type": "markdown",
   "metadata": {
    "slideshow": {
     "slide_type": "subslide"
    }
   },
   "source": [
    "## Variable Names and Keywords\n",
    "* variable names can be arbitrarily long\n",
    "  * they can contain both letters and numbers, but must begin with a letter\n",
    "* uppercase letters are allowed, but by convention we don’t use them (if you did use uppercase letters, remember that Python is _case sensitive_–in other words __`counter`__ and __`Counter`__ are different variables)\n",
    "* you should choose meaningful names for your variables:\n",
    "  * __`counter`__ instead of __`c`__\n",
    "  * __`cost_per_ounce`__ instead of __`cpo`__\n",
    "  * etc.\n",
    "* as you can see above, variable names can include underscores–use them to make your variable names clearer\n",
    "  * for now, do not start a variable name with an underscore (doing so is an advanced topic)"
   ]
  },
  {
   "cell_type": "code",
   "execution_count": 5,
   "metadata": {},
   "outputs": [
    {
     "ename": "SyntaxError",
     "evalue": "invalid syntax (3214241936.py, line 4)",
     "output_type": "error",
     "traceback": [
      "\u001b[0;36m  Cell \u001b[0;32mIn[5], line 4\u001b[0;36m\u001b[0m\n\u001b[0;31m    from = 'Dave'\u001b[0m\n\u001b[0m         ^\u001b[0m\n\u001b[0;31mSyntaxError\u001b[0m\u001b[0;31m:\u001b[0m invalid syntax\n"
     ]
    }
   ],
   "source": [
    "# This code won't run. Why? What is the problem here?\n",
    "year = 2017\n",
    "to = 'Mary'\n",
    "from = 'Dave'"
   ]
  },
  {
   "cell_type": "markdown",
   "metadata": {},
   "source": [
    "* the problem above is that __`from`__ is a _keyword_\n",
    "* _keywords_ are words that are part of Python (or other programming languages) and cannot be used as variable names\n",
    "* if you ever get a weird error like 'invalid syntax' when it looks syntactically correct, the problem is likely that you are trying to use a keyword as a variable\n",
    "* we can get a current list of the keywords...\n"
   ]
  },
  {
   "cell_type": "code",
   "execution_count": 6,
   "metadata": {},
   "outputs": [
    {
     "name": "stdout",
     "output_type": "stream",
     "text": [
      "['False', 'None', 'True', 'and', 'as', 'assert', 'async', 'await', 'break', 'class', 'continue', 'def', 'del', 'elif', 'else', 'except', 'finally', 'for', 'from', 'global', 'if', 'import', 'in', 'is', 'lambda', 'nonlocal', 'not', 'or', 'pass', 'raise', 'return', 'try', 'while', 'with', 'yield']\n"
     ]
    }
   ],
   "source": [
    "# We will explore this 'import' syntax later.\n",
    "# For now, just think of it as a way to use some \"library\" code which comes with Python,\n",
    "# but isn't loaded by default, so we need to import it.\n",
    "\n",
    "import keyword\n",
    "print(keyword.kwlist)"
   ]
  },
  {
   "cell_type": "markdown",
   "metadata": {
    "slideshow": {
     "slide_type": "subslide"
    }
   },
   "source": [
    "## Evaluating Expressions\n",
    "* what's an expression again?"
   ]
  },
  {
   "cell_type": "code",
   "execution_count": null,
   "metadata": {},
   "outputs": [],
   "source": []
  },
  {
   "cell_type": "code",
   "execution_count": null,
   "metadata": {},
   "outputs": [],
   "source": []
  },
  {
   "cell_type": "code",
   "execution_count": null,
   "metadata": {},
   "outputs": [],
   "source": []
  },
  {
   "cell_type": "markdown",
   "metadata": {
    "slideshow": {
     "slide_type": "subslide"
    }
   },
   "source": [
    "* an expression is a combination of values, variables, and operators (but doesn't have to contain all of these elements)\n",
    "* if you type an expression on the command line, the interpreter evaluates it and displays the result"
   ]
  },
  {
   "cell_type": "code",
   "execution_count": null,
   "metadata": {},
   "outputs": [],
   "source": [
    "2 + 2 # this an expression–it consists of two values and one operator"
   ]
  },
  {
   "cell_type": "markdown",
   "metadata": {},
   "source": [
    "* note that a value all by itself is considered an expression, as is a variable by itself"
   ]
  },
  {
   "cell_type": "code",
   "execution_count": 7,
   "metadata": {},
   "outputs": [
    {
     "data": {
      "text/plain": [
       "13"
      ]
     },
     "execution_count": 7,
     "metadata": {},
     "output_type": "execute_result"
    }
   ],
   "source": [
    "13"
   ]
  },
  {
   "cell_type": "code",
   "execution_count": 9,
   "metadata": {},
   "outputs": [
    {
     "data": {
      "text/plain": [
       "'Dave'"
      ]
     },
     "execution_count": 9,
     "metadata": {},
     "output_type": "execute_result"
    }
   ],
   "source": [
    "name # Hey Python, tell me what's in this variable"
   ]
  },
  {
   "cell_type": "markdown",
   "metadata": {
    "slideshow": {
     "slide_type": "subslide"
    }
   },
   "source": [
    "## Careful! \n",
    "* it's important to understand the difference between\n",
    "  * _evaluating an expression_ ... and ...\n",
    "  * _printing a value_\n",
    "* ...we mentioned this previously, but it can be so confusing it's worth revisiting"
   ]
  },
  {
   "cell_type": "code",
   "execution_count": 11,
   "metadata": {},
   "outputs": [],
   "source": [
    "# First, let's rememeber that an assignment statement tells Python to DO something\n",
    "# ...but nothing is printed\n",
    "something = 'nothing'"
   ]
  },
  {
   "cell_type": "code",
   "execution_count": 13,
   "metadata": {},
   "outputs": [
    {
     "data": {
      "text/plain": [
       "'nothing'"
      ]
     },
     "execution_count": 13,
     "metadata": {},
     "output_type": "execute_result"
    }
   ],
   "source": [
    "something # tell Python to evaluate this expression, i.e., \n",
    "# ... \"Hey Python show me the value inside this variable\""
   ]
  },
  {
   "cell_type": "markdown",
   "metadata": {
    "slideshow": {
     "slide_type": "subslide"
    }
   },
   "source": [
    "* when the interpreter displays the value of an expression, it uses the same format you would use to enter its value–so in the case of strings, that means that it includes the quotes\n",
    "* but when you call the __`print()`__ function, Python displays the contents of the string without the quotes..."
   ]
  },
  {
   "cell_type": "code",
   "execution_count": null,
   "metadata": {},
   "outputs": [],
   "source": [
    "print(something)"
   ]
  },
  {
   "cell_type": "code",
   "execution_count": 14,
   "metadata": {},
   "outputs": [
    {
     "name": "stdout",
     "output_type": "stream",
     "text": [
      "Hello, my name is Bruce Lee\n"
     ]
    }
   ],
   "source": [
    "name = 'Bruce Lee'\n",
    "print('Hello, my name is', name) # reminder: would you expect to see quotes around the name here?"
   ]
  },
  {
   "cell_type": "code",
   "execution_count": null,
   "metadata": {},
   "outputs": [],
   "source": [
    "name"
   ]
  },
  {
   "cell_type": "code",
   "execution_count": null,
   "metadata": {},
   "outputs": [],
   "source": [
    "print(name)"
   ]
  },
  {
   "cell_type": "markdown",
   "metadata": {},
   "source": [
    "### Addendum: cells in Jupyter notebooks are run in \"program mode\" except for the last line, which is run in \"interactive mode\"\n",
    "* this is difficult to understand when we're first learning, because we've *only* been working in the notebook\n",
    "* we can demonstrate this difference by having Python evaluate an expression (rather than printing) by itself, and then again in a cell with multiple lines of code..."
   ]
  },
  {
   "cell_type": "code",
   "execution_count": 16,
   "metadata": {},
   "outputs": [
    {
     "data": {
      "text/plain": [
       "4"
      ]
     },
     "execution_count": 16,
     "metadata": {},
     "output_type": "execute_result"
    }
   ],
   "source": [
    "# will we get a response from Python if we run this cell?\n",
    "2 + 2 "
   ]
  },
  {
   "cell_type": "code",
   "execution_count": 17,
   "metadata": {},
   "outputs": [
    {
     "name": "stdout",
     "output_type": "stream",
     "text": [
      "did see the line above?\n"
     ]
    }
   ],
   "source": [
    "# what if we write it like this?\n",
    "2 + 2\n",
    "print('did see the line above?')"
   ]
  },
  {
   "cell_type": "markdown",
   "metadata": {},
   "source": [
    "* the takeaway is that if we want Python to _evaluate an expression_ (rather than printing it)...\n",
    "* ...we must make that evaluation be the _last line_ of the cell"
   ]
  },
  {
   "cell_type": "code",
   "execution_count": 18,
   "metadata": {},
   "outputs": [
    {
     "data": {
      "text/plain": [
       "'Swift'"
      ]
     },
     "execution_count": 18,
     "metadata": {},
     "output_type": "execute_result"
    }
   ],
   "source": [
    "first = 'Taylor' # what kind of statement is this? \n",
    "last = 'Swift' # do we expect to see output here?\n",
    "first # WON'T BE PRINTED\n",
    "last # WILL BE PRINTED"
   ]
  },
  {
   "cell_type": "markdown",
   "metadata": {
    "slideshow": {
     "slide_type": "subslide"
    }
   },
   "source": [
    "## So Why Are There Two Ways to Produce Output?\n",
    "* simply typing a variable name or an expression is a convenient way to see its value, and it's something we can always do at the Python interactive prompt\n",
    "* inside a program, however, we use the __`print()`__ function to produce output"
   ]
  },
  {
   "cell_type": "markdown",
   "metadata": {
    "slideshow": {
     "slide_type": "subslide"
    }
   },
   "source": [
    "## Operators and Operands\n",
    "* operators are special symbols that represent computations such as addition (__`+`__) and multiplication (__`*`__)\n",
    "* the values that the operator \"operates on\" are called _operands_\n",
    "* __`13 + 15`__\n",
    "* __`year - 1`__ \n",
    "* __`hours * 60 + minutes`__\n",
    "* __`minutes / 60`__ \n",
    "* __`minutes // 60`__\n",
    "* __`minutes % 60`__\n",
    "  * __`%`__ is the _modulus_ or remainder operator\n",
    "  * ...computes the remainder (not the quotient) when dividing its two operands\n",
    "* __`2 ** 64`__\n",
    "* __`(x + 3) * (y - 5)`__"
   ]
  },
  {
   "cell_type": "code",
   "execution_count": null,
   "metadata": {},
   "outputs": [],
   "source": [
    "70 / 12"
   ]
  },
  {
   "cell_type": "code",
   "execution_count": null,
   "metadata": {},
   "outputs": [],
   "source": [
    "70 // 12"
   ]
  },
  {
   "cell_type": "code",
   "execution_count": null,
   "metadata": {},
   "outputs": [],
   "source": [
    "7 % 4"
   ]
  },
  {
   "cell_type": "markdown",
   "metadata": {
    "slideshow": {
     "slide_type": "subslide"
    }
   },
   "source": [
    "## Exercise 4: Variables, Operators, and Expressions\n",
    "* create a variable named __minutes__ and give it an initial value of __28435__\n",
    "* create a variable named __hours__ and set it equal to __minutes__ divided by __60__\n",
    "* create a variable named __days__ and set it equal to __hours__ divided by __24__\n",
    "* try both __`/`__ and __`//`__ and be sure you understand how they differ\n",
    "* consider the following expressions and then enter them into Jupyter to verify your understanding, i.e., what they mean\n",
    "  * __`days * 24 + hours`__\n",
    "  * __`hours * 60 + minutes`__\n",
    "  * __`days * 3600 + minutes`__\n",
    "  * __`(days * 24) + hours`__\n",
    "  "
   ]
  },
  {
   "cell_type": "code",
   "execution_count": null,
   "metadata": {},
   "outputs": [],
   "source": []
  },
  {
   "cell_type": "code",
   "execution_count": null,
   "metadata": {},
   "outputs": [],
   "source": []
  }
 ],
 "metadata": {
  "celltoolbar": "Slideshow",
  "kernelspec": {
   "display_name": "Python 3 (ipykernel)",
   "language": "python",
   "name": "python3"
  },
  "language_info": {
   "codemirror_mode": {
    "name": "ipython",
    "version": 3
   },
   "file_extension": ".py",
   "mimetype": "text/x-python",
   "name": "python",
   "nbconvert_exporter": "python",
   "pygments_lexer": "ipython3",
   "version": "3.12.1"
  }
 },
 "nbformat": 4,
 "nbformat_minor": 4
}
