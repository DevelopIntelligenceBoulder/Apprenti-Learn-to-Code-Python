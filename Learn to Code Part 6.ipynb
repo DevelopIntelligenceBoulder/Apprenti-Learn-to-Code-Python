{
 "cells": [
  {
   "cell_type": "markdown",
   "metadata": {
    "slideshow": {
     "slide_type": "slide"
    }
   },
   "source": [
    "# Complex Datatypes in Python"
   ]
  },
  {
   "cell_type": "markdown",
   "metadata": {
    "slideshow": {
     "slide_type": "subslide"
    }
   },
   "source": [
    "## Lists\n",
    "* a list is an ordered set of values\n",
    "* the items which make up a list are called its _elements_\n",
    "* lists are similar to strings, which are _ordered sequences of characters_\n",
    "  * except that the elements of a list can have any type\n",
    "* lists and strings—and other things that behave like ordered sets—are called sequences"
   ]
  },
  {
   "cell_type": "code",
   "execution_count": null,
   "metadata": {},
   "outputs": [],
   "source": [
    "fruits = ['banana', 'apple', 'pear', 'mango', 'cherry', 'blueberry']\n",
    "weird_list = ['Dave', 19, 34.5]\n",
    "empty_list = []"
   ]
  },
  {
   "cell_type": "code",
   "execution_count": null,
   "metadata": {},
   "outputs": [],
   "source": [
    "# sep is an optional argument or parameter to the print() function which dictates\n",
    "# the separator character that should be printed between items\n",
    "print(fruits, weird_list, empty_list, sep='\\n')"
   ]
  },
  {
   "cell_type": "markdown",
   "metadata": {},
   "source": [
    "* lists may contain duplicate elements\n",
    "* lists are usually homogeneous, but they need not be\n",
    "* other languages have a datatype called an _array_ which is similar to a list, but one main difference is that an array can only contain items of one type–i.e., an array of integers, and array of floats, etc."
   ]
  },
  {
   "cell_type": "markdown",
   "metadata": {
    "slideshow": {
     "slide_type": "subslide"
    }
   },
   "source": [
    "## Exercise 1: Lists\n",
    "* create two lists which are different\n",
    "* compare them for equality\n",
    "* create a third list which has the same elements as one of the other lists\n",
    "* verify that Python says they are the same"
   ]
  },
  {
   "cell_type": "markdown",
   "metadata": {
    "slideshow": {
     "slide_type": "subslide"
    }
   },
   "source": [
    "## Accessing Elements of a List\n",
    "* the syntax for accessing the elements of a list is the same as the syntax for accessing the characters of a string—the bracket operator–__`[]`__\n",
    "* the expression inside the brackets specifies the index\n",
    "* the indices start at 0, because computer scientists start counting at 0\n",
    "* you can use negative indices to refer to the elements from the end backwards"
   ]
  },
  {
   "cell_type": "code",
   "execution_count": null,
   "metadata": {},
   "outputs": [],
   "source": [
    "print(fruits[0])"
   ]
  },
  {
   "cell_type": "code",
   "execution_count": null,
   "metadata": {},
   "outputs": [],
   "source": [
    "weird_list[1] = 'not Dave'\n",
    "print(weird_list)"
   ]
  },
  {
   "cell_type": "code",
   "execution_count": null,
   "metadata": {},
   "outputs": [],
   "source": [
    "fruits[-1] = 'raspberry'\n",
    "print(fruits)"
   ]
  },
  {
   "cell_type": "markdown",
   "metadata": {
    "slideshow": {
     "slide_type": "subslide"
    }
   },
   "source": [
    "## Iterating Through a List\n",
    "* a list is a _container_, so we can use Python's natural iteration to cycle through the list\n",
    "* syntax\n",
    "\n",
    "<pre><b>\n",
    "    for item in list:\n",
    "        do something with item (e.g., print)\n",
    "</b></pre>"
   ]
  },
  {
   "cell_type": "code",
   "execution_count": null,
   "metadata": {
    "slideshow": {
     "slide_type": "-"
    }
   },
   "outputs": [],
   "source": [
    "for fruit in fruits:\n",
    "    print(fruit)"
   ]
  },
  {
   "cell_type": "markdown",
   "metadata": {
    "slideshow": {
     "slide_type": "subslide"
    }
   },
   "source": [
    "## Slicing\n",
    "* Python has a very powerful feature called _slicing_ which allows you to specify a _slice_ (or subset) of a list (or a string as it turns out), rather than just a single element\n",
    "* slice syntax: __`container[start:stop:step]`__\n",
    "  * __`start`__ = the index at which to start\n",
    "  * __`stop`__ = the index at which to stop (+1 or -1 depending on which direction)\n",
    "  * __`step`__ = how many indices to move forward (or backward)\n",
    "  * __`start`__, __`stop`__, and __`step`__ are _optional_!"
   ]
  },
  {
   "cell_type": "code",
   "execution_count": null,
   "metadata": {},
   "outputs": [],
   "source": [
    "string = 'Frank Benedict eats jam in the morning'\n",
    "string[6:9] + string[20:23] + string[24:27] + string[:5] + 'lin'"
   ]
  },
  {
   "cell_type": "code",
   "execution_count": null,
   "metadata": {},
   "outputs": [],
   "source": [
    "alphabet = 'abcdefghijklmnopqrstuvwxyz'\n",
    "print('13th letter of the alphabet is', alphabet[12])"
   ]
  },
  {
   "cell_type": "code",
   "execution_count": null,
   "metadata": {},
   "outputs": [],
   "source": [
    "print('Every other letter in the 1st half of the alphabet:',\n",
    "      alphabet[:13:2])"
   ]
  },
  {
   "cell_type": "code",
   "execution_count": null,
   "metadata": {},
   "outputs": [],
   "source": [
    "print('Every other letter in the 2nd half of the alphabet:',\n",
    "      alphabet[13::2])"
   ]
  },
  {
   "cell_type": "code",
   "execution_count": null,
   "metadata": {},
   "outputs": [],
   "source": [
    "print('The alphabet backwards is', alphabet[::-1])"
   ]
  },
  {
   "cell_type": "code",
   "execution_count": null,
   "metadata": {},
   "outputs": [],
   "source": [
    "string = input('Enter a string: ')\n",
    "print('The last 3 characters of the string are:', string[-3:])"
   ]
  },
  {
   "cell_type": "code",
   "execution_count": null,
   "metadata": {
    "slideshow": {
     "slide_type": "-"
    }
   },
   "outputs": [],
   "source": [
    "# Works the same with lists...\n",
    "print(fruits)"
   ]
  },
  {
   "cell_type": "code",
   "execution_count": null,
   "metadata": {
    "slideshow": {
     "slide_type": "-"
    }
   },
   "outputs": [],
   "source": [
    "print(fruits[::-1])"
   ]
  },
  {
   "cell_type": "code",
   "execution_count": null,
   "metadata": {
    "slideshow": {
     "slide_type": "-"
    }
   },
   "outputs": [],
   "source": [
    "print(fruits[3:])"
   ]
  },
  {
   "cell_type": "code",
   "execution_count": null,
   "metadata": {
    "slideshow": {
     "slide_type": "-"
    }
   },
   "outputs": [],
   "source": [
    "print(fruits[:3])"
   ]
  },
  {
   "cell_type": "code",
   "execution_count": null,
   "metadata": {
    "slideshow": {
     "slide_type": "-"
    }
   },
   "outputs": [],
   "source": [
    "print('The middle 3 fruits:', fruits[2:5])"
   ]
  },
  {
   "cell_type": "code",
   "execution_count": null,
   "metadata": {
    "slideshow": {
     "slide_type": "-"
    }
   },
   "outputs": [],
   "source": [
    "print('Every other fruit:', fruits[::2])"
   ]
  },
  {
   "cell_type": "markdown",
   "metadata": {
    "slideshow": {
     "slide_type": "subslide"
    }
   },
   "source": [
    "## Adding to a List...\n",
    "* the __`append()`__ function will add an item to the end of the list\n",
    "* the __`insert()`__ function will add an item at a particular offset, moving the remaining item down in the process\n",
    "* the __`extend()`__ function (also invoked via the __`+=`__ operator) will add a list to a list, one element at a time\n",
    "* NOTE: these functions (technically called _methods_) are a part of the list itself, which means that they are called by writing __`listname.append(item)`__, __`listname.insert(index, item)`__, and __`listname.extend(otherlist)`__"
   ]
  },
  {
   "cell_type": "code",
   "execution_count": null,
   "metadata": {},
   "outputs": [],
   "source": [
    "print(fruits)\n",
    "fruits.append('lemon') # NOT append(list_of_fruits, 'lemon')\n",
    "fruits"
   ]
  },
  {
   "cell_type": "code",
   "execution_count": null,
   "metadata": {},
   "outputs": [],
   "source": [
    "fruits.insert(4, 'tomato')\n",
    "fruits"
   ]
  },
  {
   "cell_type": "code",
   "execution_count": null,
   "metadata": {},
   "outputs": [],
   "source": [
    "more_fruits = ['lime', 'watermelon']\n",
    "fruits.extend(more_fruits) # list_of_fruits += more_fruits\n",
    "fruits"
   ]
  },
  {
   "cell_type": "markdown",
   "metadata": {
    "slideshow": {
     "slide_type": "subslide"
    }
   },
   "source": [
    "## Lab 1: Lists\n",
    "* create an empty list\n",
    "* write Python code to repeatedly ask the user for a name until the name entered is 'quit'\n",
    "* add each name to the list\n",
    "* after the user types 'quit' print every other name (first, third, fifth, etc.)\n",
    "* then print every other name (second, fourth, sixth, etc.)\n"
   ]
  },
  {
   "cell_type": "markdown",
   "metadata": {
    "slideshow": {
     "slide_type": "subslide"
    }
   },
   "source": [
    "## Creating a List with __`split()`__\n",
    "* the __`split()`__ function splits a string into a list\n",
    "* by default, __`split()`__ will split up a string using a space as the separator\n",
    "* ...but you can specify any separator you want"
   ]
  },
  {
   "cell_type": "code",
   "execution_count": null,
   "metadata": {},
   "outputs": [],
   "source": [
    "string = input('Enter a string and I will make a list out of it: ')\n",
    "mylist = string.split()\n",
    "mylist"
   ]
  },
  {
   "cell_type": "code",
   "execution_count": null,
   "metadata": {},
   "outputs": [],
   "source": [
    "comma_separated = 'eggs, milk, butter, cheese'\n",
    "shopping_list = comma_separated.split(', ')\n",
    "shopping_list"
   ]
  },
  {
   "cell_type": "markdown",
   "metadata": {
    "slideshow": {
     "slide_type": "subslide"
    }
   },
   "source": [
    "## Combining a List into a String with __`join()`__\n",
    "* __`join()`__ is used to take the elements of a list (or any sequence) and concatenate them into a single string\n",
    "* the syntax looks odd because __`join()`__ is a _string_ function–__not a list function__"
   ]
  },
  {
   "cell_type": "code",
   "execution_count": null,
   "metadata": {},
   "outputs": [],
   "source": [
    "', '.join(shopping_list)\n",
    "# want to write shopping_list.join(', ')"
   ]
  },
  {
   "cell_type": "code",
   "execution_count": null,
   "metadata": {},
   "outputs": [],
   "source": [
    "list_of_letters = list('Dunder Mifflin')\n",
    "print(list_of_letters)\n",
    "print(''.join(list_of_letters))"
   ]
  },
  {
   "cell_type": "code",
   "execution_count": null,
   "metadata": {},
   "outputs": [],
   "source": [
    "'+'.join(list('Python'))"
   ]
  },
  {
   "cell_type": "code",
   "execution_count": null,
   "metadata": {},
   "outputs": [],
   "source": [
    "'Tesla Rivian Polestar'.split()"
   ]
  },
  {
   "cell_type": "markdown",
   "metadata": {
    "slideshow": {
     "slide_type": "subslide"
    }
   },
   "source": [
    "## Group Lab: Jumble (Word Scrambling)\n",
    "* write a program which plays the jumble word game, i.e., it will present you with a scrambled word and you have to come up with the correctly spelled word\n",
    "  * you can use the __`random`__ module for this\n",
    "  * __`random.choice(container)`__ will return a random item from the container\n",
    "  * __`random.shuffle(container)`__ will shuffle a container so the items are scrambled\n",
    "  * you can't shuffle a string, so you'll need to put the characters into a list using the __`list()`__ function, then shuffle the list, then put the back into a string using __`join()`__"
   ]
  },
  {
   "cell_type": "markdown",
   "metadata": {
    "slideshow": {
     "slide_type": "subslide"
    }
   },
   "source": [
    "## Removing Items from a List\n",
    "* __`remove()`__ will remove an item by value\n",
    "* __`pop()`__ will remove an item by index (and return the item)\n",
    "* as is the case with the add functions, we call them as __`listname.remove(item)`__ and __`listname.pop(index)`__"
   ]
  },
  {
   "cell_type": "code",
   "execution_count": null,
   "metadata": {},
   "outputs": [],
   "source": [
    "fruits = ['banana', 'apple', 'lemon', 'pear', 'fig', 'mango','raspberry', 'lemon']\n",
    "print(fruits.pop(-3))"
   ]
  },
  {
   "cell_type": "code",
   "execution_count": null,
   "metadata": {},
   "outputs": [],
   "source": [
    "fruits"
   ]
  },
  {
   "cell_type": "code",
   "execution_count": null,
   "metadata": {},
   "outputs": [],
   "source": [
    "# Given what we know so far, remove ALL lemons from the list\n",
    "print(fruits.count('lemon'))\n",
    "\n",
    "while 'lemon' in fruits:\n",
    "    fruits.remove('lemon')\n",
    "fruits"
   ]
  },
  {
   "cell_type": "code",
   "execution_count": null,
   "metadata": {},
   "outputs": [],
   "source": [
    "# Take the remaining items and pop each item off until empty\n",
    "while fruits:\n",
    "    print('popping', fruits.pop(0))\n",
    "    print(fruits)"
   ]
  },
  {
   "cell_type": "markdown",
   "metadata": {
    "slideshow": {
     "slide_type": "subslide"
    }
   },
   "source": [
    "## Sorting a List\n",
    "* lists have a __`sort()`__ function\n",
    "* sorting is performed alphabetically or numerically by default\n",
    "* you can choose to sort in reverse (descending) order"
   ]
  },
  {
   "cell_type": "code",
   "execution_count": null,
   "metadata": {},
   "outputs": [],
   "source": [
    "fruits = ['banana', 'apple', 'lemon', 'pear', 'fig', 'mango', 'lemon']\n",
    "fruits"
   ]
  },
  {
   "cell_type": "code",
   "execution_count": null,
   "metadata": {},
   "outputs": [],
   "source": [
    "fruits.sort()\n",
    "fruits"
   ]
  },
  {
   "cell_type": "code",
   "execution_count": null,
   "metadata": {},
   "outputs": [],
   "source": [
    "fruits.sort(reverse=True)\n",
    "fruits"
   ]
  },
  {
   "cell_type": "markdown",
   "metadata": {
    "slideshow": {
     "slide_type": "subslide"
    }
   },
   "source": [
    "## Lab 2: List Management/Sorting\n",
    "* write a program to read in words\n",
    "* if the word begins with a vowel, put it in \"vowel\" list, otherwise put it in the \"consonant\" list\n",
    "* when the user types \"quit\", stop and print out the sorted list of words that begin with vowels, and the sorted list of words that begin with consonants"
   ]
  },
  {
   "cell_type": "markdown",
   "metadata": {
    "slideshow": {
     "slide_type": "subslide"
    }
   },
   "source": [
    "## Dictionaries\n",
    "* a Python _dictionary_ is an unordered collection of key-value pairs\n",
    "* instead of using integers as indices, dictionaries use a key, which is often a string\n",
    "* a dictionary maps a key to a value–give it the key as an index, and it will return the value\n",
    "* indeed they are called _maps_ in some languages"
   ]
  },
  {
   "cell_type": "code",
   "execution_count": null,
   "metadata": {},
   "outputs": [],
   "source": [
    "# creating a dictionary and initializing it\n",
    "cups = { 'tall': 12, 'grande': 16, 'venti': 20 }\n",
    "type(cups), cups"
   ]
  },
  {
   "cell_type": "code",
   "execution_count": null,
   "metadata": {},
   "outputs": [],
   "source": [
    "print('A tall cup contains', cups['tall'], 'ounces')"
   ]
  },
  {
   "cell_type": "code",
   "execution_count": null,
   "metadata": {},
   "outputs": [],
   "source": [
    "cups[0]"
   ]
  },
  {
   "cell_type": "code",
   "execution_count": null,
   "metadata": {},
   "outputs": [],
   "source": [
    "if 'trenta' in cups: # only looks at keys\n",
    "    print(cups['trenta'])"
   ]
  },
  {
   "cell_type": "code",
   "execution_count": null,
   "metadata": {},
   "outputs": [],
   "source": [
    "for thing in cups:\n",
    "    print(thing, cups[thing])"
   ]
  },
  {
   "cell_type": "code",
   "execution_count": null,
   "metadata": {
    "slideshow": {
     "slide_type": "subslide"
    }
   },
   "outputs": [],
   "source": [
    "# How about a dictionary to translate English into Spanish\n",
    "english_to_spanish = { 'hello': 'hola', 'one': 'uno', \n",
    "                      'please': 'por favor', 'coffee': 'café' }\n",
    "for word in \"hello one coffee please\".split():\n",
    "    print(english_to_spanish[word], end=' ')\n",
    "print()"
   ]
  },
  {
   "cell_type": "code",
   "execution_count": null,
   "metadata": {
    "slideshow": {
     "slide_type": "subslide"
    }
   },
   "outputs": [],
   "source": [
    "english_to_spanish['corn'] = 'maize'\n",
    "print(english_to_spanish)\n",
    "english_to_spanish['table'] = 'mesa'\n",
    "print(english_to_spanish)\n",
    "english_to_spanish['flour'] = 'arina'\n",
    "print(english_to_spanish)"
   ]
  },
  {
   "cell_type": "markdown",
   "metadata": {
    "slideshow": {
     "slide_type": "subslide"
    }
   },
   "source": [
    "## Group Lab: Roman Numerals\n",
    "* write a program that converts Roman numerals to Arabic numerals\n",
    "* use a dictionary where the keys are Roman numerals and the values are Arabic numerals\n",
    "* __`M = 1000, D = 500, C = 100, L = 50, X = 10, V = 5, I = 1`__\n",
    "* for example, __`MDCLXVI`__ would be __`1000 + 500 + 100 + 50 + 10 + 5 + 1 = 1666`__\n",
    "* once you get that working, think about this additional wrinkle:\n",
    "  * if a smaller value precedes a larger value, then the correct thing to do is to subtract the smaller value from the larger value\n",
    "  * e.g., __`IX = 10 - 1 = 9`__\n",
    "  * e.g., __`MCM = 1000 + (1000 - 100) = 1900`__"
   ]
  },
  {
   "cell_type": "markdown",
   "metadata": {
    "slideshow": {
     "slide_type": "subslide"
    }
   },
   "source": [
    "## Group Lab: Word Counting\n",
    "* write a program to read lines of text entered by the user\n",
    "* split the lines into words, and count the occurrences of each word using a dictionary\n",
    "* if the word is in dictionary (use the __`in`__ operator), increment its count\n",
    "* if the word is NOT in the dictionary, set its count to 1\n",
    "* stop when the user enters 'quit', and print out the words and their counts"
   ]
  },
  {
   "cell_type": "code",
   "execution_count": null,
   "metadata": {},
   "outputs": [],
   "source": []
  },
  {
   "cell_type": "markdown",
   "metadata": {
    "slideshow": {
     "slide_type": "subslide"
    }
   },
   "source": [
    "## Deleting from a __`dict`__\n",
    "* __`pop(key)`__ will remove the corresponding key/value pair from the __`dict`__\n",
    "* __`clear()`__ will remove ALL entries"
   ]
  },
  {
   "cell_type": "code",
   "execution_count": null,
   "metadata": {},
   "outputs": [],
   "source": [
    "cups.pop('not there')"
   ]
  },
  {
   "cell_type": "code",
   "execution_count": null,
   "metadata": {},
   "outputs": [],
   "source": [
    "if 'grande' in cups:\n",
    "    cups.pop('grande')\n",
    "cups"
   ]
  },
  {
   "cell_type": "code",
   "execution_count": null,
   "metadata": {},
   "outputs": [],
   "source": [
    "cups.clear()\n",
    "cups"
   ]
  },
  {
   "cell_type": "markdown",
   "metadata": {
    "slideshow": {
     "slide_type": "slide"
    }
   },
   "source": [
    "# Defining Our Own Functions"
   ]
  },
  {
   "cell_type": "markdown",
   "metadata": {
    "slideshow": {
     "slide_type": "subslide"
    }
   },
   "source": [
    "## What is a Function (Redux)?\n",
    "* a _function_ is a named, self-contained snippet of code which performs a specific task\n",
    "* functions are sometimes called procedures, subprograms, or methods\n",
    "* functions can accept some data as input, and can return some data as output\n",
    "* the input, which is optional, is called _parameters_ or _arguments_\n",
    "* the output, which is also optional, is called the _return value_\n",
    "* we use the __`def`__ keyword to define a function\n",
    "* the body of the function is indented\n",
    "* syntax\n",
    "\n",
    "<pre>\n",
    "    <b>\n",
    "    def funcname(arg1, arg2, ...):\n",
    "        statement(s)\n",
    "    </b>\n",
    "</pre>"
   ]
  },
  {
   "cell_type": "code",
   "execution_count": null,
   "metadata": {},
   "outputs": [],
   "source": [
    "# Here is a function which takes no input (parameters) and has\n",
    "# no return value. The things that are printed by the function\n",
    "# are not considered a return value.\n",
    "\n",
    "def print_header():\n",
    "    print('-' * 63)\n",
    "    print('   RESTRICTED ACCESS' * 3)\n",
    "    print('-' * 63)\n",
    "    \n",
    "print_header()\n",
    "print('you should not be reading this')\n",
    "print_header()"
   ]
  },
  {
   "cell_type": "code",
   "execution_count": null,
   "metadata": {},
   "outputs": [],
   "source": [
    "# This function takes a single argument (or parameter),\n",
    "# but it does not return anything.\n",
    "def pretty_print(message):\n",
    "    print_header()\n",
    "    print(message)\n",
    "    print_header()"
   ]
  },
  {
   "cell_type": "code",
   "execution_count": null,
   "metadata": {},
   "outputs": [],
   "source": [
    "pretty_print('                 DO NOT LOOK AT THIS SCREEN!')"
   ]
  },
  {
   "cell_type": "code",
   "execution_count": null,
   "metadata": {},
   "outputs": [],
   "source": [
    "# This function takes two arguments\n",
    "def print_sum(num1, num2):\n",
    "    print('the sum of', num1, 'and', num2, 'is', num1 + num2)\n",
    "\n",
    "print_sum(32, 48)"
   ]
  },
  {
   "cell_type": "markdown",
   "metadata": {
    "slideshow": {
     "slide_type": "subslide"
    }
   },
   "source": [
    "## Group Lab: Mastermind/Cows and Bulls Game\n",
    "* your program should generate a 4-digit \"secret\" number, where the digits are  all different\n",
    "* the player tries to guess the number  who gives the number of matches. If the matching digits are in their right positions, they are \"bulls\", if in different positions, they are \"cows\". "
   ]
  },
  {
   "cell_type": "markdown",
   "metadata": {
    "slideshow": {
     "slide_type": "subslide"
    }
   },
   "source": [
    "## Scope\n",
    "* the _scope_ of a variable is the part of the program in which the identifier can be accessed (true for functions as well)\n",
    "* so far we have been creating variables in \"global scope\", which means they can be accessed anywhere in the program, i.e., _globally_\n",
    "* when we create a variable inside a function it can be accessed from that point until the end of the function–once the function exits, the variable is no longer accessible"
   ]
  },
  {
   "cell_type": "code",
   "execution_count": null,
   "metadata": {},
   "outputs": [],
   "source": [
    "def function_scope():\n",
    "    print('in function function_scope()')\n",
    "    print('creating the variable \"funcvar\"')\n",
    "    funcvar = 'this variable was created inside the function'\n",
    "    print('funcvar =', funcvar)\n",
    "    print('leaving function function_scope()')\n",
    "    \n",
    "function_scope()\n",
    "print(funcvar)\n"
   ]
  },
  {
   "cell_type": "markdown",
   "metadata": {
    "slideshow": {
     "slide_type": "subslide"
    }
   },
   "source": [
    "## The __`return`__ Statement\n",
    "* if a function wants to return a value to its caller, it must use the __`return`__ statement\n",
    "* whatever value you put in the __`return`__ statement is returned "
   ]
  },
  {
   "cell_type": "code",
   "execution_count": null,
   "metadata": {
    "scrolled": true
   },
   "outputs": [],
   "source": [
    "def adder(x, y):\n",
    "    return x + y\n",
    "\n",
    "adder(21, 34)"
   ]
  },
  {
   "cell_type": "code",
   "execution_count": null,
   "metadata": {},
   "outputs": [],
   "source": [
    "var = adder(-3, 1.0) # adder() returns the sum of its two arguments\n",
    "print(var)"
   ]
  },
  {
   "cell_type": "markdown",
   "metadata": {
    "slideshow": {
     "slide_type": "subslide"
    }
   },
   "source": [
    "## Boolean Functions\n",
    "* functions can return any datatype, but let's consider the class of functions that return a Boolean value, i.e., __`True`__ or __`False`__ \n",
    "* these functions can be used to make our code more readable, especially if we name them __`is_...()`__"
   ]
  },
  {
   "cell_type": "code",
   "execution_count": null,
   "metadata": {},
   "outputs": [],
   "source": [
    "def is_even(number):\n",
    "    return number % 2 == 0\n",
    "\n",
    "num = int(input('Enter a number: '))\n",
    "if is_even(num):\n",
    "    print(num, 'is an even number')\n",
    "else:\n",
    "    print(num, 'is an ODD number')"
   ]
  },
  {
   "cell_type": "markdown",
   "metadata": {
    "slideshow": {
     "slide_type": "subslide"
    }
   },
   "source": [
    "## Functions Can Call Other Functions\n",
    "* ideally, when we write code to solve a problem, we break the problem down into subproblems, and then break those down further into subproblems, etc.\n",
    "* when the problems are \"small enough,\" we write functions to solve them\n",
    "* a good rule of thumb is that if your explanation of what a function does contains the word _and_, then it needs to be broken down even further\n",
    "* better to have too many functions than too few\n",
    "<pre>\n",
    "    <b>\n",
    "    def task1(arg1, arg2, ...):\n",
    "        statement(s)\n",
    "        task2(...)\n",
    "        statement(s)\n",
    "        \n",
    "    def task2(arg1, arg2, ...):\n",
    "        statement(s)\n",
    "        task3(...)\n",
    "        statement(s)\n",
    "        \n",
    "     def task3(arg1, arg2, ...):\n",
    "        statement(s)\n",
    "        \n",
    "     # Now call the first function\n",
    "     task1(...)   \n",
    "    </b>\n",
    "</pre>\n",
    "* in order for one function to call another, the function being called has to have been seen by the interpreter or Python won't know what it is\n",
    "* but as written above, it's fine, because the Python intepreter sees all three functions before the call of __`task1()`__ occurs"
   ]
  },
  {
   "cell_type": "markdown",
   "metadata": {
    "slideshow": {
     "slide_type": "subslide"
    }
   },
   "source": [
    "## Lab: Functions\n",
    "* write __max3__, a function to find the maximum of three values (first create a function that finds the maximum of two values and have __max3__ call it)\n",
    "* write a function to sum all of the numbers in a list\n",
    "* write a function which accepts a list as its argument and returns a new list with all of the duplicates removed (e.g., __remove_dupes([3, 1, 2, 3, 1, 3, 3, 4, 1])__ would return [3, 1, 2, 4])\n",
    "* write a function to check whether its string argument is a pangram (i.e., it contains all of the letters of the alphabet)\n",
    "* write a Boolean function which accepts a string argument and indicates whether it is a palindrome (i.e., it reads the same backwards and forwards–e.g., \"radar\")\n",
    " * once you get that, try to make it work even if the string contains spaces, e.g., \"Ten animals I slam in a net\"\n",
    " * try to use slices if you didn't already"
   ]
  },
  {
   "cell_type": "markdown",
   "metadata": {
    "slideshow": {
     "slide_type": "slide"
    }
   },
   "source": [
    "\n",
    "# Modules"
   ]
  },
  {
   "cell_type": "markdown",
   "metadata": {
    "slideshow": {
     "slide_type": "subslide"
    }
   },
   "source": [
    "## What is a Module?\n",
    "* a module is file containing one or more related functions\n",
    "* we can _import_ the module into our program, giving us access to those functions\n",
    "* the __`string`__ module used to give us access to functions which manipulate strings, but  these functions have been built in to Python strings for a while\n",
    "  * the real value of the string module is the constants it defines\n",
    "* the __`math`__ module gives us access to math functions such as __`sqrt`__, __`sin`__, and __`factorial`__\n",
    "* the random module gives us access to functions that generate random numbers\n"
   ]
  },
  {
   "cell_type": "code",
   "execution_count": null,
   "metadata": {},
   "outputs": [],
   "source": [
    "import string\n",
    "print(string.digits)\n",
    "print(string.punctuation)\n",
    "print(string.ascii_uppercase)\n",
    "print(string.ascii_letters)"
   ]
  },
  {
   "cell_type": "code",
   "execution_count": null,
   "metadata": {},
   "outputs": [],
   "source": [
    "import math\n",
    "print(math.sqrt(2))\n",
    "print(math.sin(math.pi / 2.0)) # 90 degrees in radians\n",
    "print(math.factorial(52))"
   ]
  },
  {
   "cell_type": "code",
   "execution_count": null,
   "metadata": {},
   "outputs": [],
   "source": [
    "import random\n",
    "# random.choice() is a really useful function which randomly chooses an item from a sequence\n",
    "list_of_fruits = 'apple pear banana guava'.split()\n",
    "print(random.choice(list_of_fruits))\n",
    "# random.randint(a, b) returns a random integer between a and b (inclusive)\n",
    "print(random.randint(1, 100))"
   ]
  },
  {
   "cell_type": "markdown",
   "metadata": {
    "slideshow": {
     "slide_type": "slide"
    }
   },
   "source": [
    "## Additional Group Programming Projects\n",
    "* we will work on these together to help solidify concepts"
   ]
  },
  {
   "cell_type": "markdown",
   "metadata": {
    "slideshow": {
     "slide_type": "subslide"
    }
   },
   "source": [
    "## Chutes and Ladders\n",
    "* write Python code to play the game \"Chutes and Ladders\" (board shown below)\n",
    "<img src=\"images/chutes.jpg\" height=\"300 px\" width=\"300 px\">\n",
    "  \n",
    "  * each player rolls a die and moves the number of spaces on the face of the die (1-6)\n",
    "  * if the player lands on a ladder, the player moves up to the space at the top of the ladder\n",
    "  * if the player lands on a chute, the player moves down to the space at the bottom of the chute\n",
    "  * winner must land on 100 exactly, so if player is at square 97:\n",
    "    * rolling a 1 would move the player to 78\n",
    "    * rolling a 2 would move the player to 99\n",
    "    * rolling a 3 would move the player to 100, winning the game\n",
    "    * rolling a 4, 5, or 6 would cause the player to remain at square 97\n",
    "  * player will play against the computer\n",
    "  * allow the player to enter a specific value from 1-6 (in order to test) or simply hit ENTER, which causes the program to generate a random roll for the player\n",
    "  \n"
   ]
  },
  {
   "cell_type": "markdown",
   "metadata": {
    "slideshow": {
     "slide_type": "subslide"
    }
   },
   "source": [
    "## The Monty Hall Problem\n",
    "* https://en.wikipedia.org/wiki/Monty_Hall_problem\n",
    "* The goal is to simulate it. In other words, pick a random door behind which the “car” is hidden, then pick a random door that represents the choice made by the contestant, then have the contestant switch to the other door. Ask how many times to run this simulation and you should see it converging on a 66.67% probability that the contestant wins the car by switching. These are the only two possible scenarios:\n",
    "  1. contestant picks car on first try, Monty Hall reveals a goat behind one of the remaining doors, contestant switches to final remaining door, and loses\n",
    "  1. contestant does not pick car on first try, Monty Hall reveals a goat behind one of the remaining doors, contestant switches to final remaining door, and wins\n",
    "* Your simulation should show that #1 happens 1/3 of the time (because with 3 doors, there is a 1/3 chance of picking the car on the first choice), and that #2 happens 2/3 of the time.\n",
    "* Let the user enter the number of doors, so as the number of doors increases, the benefit from switching increases. As an example, consider how it would work with 100 doors. Contest picks a door, Monty Hall shows the contestant that nothing of value is behind 98 of the other doors, and then asks if contestant wants to stick with original choice or switch to the one remaining door. In this example, the contestant clearly had a 1/100 chance of getting car on first try, but if contestant switches, there is a 99/100 chance the car will be behind the remaining door. So your simulation should show that with 100 doors, the benefit from switching occurs 99% of the time."
   ]
  },
  {
   "cell_type": "markdown",
   "metadata": {
    "slideshow": {
     "slide_type": "subslide"
    }
   },
   "source": [
    "## The Sieve of Eratosthenes\n",
    "* write a program to find prime numbers (numbers which are divisible only by themselves and 1, e.g., __`2, 3, 29, 31, 101, 419, 997`__) up to a given number using Eratosthene's Sieve:\n",
    "  * start with a list of all of the numbers from 2 up to the given number, e.g., if the given number if 25, you'd start with __`[2, 3, 4, 5, 6, 7, 8, 9, 10, 11, 12, 13, 14, 15, 16, 17, 18, 19, 20, 21, 22, 23, 24, 25]`__\n",
    "  * remove all of the multiples of the first number (2), so you now have __`[2, 3, 5, 7, 9, 11, 13, 15, 17, 19, 21, 23, 25]`__\n",
    "  * now remove all of the multiples of the next number (3), so you now have __`[2, 3, 5, 7, 11, 13, 17, 19, 23, 25]`__\n",
    "  * keep doing this, removing multiples of the next number (5), (i.e., 10, 15, 20, and 25–they're already all removed except for 25)\n",
    "  * stop when 2 times the next number you land on is larger than the given number–in this case you'd stop at 13, since 13 * 2  > 25\n",
    "  * at this point every number in the list is prime\n",
    "  * try your solution with large numbers and compare against list of primes (e.g., https://miniwebtool.com/list-of-prime-numbers/)\n",
    "  * removing the multiples from the list is fairly inefficient, and you should notice your program slowing down considerably with large numbers, so now try setting the multiples to 0, rather than removing them, e.g.,\n",
    "    * __`[2, 3, 0, 5, 0, 7, 0, 9, 0, 11, 0, 13, 0, 15, 0, 17, 0, 19, 0, 21, 0, 23, 0, 25]`__\n",
    "    * __`[2, 3, 0, 5, 0, 7, 0, 0, 0, 11, 0, 13, 0, 0, 0, 17, 0, 19, 0, 0, 0, 23, 0, 25]`__\n",
    "    * __`[2, 3, 0, 5, 0, 7, 0, 0, 0, 11, 0, 13, 0, 0, 0, 17, 0, 19, 0, 0, 0, 23, 0, 0]`__"
   ]
  }
 ],
 "metadata": {
  "celltoolbar": "Slideshow",
  "kernelspec": {
   "display_name": "Python 3 (ipykernel)",
   "language": "python",
   "name": "python3"
  },
  "language_info": {
   "codemirror_mode": {
    "name": "ipython",
    "version": 3
   },
   "file_extension": ".py",
   "mimetype": "text/x-python",
   "name": "python",
   "nbconvert_exporter": "python",
   "pygments_lexer": "ipython3",
   "version": "3.12.2"
  }
 },
 "nbformat": 4,
 "nbformat_minor": 4
}
